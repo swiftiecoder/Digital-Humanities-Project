{
 "cells": [
  {
   "cell_type": "code",
   "execution_count": null,
   "metadata": {
    "colab": {
     "base_uri": "https://localhost:8080/"
    },
    "id": "rk-EdvHYx37_",
    "outputId": "8fa34559-f3a8-499e-87a9-869daad4d2da"
   },
   "outputs": [],
   "source": [
    "from bs4 import BeautifulSoup\n",
    "import re\n",
    "import lyricsgenius\n",
    "import requests\n",
    "from pathlib import Path\n",
    "import time\n",
    "import os\n",
    "from dotenv import load_dotenv\n",
    "load_dotenv(r\"C:\\Users\\shaharyar\\Documents\\VS Code\\Digital Humanities\\dataset collection\\.env\")"
   ]
  },
  {
   "cell_type": "code",
   "execution_count": null,
   "metadata": {
    "id": "0CZyoRgHx80r"
   },
   "outputs": [],
   "source": [
    "GENIUS_API_KEY = os.getenv(\"GENIUS_API_KEY\")"
   ]
  },
  {
   "cell_type": "code",
   "execution_count": 26,
   "metadata": {
    "id": "NbeTNnhQxy9b"
   },
   "outputs": [],
   "source": [
    "def clean_up(song_title):\n",
    "\n",
    "    if \"Ft\" in song_title:\n",
    "        before_ft_pattern = re.compile(r\".*(?=\\(Ft)\")\n",
    "        song_title_before_ft = before_ft_pattern.search(song_title).group(0)\n",
    "        clean_song_title = song_title_before_ft.strip()\n",
    "        clean_song_title = clean_song_title.replace(\"/\", \"-\")\n",
    "    \n",
    "    else:\n",
    "        song_title_no_lyrics = song_title.replace(\"Lyrics\", \"\")\n",
    "        clean_song_title = song_title_no_lyrics.strip()\n",
    "        clean_song_title = clean_song_title.replace(\"/\", \"-\")\n",
    "    \n",
    "    return clean_song_title"
   ]
  },
  {
   "cell_type": "code",
   "execution_count": 27,
   "metadata": {
    "colab": {
     "base_uri": "https://localhost:8080/",
     "height": 425
    },
    "id": "QgO7TZP0x5zo",
    "outputId": "b73313ca-b70c-4ae6-b379-cac0f311e704"
   },
   "outputs": [],
   "source": [
    "def get_all_songs_from_album(artist, album_name):\n",
    "    \n",
    "    artist = artist.replace(\" \", \"-\")\n",
    "    album_name = album_name.replace(\" \", \"-\")\n",
    "    \n",
    "    response = requests.get(f\"https://genius.com/albums/{artist}/{album_name}\")\n",
    "    html_string = response.text\n",
    "    document = BeautifulSoup(html_string, \"html.parser\")\n",
    "    song_title_tags = document.find_all(\"h3\", attrs={\"class\": \"chart_row-content-title\"})\n",
    "    song_titles = [song_title.text for song_title in song_title_tags]\n",
    "    \n",
    "    clean_songs = []\n",
    "    for song_title in song_titles:\n",
    "        clean_song = clean_up(song_title)\n",
    "        clean_songs.append(clean_song)\n",
    "        \n",
    "    return clean_songs"
   ]
  },
  {
   "cell_type": "code",
   "execution_count": 28,
   "metadata": {
    "id": "-BqcTnGDydgS"
   },
   "outputs": [],
   "source": [
    "def download_album_lyrics(artist, album_name): \n",
    "\n",
    "    LyricsGenius = lyricsgenius.Genius(GENIUS_API_KEY,\n",
    "                skip_non_songs=True,\n",
    "                remove_section_headers=True,\n",
    "                verbose=False,\n",
    "                sleep_time=1,\n",
    "                retries=3)\n",
    "        \n",
    "    # With the function that we previously created, go to Genius.com and get all song titles for a particular artist's album\n",
    "    clean_songs = get_all_songs_from_album(artist, album_name)\n",
    "    \n",
    "    for song in clean_songs:\n",
    "        \n",
    "        #For each song in the list, search for that song with LyricsGenius\n",
    "        song_object = LyricsGenius.search_song(song, artist)\n",
    "        \n",
    "        #If the song is not empty\n",
    "        if song_object != None:\n",
    "            \n",
    "            #Do some cleaning and prep for the filename of the song\n",
    "            artist_title = artist.replace(\" \", \"-\")\n",
    "            album_title = album_name.replace(\" \", \"-\")\n",
    "            song_title = song.replace(\"/\", \"-\")\n",
    "            song_title = song.replace(\" \", \"-\")\n",
    "            \n",
    "            #Establish the filename for each song inside a directory that begins with the artist's name and album title\n",
    "            custom_filename=f\"{artist_title}_{album_title}/{song_title}\"\n",
    "            \n",
    "            #A line of code that we need to create a directory\n",
    "             #os.makedirs(os.path.dirname(filename), exist_ok=True)\n",
    "            Path(f\"{artist_title}_{album_title}\").mkdir(parents=True, exist_ok=True)\n",
    "            \n",
    "            #Save the lyrics for the song as a text file\n",
    "            song_object.save_lyrics(filename=custom_filename, extension='txt', sanitize=False)\n",
    "        \n",
    "        #If the song doesn't contain lyrics\n",
    "        else:\n",
    "            print('No lyrics')\n",
    "        \n",
    "        time.sleep(2)"
   ]
  },
  {
   "cell_type": "code",
   "execution_count": 29,
   "metadata": {},
   "outputs": [
    {
     "name": "stdout",
     "output_type": "stream",
     "text": [
      "Wrote Halsey_The-Great-Impersonator/Only-Living-Girl-in-LA.txt.\n",
      "Wrote Halsey_The-Great-Impersonator/Ego.txt.\n",
      "Wrote Halsey_The-Great-Impersonator/Dog-Years.txt.\n",
      "Wrote Halsey_The-Great-Impersonator/Letter-to-God-(1974).txt.\n",
      "Wrote Halsey_The-Great-Impersonator/Panic-Attack.txt.\n",
      "Wrote Halsey_The-Great-Impersonator/The-End.txt.\n",
      "Wrote Halsey_The-Great-Impersonator/I-Believe-in-Magic.txt.\n",
      "Wrote Halsey_The-Great-Impersonator/Letter-to-God-(1983).txt.\n",
      "Wrote Halsey_The-Great-Impersonator/Hometown.txt.\n",
      "Wrote Halsey_The-Great-Impersonator/I-Never-Loved-You.txt.\n",
      "Wrote Halsey_The-Great-Impersonator/Darwinism.txt.\n",
      "Wrote Halsey_The-Great-Impersonator/Lonely-is-the-Muse.txt.\n",
      "Wrote Halsey_The-Great-Impersonator/Arsonist.txt.\n",
      "Wrote Halsey_The-Great-Impersonator/Life-of-the-Spider-(Draft).txt.\n",
      "Wrote Halsey_The-Great-Impersonator/Hurt-Feelings.txt.\n",
      "Wrote Halsey_The-Great-Impersonator/Lucky.txt.\n",
      "Wrote Halsey_The-Great-Impersonator/Letter-to-God-(1998).txt.\n",
      "Wrote Halsey_The-Great-Impersonator/The-Great-Impersonator.txt.\n",
      "Wrote Halsey_The-Great-Impersonator/Alice-of-the-Upper-Class.txt.\n"
     ]
    }
   ],
   "source": [
    "download_album_lyrics(artist=\"Halsey\", album_name=\"The Great Impersonator\")"
   ]
  },
  {
   "cell_type": "code",
   "execution_count": null,
   "metadata": {},
   "outputs": [],
   "source": []
  }
 ],
 "metadata": {
  "colab": {
   "provenance": []
  },
  "kernelspec": {
   "display_name": "Python 3",
   "name": "python3"
  },
  "language_info": {
   "codemirror_mode": {
    "name": "ipython",
    "version": 3
   },
   "file_extension": ".py",
   "mimetype": "text/x-python",
   "name": "python",
   "nbconvert_exporter": "python",
   "pygments_lexer": "ipython3",
   "version": "3.12.4"
  }
 },
 "nbformat": 4,
 "nbformat_minor": 0
}
