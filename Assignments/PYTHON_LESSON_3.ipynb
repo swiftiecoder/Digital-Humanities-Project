{
 "cells": [
  {
   "cell_type": "code",
   "execution_count": 99,
   "metadata": {},
   "outputs": [],
   "source": [
    "### WELCOME to our THIRD PYTHON LESSON.\n",
    "# The first thing we need to get better at is PARSING and CLEANING messy text\n",
    "# Usually text comes to us as messy or not clean in some way; there's garbage in there\n",
    "# This is a tedious and onerous task but it's gotta be done because otherwise whatever\n",
    "# fancy model you have isn't going to work right because your data is messy and that\n",
    "# noise will alter and negatively impact your language model/algorithm\n"
   ]
  },
  {
   "cell_type": "code",
   "execution_count": 100,
   "metadata": {},
   "outputs": [],
   "source": [
    "# OK here is our previous text from last week but I added in some garbage\n",
    "# that you will typically encounter in text data"
   ]
  },
  {
   "cell_type": "code",
   "execution_count": 101,
   "metadata": {},
   "outputs": [],
   "source": [
    "text = \"\"\"\n",
    "******Who that cares much to know the history of man, and how the mysterious mixture behaves \\\n",
    "under the varying CHAPTER1 experiments of Time, has not dwelt, \\\n",
    "at least briefly, #$%^& on the life of Saint Theresa, has not smiled with \\\n",
    "some gentleness at the thought of the little girl walking forth one \\\n",
    "morning &*&!@@@ hand-in-hand 987364527 with her still smaller brother, to go and seek \\\n",
    "martyrdom in the country of the Moors?  Out they toddled from rugged \\\n",
    "Avila, wide-eyed and helpless-looking as two fawns, but with human \\\n",
    "hearts, already beating to a national##### CHAPTER1 idea; until domestic reality met \\\n",
    "them in the shape of uncles, and turned &*^% them back from their great \\\n",
    "resolve.  That child-pilgrimage was a fit beginning.  Theresa's \\\n",
    "passionate, ideal nature 893743645 demanded an epic life: what were many-volumed \\\n",
    "romances of chivalry and the social conquests of a brilliant girl to \\\n",
    "her?  Her ^&$#% flame quickly burned up that##### light fuel; and, fed from \\\n",
    "within, soared CHAPTER1 after some illimitable satisfaction, some object which \\\n",
    "would never justify weariness, which would CHAPTER2 reconcile self-despair with \\\n",
    "the rapturous consciousness of life beyond self.  She found her epos in \\\n",
    "the reform CHAPTER2 of a religious 39834347 order.\n",
    "\"\"\""
   ]
  },
  {
   "cell_type": "code",
   "execution_count": 102,
   "metadata": {},
   "outputs": [
    {
     "name": "stdout",
     "output_type": "stream",
     "text": [
      "['******Who', 'that', 'cares', 'much', 'to', 'know', 'the', 'history', 'of', 'man,', 'and', 'how', 'the', 'mysterious', 'mixture', 'behaves', 'under', 'the', 'varying', 'experiments', 'of', 'Time,', 'has', 'not', 'dwelt,', 'at', 'least', 'briefly,', '#$%^&', 'on', 'the', 'life', 'of', 'Saint', 'Theresa,', 'has', 'not', 'smiled', 'with', 'some', 'gentleness', 'at', 'the', 'thought', 'of', 'the', 'little', 'girl', 'walking', 'forth', 'one', 'morning', '&*&!@@@', 'hand-in-hand', '987364527', 'with', 'her', 'still', 'smaller', 'brother,', 'to', 'go', 'and', 'seek', 'martyrdom', 'in', 'the', 'country', 'of', 'the', 'Moors?', 'Out', 'they', 'toddled', 'from', 'rugged', 'Avila,', 'wide-eyed', 'and', 'helpless-looking', 'as', 'two', 'fawns,', 'but', 'with', 'human', 'hearts,', 'already', 'beating', 'to', 'a', 'national#####', 'idea;', 'until', 'domestic', 'reality', 'met', 'them', 'in', 'the', 'shape', 'of', 'uncles,', 'and', 'turned', '&*^%', 'them', 'back', 'from', 'their', 'great', 'resolve.', 'That', 'child-pilgrimage', 'was', 'a', 'fit', 'beginning.', \"Theresa's\", 'passionate,', 'ideal', 'nature', '893743645', 'demanded', 'an', 'epic', 'life:', 'what', 'were', 'many-volumed', 'romances', 'of', 'chivalry', 'and', 'the', 'social', 'conquests', 'of', 'a', 'brilliant', 'girl', 'to', 'her?', 'Her', '^&$#%', 'flame', 'quickly', 'burned', 'up', 'that#####', 'light', 'fuel;', 'and,', 'fed', 'from', 'within,', 'soared', 'after', 'some', 'illimitable', 'satisfaction,', 'some', 'object', 'which', 'would', 'never', 'justify', 'weariness,', 'which', 'would', 'CHAPTER2', 'reconcile', 'self-despair', 'with', 'the', 'rapturous', 'consciousness', 'of', 'life', 'beyond', 'self.', 'She', 'found', 'her', 'epos', 'in', 'the', 'reform', 'CHAPTER2', 'of', 'a', 'religious', '39834347', 'order.']\n"
     ]
    }
   ],
   "source": [
    "# OK you can see the stuff we want to excise - the CHAPTER stuff and then the crazy symbol stuff\n",
    "\n",
    "# Getting rid of the chapters stuff seems easy; let's try this\n",
    "\n",
    "text1 = text.split()\n",
    "\n",
    "keep = []\n",
    "\n",
    "for word in text1:\n",
    "    if word != 'CHAPTER1':\n",
    "        keep.append(word)\n",
    "        \n",
    "print(keep)"
   ]
  },
  {
   "cell_type": "code",
   "execution_count": 103,
   "metadata": {},
   "outputs": [
    {
     "name": "stdout",
     "output_type": "stream",
     "text": [
      "['******Who', 'that', 'cares', 'much', 'to', 'know', 'the', 'history', 'of', 'man,', 'and', 'how', 'the', 'mysterious', 'mixture', 'behaves', 'under', 'the', 'varying', 'experiments', 'of', 'Time,', 'has', 'not', 'dwelt,', 'at', 'least', 'briefly,', '#$%^&', 'on', 'the', 'life', 'of', 'Saint', 'Theresa,', 'has', 'not', 'smiled', 'with', 'some', 'gentleness', 'at', 'the', 'thought', 'of', 'the', 'little', 'girl', 'walking', 'forth', 'one', 'morning', '&*&!@@@', 'hand-in-hand', '987364527', 'with', 'her', 'still', 'smaller', 'brother,', 'to', 'go', 'and', 'seek', 'martyrdom', 'in', 'the', 'country', 'of', 'the', 'Moors?', 'Out', 'they', 'toddled', 'from', 'rugged', 'Avila,', 'wide-eyed', 'and', 'helpless-looking', 'as', 'two', 'fawns,', 'but', 'with', 'human', 'hearts,', 'already', 'beating', 'to', 'a', 'national#####', 'idea;', 'until', 'domestic', 'reality', 'met', 'them', 'in', 'the', 'shape', 'of', 'uncles,', 'and', 'turned', '&*^%', 'them', 'back', 'from', 'their', 'great', 'resolve.', 'That', 'child-pilgrimage', 'was', 'a', 'fit', 'beginning.', \"Theresa's\", 'passionate,', 'ideal', 'nature', '893743645', 'demanded', 'an', 'epic', 'life:', 'what', 'were', 'many-volumed', 'romances', 'of', 'chivalry', 'and', 'the', 'social', 'conquests', 'of', 'a', 'brilliant', 'girl', 'to', 'her?', 'Her', '^&$#%', 'flame', 'quickly', 'burned', 'up', 'that#####', 'light', 'fuel;', 'and,', 'fed', 'from', 'within,', 'soared', 'after', 'some', 'illimitable', 'satisfaction,', 'some', 'object', 'which', 'would', 'never', 'justify', 'weariness,', 'which', 'would', 'reconcile', 'self-despair', 'with', 'the', 'rapturous', 'consciousness', 'of', 'life', 'beyond', 'self.', 'She', 'found', 'her', 'epos', 'in', 'the', 'reform', 'of', 'a', 'religious', '39834347', 'order.']\n"
     ]
    }
   ],
   "source": [
    "# But still got the other CHAPTER thing\n",
    "\n",
    "keep2 = []\n",
    "\n",
    "for word in text1:\n",
    "    if (word != 'CHAPTER1') and (word != 'CHAPTER2'):\n",
    "        keep2.append(word)\n",
    "\n",
    "print(keep2)"
   ]
  },
  {
   "cell_type": "code",
   "execution_count": 104,
   "metadata": {},
   "outputs": [
    {
     "name": "stdout",
     "output_type": "stream",
     "text": [
      "['******Who', 'that', 'cares', 'much', 'to', 'know', 'the', 'history', 'of', 'man,', 'and', 'how', 'the', 'mysterious', 'mixture', 'behaves', 'under', 'the', 'varying', 'experiments', 'of', 'Time,', 'has', 'not', 'dwelt,', 'at', 'least', 'briefly,', '#$%^&', 'on', 'the', 'life', 'of', 'Saint', 'Theresa,', 'has', 'not', 'smiled', 'with', 'some', 'gentleness', 'at', 'the', 'thought', 'of', 'the', 'little', 'girl', 'walking', 'forth', 'one', 'morning', '&*&!@@@', 'hand-in-hand', '987364527', 'with', 'her', 'still', 'smaller', 'brother,', 'to', 'go', 'and', 'seek', 'martyrdom', 'in', 'the', 'country', 'of', 'the', 'Moors?', 'Out', 'they', 'toddled', 'from', 'rugged', 'Avila,', 'wide-eyed', 'and', 'helpless-looking', 'as', 'two', 'fawns,', 'but', 'with', 'human', 'hearts,', 'already', 'beating', 'to', 'a', 'national#####', 'idea;', 'until', 'domestic', 'reality', 'met', 'them', 'in', 'the', 'shape', 'of', 'uncles,', 'and', 'turned', '&*^%', 'them', 'back', 'from', 'their', 'great', 'resolve.', 'That', 'child-pilgrimage', 'was', 'a', 'fit', 'beginning.', \"Theresa's\", 'passionate,', 'ideal', 'nature', '893743645', 'demanded', 'an', 'epic', 'life:', 'what', 'were', 'many-volumed', 'romances', 'of', 'chivalry', 'and', 'the', 'social', 'conquests', 'of', 'a', 'brilliant', 'girl', 'to', 'her?', 'Her', '^&$#%', 'flame', 'quickly', 'burned', 'up', 'that#####', 'light', 'fuel;', 'and,', 'fed', 'from', 'within,', 'soared', 'after', 'some', 'illimitable', 'satisfaction,', 'some', 'object', 'which', 'would', 'never', 'justify', 'weariness,', 'which', 'would', 'reconcile', 'self-despair', 'with', 'the', 'rapturous', 'consciousness', 'of', 'life', 'beyond', 'self.', 'She', 'found', 'her', 'epos', 'in', 'the', 'reform', 'of', 'a', 'religious', '39834347', 'order.']\n"
     ]
    }
   ],
   "source": [
    "# OK but that's not very efficient! We need to GENERALIZE A RULE\n",
    "\n",
    "keep3 = []\n",
    "\n",
    "for word in text1:\n",
    "    if not word.startswith('CHAPTER'): # there is also endswith which works the same way\n",
    "        keep3.append(word)\n",
    "        \n",
    "print(keep3)"
   ]
  },
  {
   "cell_type": "code",
   "execution_count": 105,
   "metadata": {},
   "outputs": [
    {
     "name": "stdout",
     "output_type": "stream",
     "text": [
      "['that', 'cares', 'much', 'to', 'know', 'the', 'history', 'of', 'man,', 'and', 'how', 'the', 'mysterious', 'mixture', 'behaves', 'under', 'the', 'varying', 'CHAPTER1', 'experiments', 'of', 'Time,', 'has', 'not', 'dwelt,', 'at', 'least', 'briefly,', 'on', 'the', 'life', 'of', 'Saint', 'Theresa,', 'has', 'not', 'smiled', 'with', 'some', 'gentleness', 'at', 'the', 'thought', 'of', 'the', 'little', 'girl', 'walking', 'forth', 'one', 'morning', 'hand-in-hand', '987364527', 'with', 'her', 'still', 'smaller', 'brother,', 'to', 'go', 'and', 'seek', 'martyrdom', 'in', 'the', 'country', 'of', 'the', 'Moors?', 'Out', 'they', 'toddled', 'from', 'rugged', 'Avila,', 'wide-eyed', 'and', 'helpless-looking', 'as', 'two', 'fawns,', 'but', 'with', 'human', 'hearts,', 'already', 'beating', 'to', 'a', 'national#####', 'CHAPTER1', 'idea;', 'until', 'domestic', 'reality', 'met', 'them', 'in', 'the', 'shape', 'of', 'uncles,', 'and', 'turned', 'them', 'back', 'from', 'their', 'great', 'resolve.', 'That', 'child-pilgrimage', 'was', 'a', 'fit', 'beginning.', \"Theresa's\", 'passionate,', 'ideal', 'nature', '893743645', 'demanded', 'an', 'epic', 'life:', 'what', 'were', 'many-volumed', 'romances', 'of', 'chivalry', 'and', 'the', 'social', 'conquests', 'of', 'a', 'brilliant', 'girl', 'to', 'her?', 'Her', 'flame', 'quickly', 'burned', 'up', 'that#####', 'light', 'fuel;', 'and,', 'fed', 'from', 'within,', 'soared', 'CHAPTER1', 'after', 'some', 'illimitable', 'satisfaction,', 'some', 'object', 'which', 'would', 'never', 'justify', 'weariness,', 'which', 'would', 'CHAPTER2', 'reconcile', 'self-despair', 'with', 'the', 'rapturous', 'consciousness', 'of', 'life', 'beyond', 'self.', 'She', 'found', 'her', 'epos', 'in', 'the', 'reform', 'CHAPTER2', 'of', 'a', 'religious', '39834347', 'order.']\n"
     ]
    }
   ],
   "source": [
    "# Ok that works pretty good but the other bits of garbage don't have such a clear pattern\n",
    "# though they do have a pattern - they always include crazy non-alphabetic symbols\n",
    "\n",
    "# We can try this\n",
    "\n",
    "bad = ['!', '@', '#', '$', '%', '^', '&', '*']\n",
    "\n",
    "keep4 = []\n",
    "\n",
    "for word in text1:\n",
    "    if word[0] not in bad:\n",
    "        keep4.append(word)\n",
    "\n",
    "print(keep4)"
   ]
  },
  {
   "cell_type": "code",
   "execution_count": 106,
   "metadata": {},
   "outputs": [
    {
     "name": "stdout",
     "output_type": "stream",
     "text": [
      "\n",
      "******Who that cares much to know the history of man, and how the mysterious mixture behaves under the varying CHAPTER1 experiments of Time, has not dwelt, at least briefly, #$%^& on the life of Saint Theresa, has not smiled with some gentleness at the thought of the little girl walking forth one morning &*&!@@@ hand-in-hand 987364527 with her still smaller brother, to go and seek martyrdom in the country of the Moors?  Out they toddled from rugged Avila, wide-eyed and helpless-looking as two fawns, but with human hearts, already beating to a national##### CHAPTER1 idea; until domestic reality met them in the shape of uncles, and turned &*^% them back from their great resolve.  That child-pilgrimage was a fit beginning.  Theresa's passionate, ideal nature 893743645 demanded an epic life: what were many-volumed romances of chivalry and the social conquests of a brilliant girl to her?  Her ^&$#% flame quickly burned up that##### light fuel; and, fed from within, soared CHAPTER1 after some illimitable satisfaction, some object which would never justify weariness, which would CHAPTER2 reconcile self-despair with the rapturous consciousness of life beyond self.  She found her epos in the reform CHAPTER2 of a religious 39834347 order.\n",
      "\n"
     ]
    }
   ],
   "source": [
    "# OK so that's an OK hack but it's not very efficient and not at all generalizable\n",
    "# We need a more robust method\n",
    "\n",
    "# One useful strategy concerns REGULAR EXPRESSIONS or regex; regex is a big and complicated topic\n",
    "# that could take up a whole class. I find it useful in specific ways, so rather than teach you\n",
    "# the whole thing in a vacuum, I'll introduce parts that are useful\n",
    "\n",
    "# Here we need to work at the string level, at the character level, so let's recall our text as string\n",
    "\n",
    "print(text)"
   ]
  },
  {
   "cell_type": "code",
   "execution_count": 107,
   "metadata": {},
   "outputs": [],
   "source": [
    "# Next import the regex module\n",
    "\n",
    "import re\n"
   ]
  },
  {
   "cell_type": "code",
   "execution_count": 108,
   "metadata": {},
   "outputs": [
    {
     "name": "stdout",
     "output_type": "stream",
     "text": [
      "\n",
      "Who that cares much to know the history of man and how the mysterious mixture behaves under the varying CHAPTER experiments of Time has not dwelt at least briefly  on the life of Saint Theresa has not smiled with some gentleness at the thought of the little girl walking forth one morning  handinhand  with her still smaller brother to go and seek martyrdom in the country of the Moors?  Out they toddled from rugged Avila wideeyed and helplesslooking as two fawns but with human hearts already beating to a national CHAPTER idea until domestic reality met them in the shape of uncles and turned  them back from their great resolve  That childpilgrimage was a fit beginning  Theresa's passionate ideal nature  demanded an epic life what were manyvolumed romances of chivalry and the social conquests of a brilliant girl to her?  Her  flame quickly burned up that light fuel and fed from within soared CHAPTER after some illimitable satisfaction some object which would never justify weariness which would CHAPTER reconcile selfdespair with the rapturous consciousness of life beyond self  She found her epos in the reform CHAPTER of a religious  order\n",
      "\n"
     ]
    }
   ],
   "source": [
    "# The idea behind regex is that you can define a set of characters or character patterns you want to look for\n",
    "# in your string, and then do something to that, like excise it\n",
    "\n",
    "keep5 = re.sub('[!@#$%^&.,;:\\\\*\\\\-0-9*]', '', text)\n",
    "\n",
    "# What this is doing is defining a set of characters we don't want, then subbing them with an empty string',\n",
    "# and saving the output as keep5\n",
    "\n",
    "print(keep5)\n",
    "\n",
    "# And then we can split and so forth to get our list of words"
   ]
  },
  {
   "cell_type": "code",
   "execution_count": 109,
   "metadata": {},
   "outputs": [
    {
     "name": "stdout",
     "output_type": "stream",
     "text": [
      "\n",
      "******Who that cares much to know the history of man, and how the mysterious mixture behaves under the varying CHAPTER1 experiments of Time, has not dwelt, at least briefly, #$%^& on the life of Saint Theresa, has not smiled with some gentleness at the thought of the little girl walking forth one morning &*&!@@@ hand-in-hand 987364527 with her still smaller brother, to go and seek martyrdom in the country of the Moors?  Out they toddled from rugged Avila, wide-eyed and helpless-looking as two fawns, but with human hearts, already beating to a national##### CHAPTER1 idea; until domestic reality met them in the shape of uncles, and turned &*^% them back from their great resolve.  That child-pilgrimage was a fit beginning.  Theresa's passionate, ideal nature 893743645 demanded an epic life: what were many-volumed romances of chivalry and the social conquests of a brilliant girl to her?  Her ^&$#% flame quickly burned up that##### light fuel; and, fed from within, soared CHAPTER1 after some illimitable satisfaction, some object which would never justify weariness, which would CHAPTER2 reconcile self-despair with the rapturous consciousness of life beyond self.  She found her epos in the reform CHAPTER2 of a religious 39834347 order.\n",
      "\n"
     ]
    }
   ],
   "source": [
    "print(text)"
   ]
  },
  {
   "cell_type": "code",
   "execution_count": 110,
   "metadata": {},
   "outputs": [
    {
     "name": "stdout",
     "output_type": "stream",
     "text": [
      "['******Who', 'that', 'cares', 'much', 'to', 'know', 'the', 'history', 'of', 'man,', 'and', 'how', 'the', 'mysterious', 'mixture', 'behaves', 'under', 'the', 'varying', 'CHAPTER1', 'experiments', 'of', 'Time,', 'has', 'not', 'dwelt,', 'at', 'least', 'briefly,', '#$%^&', 'on', 'the', 'life', 'of', 'Saint', 'Theresa,', 'has', 'not', 'smiled', 'with', 'some', 'gentleness', 'at', 'the', 'thought', 'of', 'the', 'little', '', 'walking', 'forth', 'one', 'morning', '&*&!@@@', 'hand-in-hand', '987364527', 'with', 'her', 'still', 'smaller', 'brother,', 'to', 'go', 'and', 'seek', 'martyrdom', 'in', 'the', 'country', 'of', 'the', 'Moors?', 'Out', 'they', 'toddled', 'from', 'rugged', 'Avila,', 'wide-eyed', 'and', 'helpless-looking', 'as', 'two', 'fawns,', 'but', 'with', 'human', 'hearts,', 'already', 'beating', 'to', 'a', 'national#####', 'CHAPTER1', 'idea;', 'until', 'domestic', 'reality', 'met', 'them', 'in', 'the', 'shape', 'of', 'uncles,', 'and', 'turned', '&*^%', 'them', 'back', 'from', 'their', 'great', 'resolve.', 'That', 'child-pilgrimage', 'was', 'a', 'fit', 'beginning.', \"Theresa's\", 'passionate,', 'ideal', 'nature', '893743645', 'demanded', 'an', 'epic', 'life:', 'what', 'were', 'many-volumed', 'romances', 'of', 'chivalry', 'and', 'the', 'social', 'conquests', 'of', 'a', 'brilliant', '', 'to', 'her?', 'Her', '^&$#%', 'flame', 'quickly', 'burned', 'up', 'that#####', 'light', 'fuel;', 'and,', 'fed', 'from', 'within,', 'soared', 'CHAPTER1', 'after', 'some', 'illimitable', 'satisfaction,', 'some', 'object', 'which', 'would', 'never', 'justify', 'weariness,', 'which', 'would', 'CHAPTER2', 'reconcile', 'self-despair', 'with', 'the', 'rapturous', 'consciousness', 'of', 'life', 'beyond', 'self.', 'She', 'found', 'her', 'epos', 'in', 'the', 'reform', 'CHAPTER2', 'of', 'a', 'religious', '39834347', 'order.']\n"
     ]
    }
   ],
   "source": [
    "# This is also useful to clean up individual strings in the list\n",
    "\n",
    "keep6 = []\n",
    "\n",
    "for item in text1:\n",
    "    #want = re.sub('[!@#$%^&*]', '', item)\n",
    "    want = re.sub('(girl)', '', item)\n",
    "    keep6.append(want)\n",
    "\n",
    "print(keep6)"
   ]
  },
  {
   "cell_type": "code",
   "execution_count": 111,
   "metadata": {},
   "outputs": [
    {
     "name": "stdout",
     "output_type": "stream",
     "text": [
      "['******Who', 'that', 'cares', 'much', 'to', 'know', 'the', 'history', 'of', 'man,', 'and', 'how', 'the', 'mysterious', 'mixture', 'behaves', 'under', 'the', 'varying', 'CHAPTER', 'experiments', 'of', 'Time,', 'has', 'not', 'dwelt,', 'at', 'least', 'briefly,', '#$%^&', 'on', 'the', 'life', 'of', 'Saint', 'Theresa,', 'has', 'not', 'smiled', 'with', 'some', 'gentleness', 'at', 'the', 'thought', 'of', 'the', 'little', 'girl', 'walking', 'forth', 'one', 'morning', '&*&!@@@', 'hand-in-hand', '', 'with', 'her', 'still', 'smaller', 'brother,', 'to', 'go', 'and', 'seek', 'martyrdom', 'in', 'the', 'country', 'of', 'the', 'Moors?', 'Out', 'they', 'toddled', 'from', 'rugged', 'Avila,', 'wide-eyed', 'and', 'helpless-looking', 'as', 'two', 'fawns,', 'but', 'with', 'human', 'hearts,', 'already', 'beating', 'to', 'a', 'national#####', 'CHAPTER', 'idea;', 'until', 'domestic', 'reality', 'met', 'them', 'in', 'the', 'shape', 'of', 'uncles,', 'and', 'turned', '&*^%', 'them', 'back', 'from', 'their', 'great', 'resolve.', 'That', 'child-pilgrimage', 'was', 'a', 'fit', 'beginning.', \"Theresa's\", 'passionate,', 'ideal', 'nature', '', 'demanded', 'an', 'epic', 'life:', 'what', 'were', 'many-volumed', 'romances', 'of', 'chivalry', 'and', 'the', 'social', 'conquests', 'of', 'a', 'brilliant', 'girl', 'to', 'her?', 'Her', '^&$#%', 'flame', 'quickly', 'burned', 'up', 'that#####', 'light', 'fuel;', 'and,', 'fed', 'from', 'within,', 'soared', 'CHAPTER', 'after', 'some', 'illimitable', 'satisfaction,', 'some', 'object', 'which', 'would', 'never', 'justify', 'weariness,', 'which', 'would', 'CHAPTER', 'reconcile', 'self-despair', 'with', 'the', 'rapturous', 'consciousness', 'of', 'life', 'beyond', 'self.', 'She', 'found', 'her', 'epos', 'in', 'the', 'reform', 'CHAPTER', 'of', 'a', 'religious', '', 'order.']\n"
     ]
    }
   ],
   "source": [
    "# Again regex is a big topic that we don't have time to fully explore today and historically\n",
    "# I've found simple slicing, startswith matching, and simple regex subbing to be most effective\n",
    "# and adequate to cleaning most messy text\n",
    "\n",
    "# Still the key to regex is that you can use a set of statements to define increasingly complex\n",
    "# rules to find patterns\n",
    "\n",
    "# This is a good primer: https://developers.google.com/edu/python/regular-expressions\n",
    "\n",
    "keep6 = []\n",
    "\n",
    "for item in text1:\n",
    "    want = re.sub(r'[\\d+]', '', item)\n",
    "    \n",
    "    # the \\d+ means look for any digits in the word, and if you find more than one digit in a row, sub it\n",
    "    # again there are a ton of other pattern rules you can use, see the primer listed above\n",
    "    \n",
    "    keep6.append(want)\n",
    "\n",
    "print(keep6)"
   ]
  },
  {
   "cell_type": "code",
   "execution_count": 112,
   "metadata": {},
   "outputs": [],
   "source": [
    "### I leave it to you to look more into regex and see if and when it can help you with parsing and cleaning"
   ]
  },
  {
   "cell_type": "code",
   "execution_count": 113,
   "metadata": {},
   "outputs": [],
   "source": [
    "### FUNCTIONS\n",
    "\n",
    "# Last for today, we'll learn about functions\n",
    "\n",
    "# Functions are helper commands, that bundle together a set of commands you know you want to use\n",
    "# repeatedly, so you can standardize those commands and have a short cut to use them\n",
    "\n",
    "# We already encountered a function with \"split\", which splits up a string into a list of strings\n",
    "# by splitting on the white space in the string\n"
   ]
  },
  {
   "cell_type": "code",
   "execution_count": 114,
   "metadata": {},
   "outputs": [],
   "source": [
    "# Let's make a simple function, to add two numbers if we give the function two numbers\n",
    "\n",
    "def adder(x, y): # this says, let's make a function, it takes two things\n",
    "    result = x + y# this says, let's add the two numbers we've taken in\n",
    "    return result # this says, let's return the result\n"
   ]
  },
  {
   "cell_type": "code",
   "execution_count": 115,
   "metadata": {},
   "outputs": [
    {
     "data": {
      "text/plain": [
       "11"
      ]
     },
     "execution_count": 115,
     "metadata": {},
     "output_type": "execute_result"
    }
   ],
   "source": [
    "# Let's run it\n",
    "\n",
    "adder(5,6)"
   ]
  },
  {
   "cell_type": "code",
   "execution_count": 116,
   "metadata": {},
   "outputs": [
    {
     "name": "stdout",
     "output_type": "stream",
     "text": [
      "11\n"
     ]
    }
   ],
   "source": [
    "# If we want to save the output\n",
    "\n",
    "output = adder(5,6)\n",
    "11 == output\n",
    "print(output)"
   ]
  },
  {
   "cell_type": "code",
   "execution_count": 117,
   "metadata": {},
   "outputs": [],
   "source": [
    "# That's it! Let's combine what we did above to make more a more complicated function\n",
    "\n",
    "def cleaner1(text_as_string):\n",
    "    want = re.sub(r'[!@#$%^&*\\d+]|(CHAPTER)', '', text_as_string)\n",
    "    want = re.sub(r'[\\s]+', ' ', want)\n",
    "    return want\n"
   ]
  },
  {
   "cell_type": "code",
   "execution_count": 118,
   "metadata": {},
   "outputs": [
    {
     "name": "stdout",
     "output_type": "stream",
     "text": [
      " Who that cares much to know the history of man, and how the mysterious mixture behaves under the varying experiments of Time, has not dwelt, at least briefly, on the life of Saint Theresa, has not smiled with some gentleness at the thought of the little girl walking forth one morning hand-in-hand with her still smaller brother, to go and seek martyrdom in the country of the Moors? Out they toddled from rugged Avila, wide-eyed and helpless-looking as two fawns, but with human hearts, already beating to a national idea; until domestic reality met them in the shape of uncles, and turned them back from their great resolve. That child-pilgrimage was a fit beginning. Theresa's passionate, ideal nature demanded an epic life: what were many-volumed romances of chivalry and the social conquests of a brilliant girl to her? Her flame quickly burned up that light fuel; and, fed from within, soared after some illimitable satisfaction, some object which would never justify weariness, which would reconcile self-despair with the rapturous consciousness of life beyond self. She found her epos in the reform of a religious order. \n"
     ]
    }
   ],
   "source": [
    "# Let's run it\n",
    "\n",
    "output = cleaner1(text)\n",
    "print(output)"
   ]
  },
  {
   "cell_type": "code",
   "execution_count": 163,
   "metadata": {},
   "outputs": [],
   "source": [
    "# Another version\n",
    "\n",
    "def cleaner2(text_as_list_of_strings):\n",
    "    \n",
    "    words = []\n",
    "    \n",
    "    for word in text_as_list_of_strings:\n",
    "        want = re.sub('[!@#$%^&*]', '', word)\n",
    "        if want != '':\n",
    "            words.append(want)\n",
    "    return words"
   ]
  },
  {
   "cell_type": "code",
   "execution_count": 164,
   "metadata": {},
   "outputs": [
    {
     "name": "stdout",
     "output_type": "stream",
     "text": [
      "['Who', 'that', 'cares', 'much', 'to', 'know', 'the', 'history', 'of', 'man,', 'and', 'how', 'the', 'mysterious', 'mixture', 'behaves', 'under', 'the', 'varying', 'CHAPTER1', 'experiments', 'of', 'Time,', 'has', 'not', 'dwelt,', 'at', 'least', 'briefly,', 'on', 'the', 'life', 'of', 'Saint', 'Theresa,', 'has', 'not', 'smiled', 'with', 'some', 'gentleness', 'at', 'the', 'thought', 'of', 'the', 'little', 'girl', 'walking', 'forth', 'one', 'morning', 'hand-in-hand', '987364527', 'with', 'her', 'still', 'smaller', 'brother,', 'to', 'go', 'and', 'seek', 'martyrdom', 'in', 'the', 'country', 'of', 'the', 'Moors?', 'Out', 'they', 'toddled', 'from', 'rugged', 'Avila,', 'wide-eyed', 'and', 'helpless-looking', 'as', 'two', 'fawns,', 'but', 'with', 'human', 'hearts,', 'already', 'beating', 'to', 'a', 'national', 'CHAPTER1', 'idea;', 'until', 'domestic', 'reality', 'met', 'them', 'in', 'the', 'shape', 'of', 'uncles,', 'and', 'turned', 'them', 'back', 'from', 'their', 'great', 'resolve.', 'That', 'child-pilgrimage', 'was', 'a', 'fit', 'beginning.', \"Theresa's\", 'passionate,', 'ideal', 'nature', '893743645', 'demanded', 'an', 'epic', 'life:', 'what', 'were', 'many-volumed', 'romances', 'of', 'chivalry', 'and', 'the', 'social', 'conquests', 'of', 'a', 'brilliant', 'girl', 'to', 'her?', 'Her', 'flame', 'quickly', 'burned', 'up', 'that', 'light', 'fuel;', 'and,', 'fed', 'from', 'within,', 'soared', 'CHAPTER1', 'after', 'some', 'illimitable', 'satisfaction,', 'some', 'object', 'which', 'would', 'never', 'justify', 'weariness,', 'which', 'would', 'CHAPTER2', 'reconcile', 'self-despair', 'with', 'the', 'rapturous', 'consciousness', 'of', 'life', 'beyond', 'self.', 'She', 'found', 'her', 'epos', 'in', 'the', 'reform', 'CHAPTER2', 'of', 'a', 'religious', '39834347', 'order.']\n"
     ]
    }
   ],
   "source": [
    "output2= cleaner2(text1) # Here we gotta input the right kind of datatype, it's gotta be our list of strings\n",
    "\n",
    "print(output2)"
   ]
  },
  {
   "cell_type": "code",
   "execution_count": 121,
   "metadata": {},
   "outputs": [],
   "source": [
    "# Nesting functions\n",
    "\n",
    "# Let's add a function to our existing function\n",
    "\n",
    "def checker(word):\n",
    "    if word.startswith('CHAPTER'):\n",
    "        print(\"I FOUND ONE!!!!\")"
   ]
  },
  {
   "cell_type": "code",
   "execution_count": 167,
   "metadata": {},
   "outputs": [],
   "source": [
    "def cleaner3(text_as_list_of_strings):\n",
    "    \n",
    "    words = []\n",
    "    \n",
    "    for word in text_as_list_of_strings:\n",
    "        \n",
    "        # Embed the new function in the master function\n",
    "        checker(word)\n",
    "        \n",
    "        want = re.sub('[!@#$%^&*]', '', word)\n",
    "        if want != '':\n",
    "            words.append(want)\n",
    "        \n",
    "    return words"
   ]
  },
  {
   "cell_type": "code",
   "execution_count": 168,
   "metadata": {},
   "outputs": [
    {
     "name": "stdout",
     "output_type": "stream",
     "text": [
      "I FOUND ONE!!!!\n",
      "I FOUND ONE!!!!\n",
      "I FOUND ONE!!!!\n",
      "I FOUND ONE!!!!\n",
      "I FOUND ONE!!!!\n",
      "['Who', 'that', 'cares', 'much', 'to', 'know', 'the', 'history', 'of', 'man,', 'and', 'how', 'the', 'mysterious', 'mixture', 'behaves', 'under', 'the', 'varying', 'CHAPTER1', 'experiments', 'of', 'Time,', 'has', 'not', 'dwelt,', 'at', 'least', 'briefly,', 'on', 'the', 'life', 'of', 'Saint', 'Theresa,', 'has', 'not', 'smiled', 'with', 'some', 'gentleness', 'at', 'the', 'thought', 'of', 'the', 'little', 'girl', 'walking', 'forth', 'one', 'morning', 'hand-in-hand', '987364527', 'with', 'her', 'still', 'smaller', 'brother,', 'to', 'go', 'and', 'seek', 'martyrdom', 'in', 'the', 'country', 'of', 'the', 'Moors?', 'Out', 'they', 'toddled', 'from', 'rugged', 'Avila,', 'wide-eyed', 'and', 'helpless-looking', 'as', 'two', 'fawns,', 'but', 'with', 'human', 'hearts,', 'already', 'beating', 'to', 'a', 'national', 'CHAPTER1', 'idea;', 'until', 'domestic', 'reality', 'met', 'them', 'in', 'the', 'shape', 'of', 'uncles,', 'and', 'turned', 'them', 'back', 'from', 'their', 'great', 'resolve.', 'That', 'child-pilgrimage', 'was', 'a', 'fit', 'beginning.', \"Theresa's\", 'passionate,', 'ideal', 'nature', '893743645', 'demanded', 'an', 'epic', 'life:', 'what', 'were', 'many-volumed', 'romances', 'of', 'chivalry', 'and', 'the', 'social', 'conquests', 'of', 'a', 'brilliant', 'girl', 'to', 'her?', 'Her', 'flame', 'quickly', 'burned', 'up', 'that', 'light', 'fuel;', 'and,', 'fed', 'from', 'within,', 'soared', 'CHAPTER1', 'after', 'some', 'illimitable', 'satisfaction,', 'some', 'object', 'which', 'would', 'never', 'justify', 'weariness,', 'which', 'would', 'CHAPTER2', 'reconcile', 'self-despair', 'with', 'the', 'rapturous', 'consciousness', 'of', 'life', 'beyond', 'self.', 'She', 'found', 'her', 'epos', 'in', 'the', 'reform', 'CHAPTER2', 'of', 'a', 'religious', '39834347', 'order.']\n"
     ]
    }
   ],
   "source": [
    "output3 = cleaner3(text1) # Here we gotta input the right kind of object, it's gotta be our list of strings\n",
    "\n",
    "print(output3)"
   ]
  },
  {
   "cell_type": "code",
   "execution_count": 124,
   "metadata": {},
   "outputs": [],
   "source": [
    "##### PROBLEM SET\n",
    "\n",
    "# Instructions the same as for last two problem sets\n",
    "# Consult Mycourses for exact deadline\n",
    "\n",
    "passage = \"Some have felt that these blundering http lives are due to the inconvenient \\\n",
    "indefiniteness with which the Supreme Power has fashioned the natures \\\n",
    "of women: if there http were one level of feminine incompetence as strict as \\\n",
    "the ability$#$#$#$ to count DFSDFDSFDSDFSAERER three and no more, the social lot of women might \\\n",
    "be treated with scientific certitude.  Meanwhile the HSGDRFSRERER indefiniteness \\\n",
    "remains, and the limits of variation are really much wider than any one \\\n",
    "would imagine from the sameness of women's coiffure and the favorite \\\n",
    "love-stories in prose and verse. http:  Here*&*SRESR and there a cygnet is reared \\\n",
    "uneasily among the ducklings in the brown pond, and never finds the \\\n",
    "living stream in fellowship with its own oary-footed kind.  Here and \\\n",
    "there is born a AFSDFDEREFEGDEF Saint Theresa, foundress of nothing, whose loving \\\n",
    "heart-beats and sobs after http:\\\\ an unattained goodness tremble off and are \\\n",
    "dispersed among@#$#$#^$ hindrances, instead of AREAEGEFPP centring in some \\\n",
    "long-recognizable http deed.\""
   ]
  },
  {
   "cell_type": "code",
   "execution_count": 125,
   "metadata": {},
   "outputs": [
    {
     "name": "stdout",
     "output_type": "stream",
     "text": [
      "\n",
      "Who that cares much to know the history of man, and how the mysterious mixture behaves under the varying CHAPTER1 experiments of Time, has not dwelt, at least briefly,  on the life of Saint Theresa, has not smiled with some gentleness at the thought of the little girl walking forth one morning  hand-in-hand 987364527 with her still smaller brother, to go and seek martyrdom in the country of the Moors?  Out they toddled from rugged Avila, wide-eyed and helpless-looking as two fawns, but with human hearts, already beating to a national CHAPTER1 idea; until domestic reality met them in the shape of uncles, and turned  them back from their great resolve.  That child-pilgrimage was a fit beginning.  Theresa's passionate, ideal nature 893743645 demanded an epic life: what were many-volumed romances of chivalry and the social conquests of a brilliant girl to her?  Her  flame quickly burned up that light fuel; and, fed from within, soared CHAPTER1 after some illimitable satisfaction, some object which would never justify weariness, which would CHAPTER2 reconcile self-despair with the rapturous consciousness of life beyond self.  She found her epos in the reform CHAPTER2 of a religious 39834347 order.\n",
      "\n"
     ]
    }
   ],
   "source": [
    "\n",
    "def cleaner1(stringtext):\n",
    "    want = re.sub('[!@#$%^&*]', '', stringtext)\n",
    "    return want\n",
    "\n",
    "result = cleaner1(text)\n",
    "print(result)"
   ]
  },
  {
   "cell_type": "code",
   "execution_count": 126,
   "metadata": {},
   "outputs": [],
   "source": [
    "#1 Figure out how to remove all the versions of \"http\" from this passage\n",
    "# Print cleaned up passage"
   ]
  },
  {
   "cell_type": "code",
   "execution_count": 127,
   "metadata": {},
   "outputs": [],
   "source": [
    "#2\n",
    "# Start fresh with the above passage, do not continue from problem #1\n",
    "# There are a few examples of strings all capitalized that are gibberish; figure out how to remove them\n",
    "# Print cleaned up passage"
   ]
  },
  {
   "cell_type": "code",
   "execution_count": 128,
   "metadata": {},
   "outputs": [],
   "source": [
    "#3\n",
    "# Start fresh with the above passage, do not continue from problem #1 or #2\n",
    "# A few strings we want to keep have some garbage attached to them;\n",
    "# figure out how to clean individual strings while still returning their clean version\n",
    "# Print cleaned up passage"
   ]
  },
  {
   "cell_type": "code",
   "execution_count": 129,
   "metadata": {},
   "outputs": [],
   "source": [
    "#4\n",
    "# Start fresh with the above passage, do not continue from problem #1 or #2 or #3\n",
    "# Do all 3 cleaning operations but this time, save the garbage to a list and print out that list\n",
    "# You can call the list \"garbage\" or anything you want"
   ]
  },
  {
   "cell_type": "code",
   "execution_count": 130,
   "metadata": {},
   "outputs": [],
   "source": [
    "#5 Write #1 through #4 as individual functions and run them; print out the output for each function"
   ]
  },
  {
   "cell_type": "code",
   "execution_count": 131,
   "metadata": {},
   "outputs": [],
   "source": [
    "#6 Write #1 through #4 as a SINGLE FUNCTION and run it; print out the output for this function"
   ]
  }
 ],
 "metadata": {
  "kernelspec": {
   "display_name": "Python 3 (ipykernel)",
   "language": "python",
   "name": "python3"
  },
  "language_info": {
   "codemirror_mode": {
    "name": "ipython",
    "version": 3
   },
   "file_extension": ".py",
   "mimetype": "text/x-python",
   "name": "python",
   "nbconvert_exporter": "python",
   "pygments_lexer": "ipython3",
   "version": "3.12.4"
  }
 },
 "nbformat": 4,
 "nbformat_minor": 2
}
