{
 "cells": [
  {
   "cell_type": "code",
   "execution_count": 1,
   "metadata": {},
   "outputs": [],
   "source": [
    "### CODING SET 3\n",
    "\n",
    "# Instructions the same as for last two coding sets\n",
    "\n",
    "passage = \"Some have felt that these blundering http lives are due to the inconvenient \\\n",
    "indefiniteness with which the Supreme Power has fashioned the natures \\\n",
    "of women: if there http were one level of feminine incompetence as strict as \\\n",
    "the ability$#$#$#$ to count DFSDFDSFDSDFSAERER three and no more, the social lot of women might \\\n",
    "be treated with scientific certitude.  Meanwhile the HSGDRFSRERER indefiniteness \\\n",
    "remains, and the limits of variation are really much wider than any one \\\n",
    "would imagine from the sameness of women's coiffure and the favorite \\\n",
    "love-stories in prose and verse. http:  Here*&*SRESR and there a cygnet is reared \\\n",
    "uneasily among the ducklings in the brown pond, and never finds the \\\n",
    "living stream in fellowship with its own oary-footed kind.  Here and \\\n",
    "there is born a AFSDFDEREFEGDEF Saint Theresa, foundress of nothing, whose loving \\\n",
    "heart-beats and sobs after http:\\\\ an unattained goodness tremble off and are \\\n",
    "dispersed among@#$#$#^$ hindrances, instead of AREAEGEFPP centring in some \\\n",
    "long-recognizable http deed.\""
   ]
  },
  {
   "cell_type": "code",
   "execution_count": 2,
   "metadata": {},
   "outputs": [],
   "source": [
    "import re"
   ]
  },
  {
   "cell_type": "code",
   "execution_count": 3,
   "metadata": {},
   "outputs": [
    {
     "name": "stdout",
     "output_type": "stream",
     "text": [
      "Some have felt that these blundering  lives are due to the inconvenient indefiniteness with which the Supreme Power has fashioned the natures of women if there  were one level of feminine incompetence as strict as the ability$#$#$#$ to count DFSDFDSFDSDFSAERER three and no more, the social lot of women might be treated with scientific certitude.  Meanwhile the HSGDRFSRERER indefiniteness remains, and the limits of variation are really much wider than any one would imagine from the sameness of women's coiffure and the favorite love-stories in prose and verse.   Here*&*SRESR and there a cygnet is reared uneasily among the ducklings in the brown pond, and never finds the living stream in fellowship with its own oary-footed kind.  Here and there is born a AFSDFDEREFEGDEF Saint Theresa, foundress of nothing, whose loving heart-beats and sobs after  an unattained goodness tremble off and are dispersed among@#$#$#^$ hindrances, instead of AREAEGEFPP centring in some long-recognizable  deed.\n"
     ]
    }
   ],
   "source": [
    "# PROBLEM 1 \n",
    "\n",
    "#Figure out how to remove all the versions of \"http\" from this passage\n",
    "# Print cleaned up passage\n",
    "\n",
    "# the regex pattern matches http as a group OR one or more instances of :\\\\\n",
    "cleaned_passage = re.sub(r'(http)|[:\\\\]+', '', passage)\n",
    "print(cleaned_passage)"
   ]
  },
  {
   "cell_type": "code",
   "execution_count": 4,
   "metadata": {},
   "outputs": [
    {
     "name": "stdout",
     "output_type": "stream",
     "text": [
      "Some have felt that these blundering http lives are due to the inconvenient indefiniteness with which the Supreme Power has fashioned the natures of women: if there http were one level of feminine incompetence as strict as the ability$#$#$#$ to count  three and no more, the social lot of women might be treated with scientific certitude.  Meanwhile the  indefiniteness remains, and the limits of variation are really much wider than any one would imagine from the sameness of women's coiffure and the favorite love-stories in prose and verse. http:  Here*&* and there a cygnet is reared uneasily among the ducklings in the brown pond, and never finds the living stream in fellowship with its own oary-footed kind.  Here and there is born a  Saint Theresa, foundress of nothing, whose loving heart-beats and sobs after http:\\ an unattained goodness tremble off and are dispersed among@#$#$#^$ hindrances, instead of  centring in some long-recognizable http deed.\n"
     ]
    }
   ],
   "source": [
    "# PROBLEM 2\n",
    "\n",
    "# Start fresh with the above passage, do not continue from problem #1\n",
    "# There are a few examples of strings all capitalized that are gibberish; figure out how to remove them\n",
    "# Print cleaned up passage\n",
    "\n",
    "# this regex matches any single character from A-Z and then a sequence of one or more characters from A-Z\n",
    "cleaned_passage = re.sub(r'[A-Z][A-Z]+', '', passage)\n",
    "print(cleaned_passage)"
   ]
  },
  {
   "cell_type": "code",
   "execution_count": 5,
   "metadata": {},
   "outputs": [
    {
     "name": "stdout",
     "output_type": "stream",
     "text": [
      "Some have felt that these blundering http lives are due to the inconvenient indefiniteness with which the Supreme Power has fashioned the natures of women: if there http were one level of feminine incompetence as strict as the ability to count DFSDFDSFDSDFSAERER three and no more, the social lot of women might be treated with scientific certitude.  Meanwhile the HSGDRFSRERER indefiniteness remains, and the limits of variation are really much wider than any one would imagine from the sameness of women's coiffure and the favorite love-stories in prose and verse. http:  HereSRESR and there a cygnet is reared uneasily among the ducklings in the brown pond, and never finds the living stream in fellowship with its own oary-footed kind.  Here and there is born a AFSDFDEREFEGDEF Saint Theresa, foundress of nothing, whose loving heart-beats and sobs after http:\\ an unattained goodness tremble off and are dispersed among hindrances, instead of AREAEGEFPP centring in some long-recognizable http deed.\n"
     ]
    }
   ],
   "source": [
    "# PROBLEM 3\n",
    "\n",
    "# Start fresh with the above passage, do not continue from problem #1 or #2\n",
    "# A few strings we want to keep have some garbage attached to them;\n",
    "# figure out how to clean individual strings while still returning their clean version\n",
    "# Print cleaned up passage\n",
    "\n",
    "#this regex matches one or more of any of the following special characters\n",
    "garbage_regex = r'[!@#$%^&*()/]+'\n",
    "\n",
    "# this would work too but it would also remove necesssary punctuation like :, . and ?\n",
    "# garbage_regex = r'[^\\w\\s]+' \n",
    "\n",
    "cleaned_passage = re.sub(garbage_regex, '', passage)\n",
    "print(cleaned_passage)"
   ]
  },
  {
   "cell_type": "code",
   "execution_count": 6,
   "metadata": {},
   "outputs": [
    {
     "name": "stdout",
     "output_type": "stream",
     "text": [
      "Some have felt that these blundering  lives are due to the inconvenient indefiniteness with which the Supreme Power has fashioned the natures of women if there  were one level of feminine incompetence as strict as the ability to count  three and no more, the social lot of women might be treated with scientific certitude.  Meanwhile the  indefiniteness remains, and the limits of variation are really much wider than any one would imagine from the sameness of women's coiffure and the favorite love-stories in prose and verse.   Here and there a cygnet is reared uneasily among the ducklings in the brown pond, and never finds the living stream in fellowship with its own oary-footed kind.  Here and there is born a  Saint Theresa, foundress of nothing, whose loving heart-beats and sobs after  an unattained goodness tremble off and are dispersed among hindrances, instead of  centring in some long-recognizable  deed.\n"
     ]
    }
   ],
   "source": [
    "# PROBLEM 4\n",
    "\n",
    "# Start fresh with the above passage, do not continue from problem #1 or #2 or #3\n",
    "# Do all 3 cleaning operations but this time, save the garbage to a list and print out that list\n",
    "# You can call the list \"garbage\" or anything you want\n",
    "\n",
    "#use re.findall to get all matching groups for the garbage \n",
    "# i assume only from problem 3 bcs its called garbage there\n",
    "# problem 1 and 2 can be included using the below regex here\n",
    "garbage = re.findall(garbage_regex, passage)\n",
    "\n",
    "# pattern match with a combination of all 3 regexes and remove matches\n",
    "all_cleaned = re.sub(r'[A-Z][A-Z]+|'+ garbage_regex + r'|(http)|[:\\\\]+', '', passage)\n",
    "print(all_cleaned)"
   ]
  },
  {
   "cell_type": "code",
   "execution_count": 7,
   "metadata": {},
   "outputs": [
    {
     "name": "stdout",
     "output_type": "stream",
     "text": [
      "['$#$#$#$', '*&*', '@#$#$#^$']\n"
     ]
    }
   ],
   "source": [
    "#print out the list of garbage\n",
    "print(garbage)"
   ]
  },
  {
   "cell_type": "code",
   "execution_count": 8,
   "metadata": {},
   "outputs": [],
   "source": [
    "# PROBLEM 5  \n",
    "\n",
    "#Write problems #1 through #4 as individual functions and run them; print out the output for each function\n",
    "\n",
    "#each function accepts a string called passage and returns the string without the matches to the pattern\n",
    "\n",
    "def removeHttp(passage):\n",
    "    return re.sub(r'(http)|[:\\\\]+', '', passage)\n",
    "\n",
    "def removeCapitalGibberish(passage):\n",
    "    return re.sub(r'[A-Z][A-Z]+', '', passage)\n",
    "\n",
    "def removeGibberish(passage):\n",
    "    garbage_regex = r'[!@#$%^&*()/]+'\n",
    "    return re.sub(garbage_regex, '', passage)\n",
    "\n",
    "# this function returns a tuple of the garbage list and the cleaned string\n",
    "\n",
    "def cleanAndGetGibberish(passage):\n",
    "    garbage_regex = r'[!@#$%^&*()/]+'\n",
    "    garbage = re.findall(garbage_regex, passage)\n",
    "    all_cleaned = re.sub(r'[A-Z][A-Z]+|'+ garbage_regex + r'|(http)|[:\\\\]+', '', passage)\n",
    "    return garbage, all_cleaned\n"
   ]
  },
  {
   "cell_type": "code",
   "execution_count": 9,
   "metadata": {},
   "outputs": [
    {
     "name": "stdout",
     "output_type": "stream",
     "text": [
      "Some have felt that these blundering  lives are due to the inconvenient indefiniteness with which the Supreme Power has fashioned the natures of women if there  were one level of feminine incompetence as strict as the ability$#$#$#$ to count DFSDFDSFDSDFSAERER three and no more, the social lot of women might be treated with scientific certitude.  Meanwhile the HSGDRFSRERER indefiniteness remains, and the limits of variation are really much wider than any one would imagine from the sameness of women's coiffure and the favorite love-stories in prose and verse.   Here*&*SRESR and there a cygnet is reared uneasily among the ducklings in the brown pond, and never finds the living stream in fellowship with its own oary-footed kind.  Here and there is born a AFSDFDEREFEGDEF Saint Theresa, foundress of nothing, whose loving heart-beats and sobs after  an unattained goodness tremble off and are dispersed among@#$#$#^$ hindrances, instead of AREAEGEFPP centring in some long-recognizable  deed.\n"
     ]
    }
   ],
   "source": [
    "print(removeHttp(passage)) #print the output"
   ]
  },
  {
   "cell_type": "code",
   "execution_count": 10,
   "metadata": {},
   "outputs": [
    {
     "name": "stdout",
     "output_type": "stream",
     "text": [
      "Some have felt that these blundering http lives are due to the inconvenient indefiniteness with which the Supreme Power has fashioned the natures of women: if there http were one level of feminine incompetence as strict as the ability$#$#$#$ to count  three and no more, the social lot of women might be treated with scientific certitude.  Meanwhile the  indefiniteness remains, and the limits of variation are really much wider than any one would imagine from the sameness of women's coiffure and the favorite love-stories in prose and verse. http:  Here*&* and there a cygnet is reared uneasily among the ducklings in the brown pond, and never finds the living stream in fellowship with its own oary-footed kind.  Here and there is born a  Saint Theresa, foundress of nothing, whose loving heart-beats and sobs after http:\\ an unattained goodness tremble off and are dispersed among@#$#$#^$ hindrances, instead of  centring in some long-recognizable http deed.\n"
     ]
    }
   ],
   "source": [
    "print(removeCapitalGibberish(passage)) #print the output"
   ]
  },
  {
   "cell_type": "code",
   "execution_count": 11,
   "metadata": {},
   "outputs": [
    {
     "name": "stdout",
     "output_type": "stream",
     "text": [
      "Some have felt that these blundering http lives are due to the inconvenient indefiniteness with which the Supreme Power has fashioned the natures of women: if there http were one level of feminine incompetence as strict as the ability to count DFSDFDSFDSDFSAERER three and no more, the social lot of women might be treated with scientific certitude.  Meanwhile the HSGDRFSRERER indefiniteness remains, and the limits of variation are really much wider than any one would imagine from the sameness of women's coiffure and the favorite love-stories in prose and verse. http:  HereSRESR and there a cygnet is reared uneasily among the ducklings in the brown pond, and never finds the living stream in fellowship with its own oary-footed kind.  Here and there is born a AFSDFDEREFEGDEF Saint Theresa, foundress of nothing, whose loving heart-beats and sobs after http:\\ an unattained goodness tremble off and are dispersed among hindrances, instead of AREAEGEFPP centring in some long-recognizable http deed.\n"
     ]
    }
   ],
   "source": [
    "print(removeGibberish(passage)) #print the output"
   ]
  },
  {
   "cell_type": "code",
   "execution_count": 12,
   "metadata": {},
   "outputs": [
    {
     "name": "stdout",
     "output_type": "stream",
     "text": [
      "['$#$#$#$', '*&*', '@#$#$#^$']\n",
      "\n",
      "Some have felt that these blundering  lives are due to the inconvenient indefiniteness with which the Supreme Power has fashioned the natures of women if there  were one level of feminine incompetence as strict as the ability to count  three and no more, the social lot of women might be treated with scientific certitude.  Meanwhile the  indefiniteness remains, and the limits of variation are really much wider than any one would imagine from the sameness of women's coiffure and the favorite love-stories in prose and verse.   Here and there a cygnet is reared uneasily among the ducklings in the brown pond, and never finds the living stream in fellowship with its own oary-footed kind.  Here and there is born a  Saint Theresa, foundress of nothing, whose loving heart-beats and sobs after  an unattained goodness tremble off and are dispersed among hindrances, instead of  centring in some long-recognizable  deed.\n"
     ]
    }
   ],
   "source": [
    "print(*cleanAndGetGibberish(passage), sep='\\n\\n') #print the output (garbage list and the cleaned string)"
   ]
  },
  {
   "cell_type": "code",
   "execution_count": 13,
   "metadata": {},
   "outputs": [
    {
     "name": "stdout",
     "output_type": "stream",
     "text": [
      "['$#$#$#$', '*&*', '@#$#$#^$']\n",
      "\n",
      "Some have felt that these blundering  lives are due to the inconvenient indefiniteness with which the Supreme Power has fashioned the natures of women if there  were one level of feminine incompetence as strict as the ability to count  three and no more, the social lot of women might be treated with scientific certitude.  Meanwhile the  indefiniteness remains, and the limits of variation are really much wider than any one would imagine from the sameness of women's coiffure and the favorite love-stories in prose and verse.   Here and there a cygnet is reared uneasily among the ducklings in the brown pond, and never finds the living stream in fellowship with its own oary-footed kind.  Here and there is born a  Saint Theresa, foundress of nothing, whose loving heart-beats and sobs after  an unattained goodness tremble off and are dispersed among hindrances, instead of  centring in some long-recognizable  deed.\n"
     ]
    }
   ],
   "source": [
    "# PROBLEM 6 \n",
    "\n",
    "#Write problems #1 through #4 as a SINGLE FUNCTION and run it; print out the output for this function\n",
    "\n",
    "#this function takes a string and applies all the cleaning operations from problem 1 to 4\n",
    "# the cleaning operations from 1 to 3 are already applied in 4, but I included them all just in case\n",
    "# the function also returns the garbage list in a tuple with the cleaned string\n",
    "\n",
    "def allCombined(passage):\n",
    "    passage = re.sub(r'(http)|[:\\\\]+', '', passage)\n",
    "    passage =  re.sub(r'[A-Z][A-Z]+', '', passage)\n",
    "\n",
    "    garbage_regex = r'[!@#$%^&*()/]+'\n",
    "    garbage = re.findall(garbage_regex, passage)\n",
    "    passage =  re.sub(garbage_regex, '', passage)\n",
    "\n",
    "    all_cleaned = re.sub(r'[A-Z][A-Z]+|'+ garbage_regex + r'|(http)|[:\\\\]+', '', passage)\n",
    "\n",
    "    return garbage, all_cleaned\n",
    "\n",
    "print(*allCombined(passage), sep='\\n\\n')"
   ]
  },
  {
   "cell_type": "code",
   "execution_count": null,
   "metadata": {},
   "outputs": [],
   "source": []
  }
 ],
 "metadata": {
  "kernelspec": {
   "display_name": "Python 3",
   "language": "python",
   "name": "python3"
  },
  "language_info": {
   "codemirror_mode": {
    "name": "ipython",
    "version": 3
   },
   "file_extension": ".py",
   "mimetype": "text/x-python",
   "name": "python",
   "nbconvert_exporter": "python",
   "pygments_lexer": "ipython3",
   "version": "3.12.4"
  }
 },
 "nbformat": 4,
 "nbformat_minor": 2
}
