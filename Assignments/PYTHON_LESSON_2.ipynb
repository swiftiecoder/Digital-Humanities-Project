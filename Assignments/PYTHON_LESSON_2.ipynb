{
 "cells": [
  {
   "cell_type": "code",
   "execution_count": 36,
   "metadata": {},
   "outputs": [],
   "source": [
    "### Welcome back!\n",
    "# Today we're going to learn some core coding skills, like writing for loops\n",
    "# This will be a bit of a grind because it's learning the core and fundamental\n",
    "# aspects of coding but it's essential, and the key is to just keep doing them\n",
    "# over and over until they are second nature.\n",
    "# Repetition is the key.\n"
   ]
  },
  {
   "cell_type": "code",
   "execution_count": 37,
   "metadata": {},
   "outputs": [],
   "source": [
    "# First up FOR LOOPS\n",
    "# First the syntax\n",
    "\n",
    "#for EVERY ITEM IN A SEQUENCE OF ITEMS:\n",
    "    #INDENT DO SOMETHING TO THAT ITEM\n",
    "    \n",
    "# Note the key here is the FOR statement that triggers the iteration process\n",
    "# then the COLON to break that statement\n",
    "# then the indent to start the next statement\n",
    "# and last, the command to do something with the item you've isolated\n",
    "\n",
    "# Let's try some examples"
   ]
  },
  {
   "cell_type": "code",
   "execution_count": 38,
   "metadata": {},
   "outputs": [
    {
     "name": "stdout",
     "output_type": "stream",
     "text": [
      "I\n",
      " \n",
      "a\n",
      "m\n",
      " \n",
      "a\n",
      " \n",
      "p\n",
      "e\n",
      "r\n",
      "s\n",
      "o\n",
      "n\n",
      " \n",
      "w\n",
      "h\n",
      "o\n",
      " \n",
      "e\n",
      "n\n",
      "j\n",
      "o\n",
      "y\n",
      "s\n",
      " \n",
      "l\n",
      "i\n",
      "s\n",
      "t\n",
      "e\n",
      "n\n",
      "i\n",
      "n\n",
      "g\n",
      " \n",
      "t\n",
      "o\n",
      " \n",
      "m\n",
      "u\n",
      "s\n",
      "i\n",
      "c\n",
      ".\n"
     ]
    }
   ],
   "source": [
    "# For loop for a string\n",
    "\n",
    "my_string = 'I am a person who enjoys listening to music.'\n",
    "\n",
    "for word in my_string: \n",
    "    print(word)"
   ]
  },
  {
   "cell_type": "code",
   "execution_count": 39,
   "metadata": {},
   "outputs": [
    {
     "data": {
      "text/plain": [
       "['I', 'am', 'a', 'person', 'who', 'enjoys', 'listening', 'to', 'music.']"
      ]
     },
     "execution_count": 39,
     "metadata": {},
     "output_type": "execute_result"
    }
   ],
   "source": [
    "# For loop for a list\n",
    "\n",
    "my_list = my_string.split()\n",
    "\n",
    "my_list"
   ]
  },
  {
   "cell_type": "code",
   "execution_count": 40,
   "metadata": {},
   "outputs": [
    {
     "name": "stdout",
     "output_type": "stream",
     "text": [
      "I\n",
      "am\n",
      "a\n",
      "person\n",
      "who\n",
      "enjoys\n",
      "listening\n",
      "to\n",
      "music.\n"
     ]
    }
   ],
   "source": [
    "# Continue\n",
    "\n",
    "for thingy in my_list:\n",
    "    print(thingy)"
   ]
  },
  {
   "cell_type": "code",
   "execution_count": 41,
   "metadata": {},
   "outputs": [],
   "source": [
    "# # What about this?\n",
    "\n",
    "# my_float = 987.089\n",
    "\n",
    "# for digit in my_float:\n",
    "#     print(digit)"
   ]
  },
  {
   "cell_type": "code",
   "execution_count": 42,
   "metadata": {},
   "outputs": [
    {
     "name": "stdout",
     "output_type": "stream",
     "text": [
      "['dog', 'cat', 'bird', 'pig']\n",
      "['apple', 'orange', 'mango', 'kiwi']\n"
     ]
    }
   ],
   "source": [
    "# For loops in for loops to extract items in nested objects\n",
    "\n",
    "big_list = [['dog', 'cat', 'bird', 'pig'], ['apple', 'orange', 'mango', 'kiwi']]\n",
    "\n",
    "# what happens here?\n",
    "\n",
    "for lst in big_list:\n",
    "    print(lst)"
   ]
  },
  {
   "cell_type": "code",
   "execution_count": 43,
   "metadata": {},
   "outputs": [
    {
     "name": "stdout",
     "output_type": "stream",
     "text": [
      "['dog', 'cat', 'bird', 'pig']\n",
      "dog\n",
      "d\n",
      "o\n",
      "g\n",
      "cat\n",
      "c\n",
      "a\n",
      "t\n",
      "bird\n",
      "b\n",
      "i\n",
      "r\n",
      "d\n",
      "pig\n",
      "p\n",
      "i\n",
      "g\n",
      "['apple', 'orange', 'mango', 'kiwi']\n",
      "apple\n",
      "a\n",
      "p\n",
      "p\n",
      "l\n",
      "e\n",
      "orange\n",
      "o\n",
      "r\n",
      "a\n",
      "n\n",
      "g\n",
      "e\n",
      "mango\n",
      "m\n",
      "a\n",
      "n\n",
      "g\n",
      "o\n",
      "kiwi\n",
      "k\n",
      "i\n",
      "w\n",
      "i\n"
     ]
    }
   ],
   "source": [
    "# How do we get each individual item tho?\n",
    "\n",
    "for lst in big_list:\n",
    "    print(lst)\n",
    "    for item in lst:\n",
    "        print(item)\n",
    "        for character in item:\n",
    "            print(character)\n",
    "            #for thingy in character:\n",
    "                #print(thingy)"
   ]
  },
  {
   "cell_type": "code",
   "execution_count": 44,
   "metadata": {},
   "outputs": [],
   "source": [
    "# Append\n",
    "# A useful thing to do is to append or save items at the end of a for loop\n",
    "# That is, let's just not do something at the of the for loop like print, but let's\n",
    "# save that output for later!\n",
    "\n",
    "# The logic is first create a CONTAINER - usually that's an EMPTY LIST\n",
    "\n",
    "new_list = []\n",
    "\n",
    "# Then run your for loop\n",
    "\n",
    "for lst in big_list:\n",
    "    for item in lst:\n",
    "        \n",
    "        # But now instead of just printing, let's save the output to our container\n",
    "        \n",
    "        new_list.append(item) # the syntax is CONTAINER PERIOD \"APPEND\" and then parenthesis THE THING\n"
   ]
  },
  {
   "cell_type": "code",
   "execution_count": 45,
   "metadata": {},
   "outputs": [
    {
     "data": {
      "text/plain": [
       "'cat'"
      ]
     },
     "execution_count": 45,
     "metadata": {},
     "output_type": "execute_result"
    }
   ],
   "source": [
    "#sanity check\n",
    "#new_list[0][0]\n",
    "new_list[1]"
   ]
  },
  {
   "cell_type": "code",
   "execution_count": 46,
   "metadata": {},
   "outputs": [
    {
     "data": {
      "text/plain": [
       "['dog', 'cat', 'bird', 'pig', 'apple', 'orange', 'mango', 'kiwi']"
      ]
     },
     "execution_count": 46,
     "metadata": {},
     "output_type": "execute_result"
    }
   ],
   "source": [
    "# OK\n",
    "\n",
    "new_list\n",
    "\n",
    "# Wallah!"
   ]
  },
  {
   "cell_type": "code",
   "execution_count": 47,
   "metadata": {},
   "outputs": [
    {
     "data": {
      "text/plain": [
       "['dog', 'cat', 'bird', 'pig', 'apple', 'orange', 'mango', 'kiwi']"
      ]
     },
     "execution_count": 47,
     "metadata": {},
     "output_type": "execute_result"
    }
   ],
   "source": [
    "# Let's try it again, practice makes perfect!\n",
    "\n",
    "new_new_list = []\n",
    "\n",
    "for item in new_list:\n",
    "    new_new_list.append(item)\n",
    "    \n",
    "new_new_list"
   ]
  },
  {
   "cell_type": "code",
   "execution_count": null,
   "metadata": {},
   "outputs": [],
   "source": [
    "### IF STATEMENTS\n",
    "# A second key type of command are IF statements\n",
    "# The logic is simple - only do something IF a logical condition is met\n",
    "\n",
    "# The syntax is\n",
    "# IF SOME CONDITION\n",
    "    # INDENT DO SOMETHING\n",
    "\n",
    "# You can also add in an ELSE statement which is DO SOMETHING if THE IF CONDITION IS NOT MET"
   ]
  },
  {
   "cell_type": "code",
   "execution_count": 48,
   "metadata": {},
   "outputs": [
    {
     "name": "stdout",
     "output_type": "stream",
     "text": [
      "yo dog is indeed in this list!\n"
     ]
    }
   ],
   "source": [
    "# Let's go!\n",
    "\n",
    "if 'dog' in new_new_list:\n",
    "    print(\"yo dog is indeed in this list!\")"
   ]
  },
  {
   "cell_type": "code",
   "execution_count": 49,
   "metadata": {},
   "outputs": [
    {
     "name": "stdout",
     "output_type": "stream",
     "text": [
      "snake is not in this list at all!\n"
     ]
    }
   ],
   "source": [
    "if \"snake\" not in new_new_list:\n",
    "    print(\"snake is not in this list at all!\")"
   ]
  },
  {
   "cell_type": "code",
   "execution_count": 50,
   "metadata": {},
   "outputs": [
    {
     "name": "stdout",
     "output_type": "stream",
     "text": [
      "it's still here! \n"
     ]
    }
   ],
   "source": [
    "if 'dog' not in new_new_list:\n",
    "    print(\"yo it's not here!\")\n",
    "\n",
    "# ELSE statement logic!\n",
    "else:\n",
    "    print(\"it's still here! \")"
   ]
  },
  {
   "cell_type": "code",
   "execution_count": 51,
   "metadata": {},
   "outputs": [
    {
     "name": "stdout",
     "output_type": "stream",
     "text": [
      "bippity bop hellooo\n"
     ]
    }
   ],
   "source": [
    "### BOOLEAN LOGIC OPERATIONS\n",
    "\n",
    "# A key thing to learn here is the use of logic operations using = and <> statements\n",
    "# This is very simple; they are a away to check logical conditions of equal, greater or lesser\n",
    "\n",
    "if 5 == 5.0:\n",
    "    print(\"bippity bop hellooo\")\n",
    "    \n",
    "else:\n",
    "    print(\"I don't get this\")"
   ]
  },
  {
   "cell_type": "code",
   "execution_count": 52,
   "metadata": {},
   "outputs": [],
   "source": [
    "# = IS NO THE SAME AS == "
   ]
  },
  {
   "cell_type": "code",
   "execution_count": 53,
   "metadata": {},
   "outputs": [
    {
     "name": "stdout",
     "output_type": "stream",
     "text": [
      "ditto, 4 is equal to 4\n"
     ]
    }
   ],
   "source": [
    "if 4 == 4: # note the double use of equation sign because a signal = means to assign a variable value!\n",
    "    print(\"ditto, 4 is equal to 4\")\n",
    "    "
   ]
  },
  {
   "cell_type": "code",
   "execution_count": 54,
   "metadata": {},
   "outputs": [
    {
     "name": "stdout",
     "output_type": "stream",
     "text": [
      "4 is less than or equal to 4\n"
     ]
    }
   ],
   "source": [
    "if 4 >= 4:\n",
    "    print(\"4 is less than or equal to 4\")"
   ]
  },
  {
   "cell_type": "code",
   "execution_count": 55,
   "metadata": {},
   "outputs": [],
   "source": [
    "# ==, <, >, <=, >=, != 'not equal'"
   ]
  },
  {
   "cell_type": "code",
   "execution_count": 56,
   "metadata": {},
   "outputs": [
    {
     "name": "stdout",
     "output_type": "stream",
     "text": [
      "nah doesnt work\n"
     ]
    }
   ],
   "source": [
    "# now this can be applied to other things like string values etc\n",
    "\n",
    "if \"dog\" == \"DOG\":\n",
    "    print('yup')\n",
    "\n",
    "else:\n",
    "    print('nah doesnt work')"
   ]
  },
  {
   "cell_type": "code",
   "execution_count": 57,
   "metadata": {},
   "outputs": [
    {
     "name": "stdout",
     "output_type": "stream",
     "text": [
      "yup\n"
     ]
    }
   ],
   "source": [
    "if \"cat\" != \"dog\":\n",
    "    print(\"yup\")"
   ]
  },
  {
   "cell_type": "code",
   "execution_count": 58,
   "metadata": {},
   "outputs": [
    {
     "data": {
      "text/plain": [
       "['dog']"
      ]
     },
     "execution_count": 58,
     "metadata": {},
     "output_type": "execute_result"
    }
   ],
   "source": [
    "# OK let's put it together\n",
    "\n",
    "filtered = []\n",
    "\n",
    "for item in new_new_list:\n",
    "    if item == 'dog':\n",
    "        filtered.append(item)\n",
    "        \n",
    "filtered"
   ]
  },
  {
   "cell_type": "code",
   "execution_count": 62,
   "metadata": {},
   "outputs": [
    {
     "data": {
      "text/plain": [
       "['dog', 'cat', 'bird', 'pig', 'apple', 'orange', 'mango', 'kiwi']"
      ]
     },
     "execution_count": 62,
     "metadata": {},
     "output_type": "execute_result"
    }
   ],
   "source": [
    "new_new_list"
   ]
  },
  {
   "cell_type": "code",
   "execution_count": 63,
   "metadata": {},
   "outputs": [
    {
     "data": {
      "text/plain": [
       "['dog', 'cat', 'pig']"
      ]
     },
     "execution_count": 63,
     "metadata": {},
     "output_type": "execute_result"
    }
   ],
   "source": [
    "filtered2 = []\n",
    "\n",
    "for item in new_new_list:\n",
    "    if len(item) < 4:\n",
    "        filtered2.append(item)\n",
    "        \n",
    "filtered2"
   ]
  },
  {
   "cell_type": "code",
   "execution_count": 64,
   "metadata": {},
   "outputs": [
    {
     "data": {
      "text/plain": [
       "['bird', 'kiwi']"
      ]
     },
     "execution_count": 64,
     "metadata": {},
     "output_type": "execute_result"
    }
   ],
   "source": [
    "# One more thing, OR and AND operations!\n",
    "\n",
    "filtered3 = []\n",
    "\n",
    "for item in new_new_list:\n",
    "    if (len(item) > 3 and len(item) <5):\n",
    "        filtered3.append(item)\n",
    "        \n",
    "filtered3"
   ]
  },
  {
   "cell_type": "code",
   "execution_count": 76,
   "metadata": {},
   "outputs": [
    {
     "data": {
      "text/plain": [
       "['bird', 'apple', 'orange', 'mango', 'kiwi']"
      ]
     },
     "execution_count": 76,
     "metadata": {},
     "output_type": "execute_result"
    }
   ],
   "source": [
    "filtered4 = []\n",
    "\n",
    "for item in new_new_list:\n",
    "    if (len(item) > 3 or item[0] == 'b'):\n",
    "        filtered4.append(item)\n",
    "        \n",
    "filtered4"
   ]
  },
  {
   "cell_type": "code",
   "execution_count": 65,
   "metadata": {},
   "outputs": [
    {
     "data": {
      "text/plain": [
       "(['bird', 'apple', 'orange', 'mango', 'kiwi'], ['dog', 'cat', 'pig'], ['bird'])"
      ]
     },
     "execution_count": 65,
     "metadata": {},
     "output_type": "execute_result"
    }
   ],
   "source": [
    "# Layers!\n",
    "\n",
    "f1 = []\n",
    "f2 = []\n",
    "f3 = []\n",
    "\n",
    "for item in new_new_list:\n",
    "    if len(item) > 3:\n",
    "        f1.append(item)\n",
    "    else:\n",
    "        f2.append(item)\n",
    "        \n",
    "    if item[0] == 'b':\n",
    "        f3.append(item)\n",
    "            \n",
    "f1, f2, f3"
   ]
  },
  {
   "cell_type": "code",
   "execution_count": null,
   "metadata": {},
   "outputs": [],
   "source": [
    "# Remember guys\n",
    "#[] is list, '' is string, and () are TUPLES\n",
    "# [(NJ, TRENTON, PATTERSON), (NY, ALBANY, NYC), (CA, SACREMENTO, LA)]"
   ]
  },
  {
   "cell_type": "code",
   "execution_count": 66,
   "metadata": {},
   "outputs": [],
   "source": [
    "# One more trick\n",
    "\n",
    "big_output = []\n",
    "\n",
    "for item in new_new_list:\n",
    "    for char in item:\n",
    "        # We're creating a TUPLE here\n",
    "        big_output.append((char, item)) # append multiple items\n"
   ]
  },
  {
   "cell_type": "code",
   "execution_count": 67,
   "metadata": {},
   "outputs": [
    {
     "data": {
      "text/plain": [
       "[('d', 'dog'),\n",
       " ('o', 'dog'),\n",
       " ('g', 'dog'),\n",
       " ('c', 'cat'),\n",
       " ('a', 'cat'),\n",
       " ('t', 'cat'),\n",
       " ('b', 'bird'),\n",
       " ('i', 'bird'),\n",
       " ('r', 'bird'),\n",
       " ('d', 'bird'),\n",
       " ('p', 'pig'),\n",
       " ('i', 'pig'),\n",
       " ('g', 'pig'),\n",
       " ('a', 'apple'),\n",
       " ('p', 'apple'),\n",
       " ('p', 'apple'),\n",
       " ('l', 'apple'),\n",
       " ('e', 'apple'),\n",
       " ('o', 'orange'),\n",
       " ('r', 'orange'),\n",
       " ('a', 'orange'),\n",
       " ('n', 'orange'),\n",
       " ('g', 'orange'),\n",
       " ('e', 'orange'),\n",
       " ('m', 'mango'),\n",
       " ('a', 'mango'),\n",
       " ('n', 'mango'),\n",
       " ('g', 'mango'),\n",
       " ('o', 'mango'),\n",
       " ('k', 'kiwi'),\n",
       " ('i', 'kiwi'),\n",
       " ('w', 'kiwi'),\n",
       " ('i', 'kiwi')]"
      ]
     },
     "execution_count": 67,
     "metadata": {},
     "output_type": "execute_result"
    }
   ],
   "source": [
    "big_output # A list of TUPLES, everyone!"
   ]
  },
  {
   "cell_type": "code",
   "execution_count": 68,
   "metadata": {},
   "outputs": [
    {
     "data": {
      "text/plain": [
       "(list, tuple, str)"
      ]
     },
     "execution_count": 68,
     "metadata": {},
     "output_type": "execute_result"
    }
   ],
   "source": [
    "# Important check your datatypes!\n",
    "\n",
    "type(big_output), type(big_output[0]), type(big_output[0][0])"
   ]
  },
  {
   "cell_type": "code",
   "execution_count": 69,
   "metadata": {},
   "outputs": [
    {
     "name": "stdout",
     "output_type": "stream",
     "text": [
      "('g', 'dog')\n"
     ]
    }
   ],
   "source": [
    "#sanity check\n",
    "print(big_output[2])"
   ]
  },
  {
   "cell_type": "code",
   "execution_count": 70,
   "metadata": {},
   "outputs": [
    {
     "name": "stdout",
     "output_type": "stream",
     "text": [
      "TUPLE COMING UP GUYS\n",
      "('dog', 'bark')\n",
      "STRING COMING UP NOW GUYS\n",
      "dog\n",
      "bark\n",
      "TUPLE COMING UP GUYS\n",
      "('cat', 'meow')\n",
      "STRING COMING UP NOW GUYS\n",
      "cat\n",
      "meow\n",
      "TUPLE COMING UP GUYS\n",
      "('snake', 'hiss')\n",
      "STRING COMING UP NOW GUYS\n",
      "snake\n",
      "hiss\n"
     ]
    }
   ],
   "source": [
    "# Quick note about TUPLES, a new datatype!\n",
    "\n",
    "tups = [('dog', 'bark'), ('cat', 'meow'), ('snake', 'hiss')]\n",
    "\n",
    "for tup in tups:\n",
    "    print('TUPLE COMING UP GUYS')\n",
    "    print(tup)\n",
    "    \n",
    "    print('STRING COMING UP NOW GUYS')\n",
    "    for item in tup:\n",
    "        print(item)"
   ]
  },
  {
   "cell_type": "code",
   "execution_count": null,
   "metadata": {},
   "outputs": [],
   "source": []
  }
 ],
 "metadata": {
  "kernelspec": {
   "display_name": "Python 3 (ipykernel)",
   "language": "python",
   "name": "python3"
  },
  "language_info": {
   "codemirror_mode": {
    "name": "ipython",
    "version": 3
   },
   "file_extension": ".py",
   "mimetype": "text/x-python",
   "name": "python",
   "nbconvert_exporter": "python",
   "pygments_lexer": "ipython3",
   "version": "3.12.4"
  }
 },
 "nbformat": 4,
 "nbformat_minor": 2
}
