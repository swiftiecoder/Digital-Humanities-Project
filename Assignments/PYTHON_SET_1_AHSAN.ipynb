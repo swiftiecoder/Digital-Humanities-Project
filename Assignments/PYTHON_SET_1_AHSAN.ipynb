{
 "cells": [
  {
   "cell_type": "code",
   "execution_count": null,
   "metadata": {},
   "outputs": [],
   "source": [
    "### CODING SET 1\n",
    "\n",
    "# SUBMISSION INSTRUCTIONS: Create a new Jupyter notebook, and call it PYTHON_SET_1_[YOUR LAST NAME]\n",
    "# so my problem set would be called PYTHON_SET_1_REHMAN.\n",
    "\n",
    "# Answer the problems below and label them PROBLEM 1, PROBLEM 2 and so forth, in this new notebook.\n",
    "\n",
    "# Save the file and then upload it to LMS under the Assignments tab; you will see\n",
    "# a submission tab for Coding Problem Set 1. Upload it there. \n",
    "\n",
    "# The deadline is THURSDAY SEP 26 11.55PM.\n",
    "\n",
    "# Do your best to get the correct output; if you do, that's great\n",
    "# and just leave the output showing. If not, just save your code and whatever output you did get. AND COMMENT.\n",
    "# Most importantly, produce and save and show output so I can see what you did.\n",
    "# If you can't get the right answer or you get an ERROR message, make sure to comment so I understand what you\n",
    "# tried to do.\n"
   ]
  },
  {
   "cell_type": "code",
   "execution_count": 3,
   "metadata": {},
   "outputs": [
    {
     "name": "stdout",
     "output_type": "stream",
     "text": [
      "I think Chappell Roan deserves a Nobel Peace Prize for her discography.\n"
     ]
    }
   ],
   "source": [
    "# PROBLEM 1\n",
    "\n",
    "# Create a string variable called STRING_1 and make it equal to a sentence of your own invention, at least 10 words\n",
    "# Print it out\n",
    "\n",
    "# Creating the string variable\n",
    "STRING_1 = \"I think Chappell Roan deserves a Nobel Peace Prize for her discography.\"\n",
    "\n",
    "# Printing it out\n",
    "print(STRING_1)"
   ]
  },
  {
   "cell_type": "code",
   "execution_count": 4,
   "metadata": {},
   "outputs": [
    {
     "name": "stdout",
     "output_type": "stream",
     "text": [
      "71\n",
      "<class 'str'>\n"
     ]
    }
   ],
   "source": [
    "# PROBLEM 2\n",
    "\n",
    "# Tell me how long that variable is, and print out its datatype\n",
    "\n",
    "# Printing the length of the string using the len function\n",
    "print(len(STRING_1))\n",
    "\n",
    "# Printing the data type of the string using the type function\n",
    "print(type(STRING_1))"
   ]
  },
  {
   "cell_type": "code",
   "execution_count": 6,
   "metadata": {},
   "outputs": [
    {
     "name": "stdout",
     "output_type": "stream",
     "text": [
      "['I', 'think', 'Chappell', 'Roan', 'deserves', 'a', 'Nobel', 'Peace', 'Prize', 'for', 'her', 'discography.']\n"
     ]
    }
   ],
   "source": [
    "# PROBLEM 3\n",
    "\n",
    "# Turn that string into a list of strings, where each item in the list is a word; save it as a variable\n",
    "# called LIST_OF_STRINGS\n",
    "# Print it out\n",
    "\n",
    "# Using the split function to split the string into words\n",
    "# Split separates based on whitespace by default\n",
    "LIST_OF_STRINGS = STRING_1.split()\n",
    "\n",
    "# Printing out the list of strings variable\n",
    "print(LIST_OF_STRINGS)"
   ]
  },
  {
   "cell_type": "code",
   "execution_count": 7,
   "metadata": {},
   "outputs": [
    {
     "name": "stdout",
     "output_type": "stream",
     "text": [
      "discography.\n"
     ]
    }
   ],
   "source": [
    "# PROBLEM 4\n",
    "\n",
    "# Slice your item LIST_OF_STRINGS to report back the last word in the list, print output\n",
    "\n",
    "# Using negative indexing to print the last word\n",
    "print(LIST_OF_STRINGS[-1])"
   ]
  },
  {
   "cell_type": "code",
   "execution_count": 11,
   "metadata": {},
   "outputs": [
    {
     "name": "stdout",
     "output_type": "stream",
     "text": [
      "[5, 7, 13, 22, 67, 89]\n"
     ]
    }
   ],
   "source": [
    "# PROBLEM 5\n",
    "\n",
    "# Create a new list item called NUMBERS and make it equal to a sequence of individual numbers, at least 5 of them\n",
    "# Print it out\n",
    "\n",
    "# Creating the list of numbers\n",
    "NUMBERS = [5, 7, 13, 22, 67, 89]\n",
    "\n",
    "# Printing out the list\n",
    "print(NUMBERS)"
   ]
  },
  {
   "cell_type": "code",
   "execution_count": 12,
   "metadata": {},
   "outputs": [
    {
     "name": "stdout",
     "output_type": "stream",
     "text": [
      "['5', '7', '13', '22', '67', '89']\n"
     ]
    }
   ],
   "source": [
    "# PROBLEM 6\n",
    "\n",
    "# Turn NUMBERS into a list of strings, call it NUMBERS_AS_STRINGS\n",
    "# Print it out\n",
    "\n",
    "# Creating a list of strings of numbers\n",
    "# I used list comprehension;str(i) converts each number to a string\n",
    "NUMBERS_AS_STRINGS = [str(i) for i in NUMBERS]\n",
    "\n",
    "# Printing out the new list\n",
    "print(NUMBERS_AS_STRINGS)"
   ]
  },
  {
   "cell_type": "code",
   "execution_count": 14,
   "metadata": {},
   "outputs": [
    {
     "name": "stdout",
     "output_type": "stream",
     "text": [
      "['I', 'think', 'Chappell', 'Roan', 'deserves', 'a', 'Nobel', 'Peace', 'Prize', 'for', 'her', 'discography.', 5, 7, 13, 22, 67, 89]\n"
     ]
    }
   ],
   "source": [
    "# PROBLEM 7\n",
    "\n",
    "# Create a new list item that combines LIST_OF_STRINGS and NUMBERS, call it COMBINED\n",
    "# Print it out\n",
    "\n",
    "# Concatenating the lists\n",
    "COMBINED = LIST_OF_STRINGS + NUMBERS\n",
    "\n",
    "# Printing out the combined lists\n",
    "print(COMBINED)"
   ]
  },
  {
   "cell_type": "code",
   "execution_count": 19,
   "metadata": {},
   "outputs": [
    {
     "name": "stdout",
     "output_type": "stream",
     "text": [
      "[7, 13, 22, 67, 89]\n"
     ]
    }
   ],
   "source": [
    "# PROBLEM 8\n",
    "\n",
    "# Slice your new list item COMBINED to only include the numbers; call it COMBINED_2, print it out\n",
    "\n",
    "# Retrieving the numbers from COMBINED by slicing\n",
    "# len(LIST_OF_STRINGS+1) returns the index of the first number, since numbers was added to strings\n",
    "# If something was added after numbers, we could slice until len(LIST_OF_STRINGS)+1+len(NUMBERS) to get the numbers\n",
    "# As it is, leaving the end index empty still retrieves the numbers, because the last index is already a number\n",
    "COMBINED_2 = COMBINED[len(LIST_OF_STRINGS)+1:]\n",
    "\n",
    "# Printing out the list\n",
    "print(COMBINED_2)"
   ]
  },
  {
   "cell_type": "code",
   "execution_count": 36,
   "metadata": {},
   "outputs": [
    {
     "name": "stdout",
     "output_type": "stream",
     "text": [
      "[89, 67, 22, 13, 7, 5, 'discography.', 'her', 'for', 'Prize', 'Peace', 'Nobel', 'a', 'deserves', 'Roan', 'Chappell', 'think', 'I']\n"
     ]
    }
   ],
   "source": [
    "# PROBLEM 9 - TOUGH ONE! \n",
    "\n",
    "# Figure out how to REVERSE THE ORDER OF ITEMS in COMBINED; the internet is your friend here\n",
    "# If you can't figure it out on your own, figure out how to phrase your problem as a question\n",
    "# (ie 'How do I reverse the items in a list'), search on google, and look to STACK OVERFLOW as a good\n",
    "# site with lots of useful answers; print it out as output\n",
    "\n",
    "'''\n",
    "One way is to make a copy of the list and then call the reverse method\n",
    "It is necessary to make a copy because reverse is in-place\n",
    "If we call reverse() on COMBINED, COMBINED itself will reverse\n",
    "We can then print out the new list\n",
    "'''\n",
    "\n",
    "REVERSED = COMBINED.copy()\n",
    "REVERSED.reverse()\n",
    "print(REVERSED)"
   ]
  },
  {
   "cell_type": "code",
   "execution_count": 46,
   "metadata": {},
   "outputs": [
    {
     "name": "stdout",
     "output_type": "stream",
     "text": [
      "[89, 67, 22, 13, 7, 5, 'discography.', 'her', 'for', 'Prize', 'Peace', 'Nobel', 'a', 'deserves', 'Roan', 'Chappell', 'think', 'I']\n"
     ]
    }
   ],
   "source": [
    "'''\n",
    "Another way is to use list comprehension\n",
    "range(len(COMBINED)-1, -1, -1) gives us the indexes to iterate over\n",
    "range takes 3 arguments: start, end and step\n",
    "len(COMBINED)-1 tells it to start at the last index\n",
    "-1 tells it to stop when it reaches -1, meaning everything up til index 0 will be included\n",
    "-1 tells it to use a step of -1 i.e. decrease by 1 every iteration\n",
    "We can then print out the reversed list, which is the same as before\n",
    "'''\n",
    "\n",
    "REVERSED = [COMBINED[i] for i in range(len(COMBINED)-1,-1,-1)] \n",
    "print(REVERSED)"
   ]
  },
  {
   "cell_type": "code",
   "execution_count": null,
   "metadata": {},
   "outputs": [],
   "source": [
    "# BONUS QUESTIONS - These are just to build up your coding skills; they won't be graded."
   ]
  },
  {
   "cell_type": "code",
   "execution_count": 2,
   "metadata": {},
   "outputs": [
    {
     "name": "stdout",
     "output_type": "stream",
     "text": [
      "['dog', 'bear', 'rabbit', 'chicken', 'donkey']\n"
     ]
    }
   ],
   "source": [
    "# PROBLEM 10\n",
    "\n",
    "# Here is a new list of strings\n",
    "NEW_STRING = ['dog', 'cat', 'bear', 'frog', 'rabbit', 'deer', 'chicken', 'pig', 'donkey']\n",
    "# Figure out how to remove every other item from this list and save to a new variable called 'NEW_STRING2'\n",
    "NEW_STRING2 = [pet for i, pet in enumerate(NEW_STRING) if i % 2 == 0]\n",
    "# NEW_STRING2 should look like ['dog', 'bear', 'rabbit', 'chicken', 'donkey']\n",
    "# Print NEW_STRING2\n",
    "print(NEW_STRING2)"
   ]
  },
  {
   "cell_type": "code",
   "execution_count": null,
   "metadata": {},
   "outputs": [],
   "source": []
  },
  {
   "cell_type": "code",
   "execution_count": 5,
   "metadata": {},
   "outputs": [
    {
     "name": "stdout",
     "output_type": "stream",
     "text": [
      "['dog', 'cat', 'bear']\n"
     ]
    }
   ],
   "source": [
    "# PROBLEM 11\n",
    "\n",
    "# Here is a list of strings\n",
    "NEW_LIST = ['dog', 'dog', 'dog', 'cat', 'cat', 'bear']\n",
    "# Figure out how to remove duplicate items in this list and save the output to a new variable called NEW_LIST_2\n",
    "NEW_LIST2 = list(set(NEW_LIST))\n",
    "# NEW_LIST_2 should look like ['dog', 'cat', 'bear']\n",
    "# Print NEW_LIST_2\n",
    "print(NEW_LIST2)"
   ]
  },
  {
   "cell_type": "code",
   "execution_count": 8,
   "metadata": {},
   "outputs": [
    {
     "name": "stdout",
     "output_type": "stream",
     "text": [
      "['dog', 'cat', 'bear']\n"
     ]
    }
   ],
   "source": [
    "# or alternatively, \n",
    "NEW_LIST2 = []\n",
    "for i in NEW_LIST:\n",
    "    if i not in NEW_LIST2:\n",
    "        NEW_LIST2.append(i)\n",
    "\n",
    "print(NEW_LIST2)"
   ]
  },
  {
   "cell_type": "code",
   "execution_count": 18,
   "metadata": {},
   "outputs": [
    {
     "name": "stdout",
     "output_type": "stream",
     "text": [
      "[1, 4, 5]\n"
     ]
    }
   ],
   "source": [
    "# PROBLEM 12\n",
    "\n",
    "# Here is a list of strings and integers\n",
    "MIXED_LIST = ['dog', 'dog', 'cat', 'cat', 1, 4, 5, 'bear', 'bear']\n",
    "# Figure out how to remove the strings from this list and save the output to a new variable called CLEAN_LIST\n",
    "CLEAN_LIST = [i for i in MIXED_LIST if type(i) == int]\n",
    "# CLEAN_LIST should look like [1,4,5]\n",
    "# Print CLEAN_LIST\n",
    "print(CLEAN_LIST)"
   ]
  },
  {
   "cell_type": "code",
   "execution_count": 21,
   "metadata": {},
   "outputs": [
    {
     "name": "stdout",
     "output_type": "stream",
     "text": [
      "['frog', 'bear']\n"
     ]
    }
   ],
   "source": [
    "# PROBLEM 13\n",
    "\n",
    "# Here are two lists of strings\n",
    "LIST_1 = ['dog', 'cat', 'bear', 'frog']\n",
    "LIST_2 = ['frog', 'bear', 'rabbit']\n",
    "# Figure out how to create a new variable called LIST_3 that only includes elements from both lists that overlap\n",
    "LIST_3 = []\n",
    "for i in LIST_2:\n",
    "    if i in LIST_1:\n",
    "        LIST_3.append(i)\n",
    "\n",
    "# LIST_3 should look like ['frog', 'bear']\n",
    "# Print LIST_3\n",
    "print(LIST_3)"
   ]
  },
  {
   "cell_type": "code",
   "execution_count": 1,
   "metadata": {},
   "outputs": [
    {
     "name": "stdout",
     "output_type": "stream",
     "text": [
      "['Who', 'that', 'cares', 'much', 'to', 'know', 'the', 'history', 'of', 'man,', 'and', 'how', 'the', 'mysterious', 'mixture', 'behaves', 'under', 'the', 'varying', 'experiments', 'of', 'Time,', 'has', 'not', 'dwelt,', 'at', 'least', 'briefly,', 'on', 'the', 'life', 'of', 'Saint', 'Theresa,', 'has', 'not', 'smiled', 'with', 'some', 'gentleness', 'at', 'the', 'thought', 'of', 'the', 'little', 'girl', 'walking', 'forth', 'one', 'morning', 'hand-in-hand', 'with', 'her', 'still', 'smaller', 'brother,', 'to', 'go', 'and', 'seek', 'martyrdom', 'in', 'the', 'country', 'of', 'the', 'Moors?', 'Out', 'they', 'toddled', 'from', 'rugged', 'Avila,', 'wide-eyed', 'and', 'helpless-looking', 'as', 'two', 'fawns,', 'but', 'with', 'human', 'hearts,', 'already', 'beating', 'to', 'a', 'national', 'idea;', 'until', 'domestic', 'reality', 'met', 'them', 'in', 'the', 'shape', 'of', 'uncles,', 'and', 'turned', 'them', 'back', 'from', 'their', 'great', 'resolve.', 'That', 'child-pilgrimage', 'was', 'a', 'fit', 'beginning.', \"Theresa's\", 'passionate,', 'ideal', 'nature', 'demanded', 'an', 'epic', 'life:', 'what', 'were', 'many-volumed', 'romances', 'of', 'chivalry', 'and', 'the', 'social', 'conquests', 'of', 'a', 'brilliant', 'girl', 'to', 'her?', 'Her', 'flame', 'quickly', 'burned', 'up', 'that', 'light', 'fuel;', 'and,', 'fed', 'from', 'within,', 'soared', 'after', 'some', 'illimitable', 'satisfaction,', 'some', 'object', 'which', 'would', 'never', 'justify', 'weariness,', 'which', 'would', 'reconcile', 'self-despair', 'with', 'the', 'rapturous', 'consciousness', 'of', 'life', 'beyond', 'self.', 'She', 'found', 'her', 'epos', 'in', 'the', 'reform', 'of', 'a', 'religious', 'order.']\n"
     ]
    }
   ],
   "source": [
    "# PROBLEM 14 - Difficult!\n",
    "\n",
    "# Go back to the variable text_aslist2 from our lesson\n",
    "# Figure out how to remove the punctuation from this output, i.e. keep it as a list of strings but each\n",
    "# string should not have any punctuation attached to it. EG: 'resolve.' should look like 'resolve' etc.\n",
    "# Save it to a new variable called text_aslist3\n",
    "# Print text_aslist3\n",
    "\n",
    "# Let's look at a piece of text\n",
    "\n",
    "text = \"Who that cares much to know the history of man, and how the mysterious mixture behaves \\\n",
    "under the varying experiments of Time, has not dwelt, \\\n",
    "at least briefly, on the life of Saint Theresa, has not smiled with \\\n",
    "some gentleness at the thought of the little girl walking forth one \\\n",
    "morning hand-in-hand with her still smaller brother, to go and seek \\\n",
    "martyrdom in the country of the Moors?  Out they toddled from rugged \\\n",
    "Avila, wide-eyed and helpless-looking as two fawns, but with human \\\n",
    "hearts, already beating to a national idea; until domestic reality met \\\n",
    "them in the shape of uncles, and turned them back from their great \\\n",
    "resolve.  That child-pilgrimage was a fit beginning.  Theresa's \\\n",
    "passionate, ideal nature demanded an epic life: what were many-volumed \\\n",
    "romances of chivalry and the social conquests of a brilliant girl to \\\n",
    "her?  Her flame quickly burned up that light fuel; and, fed from \\\n",
    "within, soared after some illimitable satisfaction, some object which \\\n",
    "would never justify weariness, which would reconcile self-despair with \\\n",
    "the rapturous consciousness of life beyond self.  She found her epos in \\\n",
    "the reform of a religious order.\"\n",
    "\n",
    "text_aslist2 = text.split()\n",
    "print(text_aslist2)"
   ]
  },
  {
   "cell_type": "code",
   "execution_count": 8,
   "metadata": {},
   "outputs": [
    {
     "name": "stdout",
     "output_type": "stream",
     "text": [
      "['Who', 'that', 'cares', 'much', 'to', 'know', 'the', 'history', 'of', 'man', 'and', 'how', 'the', 'mysterious', 'mixture', 'behaves', 'under', 'the', 'varying', 'experiments', 'of', 'Time', 'has', 'not', 'dwelt', 'at', 'least', 'briefly', 'on', 'the', 'life', 'of', 'Saint', 'Theresa', 'has', 'not', 'smiled', 'with', 'some', 'gentleness', 'at', 'the', 'thought', 'of', 'the', 'little', 'girl', 'walking', 'forth', 'one', 'morning', 'hand-in-hand', 'with', 'her', 'still', 'smaller', 'brother', 'to', 'go', 'and', 'seek', 'martyrdom', 'in', 'the', 'country', 'of', 'the', 'Moors', 'Out', 'they', 'toddled', 'from', 'rugged', 'Avila', 'wide-eyed', 'and', 'helpless-looking', 'as', 'two', 'fawns', 'but', 'with', 'human', 'hearts', 'already', 'beating', 'to', 'a', 'national', 'idea', 'until', 'domestic', 'reality', 'met', 'them', 'in', 'the', 'shape', 'of', 'uncles', 'and', 'turned', 'them', 'back', 'from', 'their', 'great', 'resolve', 'That', 'child-pilgrimage', 'was', 'a', 'fit', 'beginning', 'Theresas', 'passionate', 'ideal', 'nature', 'demanded', 'an', 'epic', 'life', 'what', 'were', 'many-volumed', 'romances', 'of', 'chivalry', 'and', 'the', 'social', 'conquests', 'of', 'a', 'brilliant', 'girl', 'to', 'her', 'Her', 'flame', 'quickly', 'burned', 'up', 'that', 'light', 'fuel', 'and', 'fed', 'from', 'within', 'soared', 'after', 'some', 'illimitable', 'satisfaction', 'some', 'object', 'which', 'would', 'never', 'justify', 'weariness', 'which', 'would', 'reconcile', 'self-despair', 'with', 'the', 'rapturous', 'consciousness', 'of', 'life', 'beyond', 'self', 'She', 'found', 'her', 'epos', 'in', 'the', 'reform', 'of', 'a', 'religious', 'order']\n"
     ]
    }
   ],
   "source": [
    "#one way is to define a list of punctuation which appears in the text and use that to process\n",
    "punctuation = ['.',',',':',';','?',\"'\",'-'] #i'm not assuming the hyphen is punctuation here\n",
    "\n",
    "for i, word in enumerate(text_aslist2):\n",
    "    for punc in punctuation:\n",
    "        if punc in word:\n",
    "            text_aslist2[i] = word.replace(punc, '')\n",
    "\n",
    "print(text_aslist2)"
   ]
  },
  {
   "cell_type": "code",
   "execution_count": 7,
   "metadata": {},
   "outputs": [
    {
     "data": {
      "text/plain": [
       "[(0, 'slay'), (1, 'boots')]"
      ]
     },
     "execution_count": 7,
     "metadata": {},
     "output_type": "execute_result"
    }
   ],
   "source": [
    "list(enumerate(['slay', 'boots']))\n",
    "\n",
    "word1, word2 = (\"slay\", \"boots\")"
   ]
  },
  {
   "cell_type": "code",
   "execution_count": 53,
   "metadata": {},
   "outputs": [
    {
     "name": "stdout",
     "output_type": "stream",
     "text": [
      "['Who', 'that', 'cares', 'much', 'to', 'know', 'the', 'history', 'of', 'man', 'and', 'how', 'the', 'mysterious', 'mixture', 'behaves', 'under', 'the', 'varying', 'experiments', 'of', 'Time', 'has', 'not', 'dwelt', 'at', 'least', 'briefly', 'on', 'the', 'life', 'of', 'Saint', 'Theresa', 'has', 'not', 'smiled', 'with', 'some', 'gentleness', 'at', 'the', 'thought', 'of', 'the', 'little', 'girl', 'walking', 'forth', 'one', 'morning', 'handinhand', 'with', 'her', 'still', 'smaller', 'brother', 'to', 'go', 'and', 'seek', 'martyrdom', 'in', 'the', 'country', 'of', 'the', 'Moors', 'Out', 'they', 'toddled', 'from', 'rugged', 'Avila', 'wideeyed', 'and', 'helplesslooking', 'as', 'two', 'fawns', 'but', 'with', 'human', 'hearts', 'already', 'beating', 'to', 'a', 'national', 'idea', 'until', 'domestic', 'reality', 'met', 'them', 'in', 'the', 'shape', 'of', 'uncles', 'and', 'turned', 'them', 'back', 'from', 'their', 'great', 'resolve', 'That', 'childpilgrimage', 'was', 'a', 'fit', 'beginning', 'Theresas', 'passionate', 'ideal', 'nature', 'demanded', 'an', 'epic', 'life', 'what', 'were', 'manyvolumed', 'romances', 'of', 'chivalry', 'and', 'the', 'social', 'conquests', 'of', 'a', 'brilliant', 'girl', 'to', 'her', 'Her', 'flame', 'quickly', 'burned', 'up', 'that', 'light', 'fuel', 'and', 'fed', 'from', 'within', 'soared', 'after', 'some', 'illimitable', 'satisfaction', 'some', 'object', 'which', 'would', 'never', 'justify', 'weariness', 'which', 'would', 'reconcile', 'selfdespair', 'with', 'the', 'rapturous', 'consciousness', 'of', 'life', 'beyond', 'self', 'She', 'found', 'her', 'epos', 'in', 'the', 'reform', 'of', 'a', 'religious', 'order']\n"
     ]
    }
   ],
   "source": [
    "#another, and more comprehensive way, would be to use regexes\n",
    "\n",
    "import re\n",
    "\n",
    "REG_EX = r'[^\\w\\s]' #matches any non (^) word (\\w) and whitespace (\\s) characters\n",
    "\n",
    "text = re.sub(REG_EX, '', text) #replace any matches for the regex in text with a null string\n",
    "\n",
    "print(text.split()) #split the cleaned text without punctuation"
   ]
  },
  {
   "cell_type": "code",
   "execution_count": null,
   "metadata": {},
   "outputs": [],
   "source": []
  }
 ],
 "metadata": {
  "kernelspec": {
   "display_name": "Python 3 (ipykernel)",
   "language": "python",
   "name": "python3"
  },
  "language_info": {
   "codemirror_mode": {
    "name": "ipython",
    "version": 3
   },
   "file_extension": ".py",
   "mimetype": "text/x-python",
   "name": "python",
   "nbconvert_exporter": "python",
   "pygments_lexer": "ipython3",
   "version": "3.12.4"
  }
 },
 "nbformat": 4,
 "nbformat_minor": 2
}
