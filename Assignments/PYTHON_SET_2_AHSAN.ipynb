{
 "cells": [
  {
   "cell_type": "code",
   "execution_count": 2,
   "metadata": {},
   "outputs": [],
   "source": [
    "### CODING SET 2\n",
    "\n",
    "# Follow the same instructions as indicated for CODING SET 1\n",
    "# DUE DATE: UPLOAD TO LMS ASSIGNMENTS TAB by OCT 10, 11.55PM as a .ipnyb file"
   ]
  },
  {
   "cell_type": "code",
   "execution_count": 3,
   "metadata": {},
   "outputs": [
    {
     "name": "stdout",
     "output_type": "stream",
     "text": [
      "Apple\n",
      "Rewind\n",
      "Sky\n",
      "Trinket\n",
      "Guess\n",
      "Twilight\n",
      "Trick\n"
     ]
    }
   ],
   "source": [
    "# Problem 1\n",
    "\n",
    "# Create a list of 10 strings. The strings should be words of varying lengths.\n",
    "# Include some words that start with the letter 't'\n",
    "words = [\"Apple\", \"Rewind\", \"Sky\", \"At\", \"To\", \"Trinket\", \"It\", \"Guess\", \"Twilight\", \"Trick\"]\n",
    "\n",
    "# Write a for loop and print out the word if that word is longer than 2 characters\n",
    "for word in words:\n",
    "    if len(word) > 2: #checking if the length of the word is greater than 2\n",
    "        print(word) #only printing if the condition is satisfied"
   ]
  },
  {
   "cell_type": "code",
   "execution_count": 4,
   "metadata": {},
   "outputs": [
    {
     "name": "stdout",
     "output_type": "stream",
     "text": [
      "YES (Apple)\n",
      "YES (Rewind)\n",
      "YES (Sky)\n",
      "NO (At)\n",
      "NO (To)\n",
      "YES (Trinket)\n",
      "NO (It)\n",
      "YES (Guess)\n",
      "YES (Twilight)\n",
      "YES (Trick)\n"
     ]
    }
   ],
   "source": [
    "# Write another NEW for loop and print out \"YES\" if the word is longer than 2 characters\n",
    "# But print out \"NO\" if the word is not longer than 2 characters\n",
    "for word in words:\n",
    "    if len(word) > 2: #checking if > 2\n",
    "        print(f\"YES ({word})\")\n",
    "    else:\n",
    "        print(f\"NO ({word})\") #if the condition is false, printing NO"
   ]
  },
  {
   "cell_type": "code",
   "execution_count": 5,
   "metadata": {},
   "outputs": [
    {
     "name": "stdout",
     "output_type": "stream",
     "text": [
      "YES (Apple)\n",
      "YES (Rewind)\n",
      "YES (Sky)\n",
      "YES (To)\n",
      "YES (Trinket)\n",
      "YES (Trinket)\n",
      "YES (Guess)\n",
      "YES (Twilight)\n",
      "YES (Twilight)\n",
      "YES (Trick)\n",
      "YES (Trick)\n"
     ]
    }
   ],
   "source": [
    "\n",
    "# Write another NEW for loop and print out \"YES\" if the word is longer than 2 characters\n",
    "# And print out \"YES\" if the word starts with the letter \"t\"\n",
    "\n",
    "for word in words:\n",
    "    if len(word) > 2:\n",
    "        print(f\"YES ({word})\") #prints YES if len > 2\n",
    "    \n",
    "    if word[0].lower() == 't':\n",
    "        print(f\"YES ({word})\") #prints YES if word starts with t\n",
    "            "
   ]
  },
  {
   "cell_type": "code",
   "execution_count": 6,
   "metadata": {},
   "outputs": [
    {
     "name": "stdout",
     "output_type": "stream",
     "text": [
      "YES (Apple)\n",
      "YES (Rewind)\n",
      "YES (Sky)\n",
      "YES (To)\n",
      "YES (Trinket)\n",
      "YES (Guess)\n",
      "YES (Twilight)\n",
      "YES (Trick)\n"
     ]
    }
   ],
   "source": [
    "# In case I misunderstood the question, I've also attempted it the other way\n",
    "\n",
    "for word in words:\n",
    "    if len(word) > 2 or word[0].lower() == 't':\n",
    "        print(f\"YES ({word})\") #prints YES if len > 2"
   ]
  },
  {
   "cell_type": "code",
   "execution_count": 7,
   "metadata": {},
   "outputs": [
    {
     "name": "stdout",
     "output_type": "stream",
     "text": [
      "['Apple', 'Rewind', 'Sky', 'Trinket', 'Guess', 'Twilight', 'Trick']\n"
     ]
    }
   ],
   "source": [
    "# Problem 2 \n",
    "\n",
    "# Use your same list of strings as above. Write a for loop and APPEND each item that\n",
    "# has a length equal or greater than 3 to a list called OUTPUT\n",
    "# Print out OUTPUT\n",
    "\n",
    "#Create empty list output\n",
    "output = []\n",
    "\n",
    "# run a for loop over all the words in words\n",
    "for word in words:\n",
    "    if len(word) >= 3: # if length is >=3 is true\n",
    "        output.append(word) #add it to output\n",
    "\n",
    "print(output) #print output"
   ]
  },
  {
   "cell_type": "code",
   "execution_count": 8,
   "metadata": {},
   "outputs": [
    {
     "name": "stdout",
     "output_type": "stream",
     "text": [
      "['Apple', 'Rewind', 'Trinket', 'Guess', 'Twilight', 'Trick']\n",
      "['At', 'To', 'It']\n",
      "['To', 'Trinket', 'Twilight', 'Trick']\n"
     ]
    }
   ],
   "source": [
    "# Next, using the same list:\n",
    "# Write a NEW for loop and append each item that has a length greater than 4 to a list called OUT1\n",
    "# and append the item to a list called OUT2 if the length is equal or less to 2, THEN continue the\n",
    "# For loop and append each item if the first character of the word is \"t\" to a new list called OUT3\n",
    "\n",
    "#create 3 empty lists out1,2,3\n",
    "out1, out2, out3 = [], [], []\n",
    "\n",
    "# run a for loop over words\n",
    "for word in words:\n",
    "    # for every word in words, check all these conditions\n",
    "    # using if instead of elif ensures all conditions are checked for every word\n",
    "    \n",
    "    if len(word) > 4:\n",
    "        out1.append(word)\n",
    "    if len(word) <= 2:\n",
    "        out2.append(word)\n",
    "    if word[0].lower() == 't':\n",
    "        out3.append(word)\n",
    "\n",
    "# Print out OUT1, OUT2, and OUT3\n",
    "print(out1, out2, out3, sep='\\n')"
   ]
  },
  {
   "cell_type": "code",
   "execution_count": 9,
   "metadata": {},
   "outputs": [
    {
     "name": "stdout",
     "output_type": "stream",
     "text": [
      "['bark', 'brat', 'shine', 'engine', 'fin']\n"
     ]
    }
   ],
   "source": [
    "# Problem 3 \n",
    "\n",
    "# Create a list of 5 tuples. The pairs should have some logical connection, like ('dog', 'bark') or \n",
    "# ('lahore', 'punjab').\n",
    "pairs = [\n",
    "    ('dog', 'bark'),\n",
    "    ('Charli xcx', 'brat'),\n",
    "    ('sun', 'shine'),\n",
    "    ('car', 'engine'),\n",
    "    ('fish', 'fin')\n",
    "]\n",
    "\n",
    "# Using this list:\n",
    "# write a for loop that appends the first item to a list called OUT1 and appends the second item to a list called\n",
    "# OUT2; print OUT2\n",
    "\n",
    "# Create empty lists out1,2\n",
    "out1, out2 = [], []\n",
    "for first, second in pairs:\n",
    "    # first, second allows us to unpack the tuples as we iterate over them in the list\n",
    "    # and add them to the corresponding list\n",
    "    out1.append(first)\n",
    "    out2.append(second)\n",
    "\n",
    "print (out2)"
   ]
  },
  {
   "cell_type": "code",
   "execution_count": 10,
   "metadata": {},
   "outputs": [
    {
     "name": "stdout",
     "output_type": "stream",
     "text": [
      "[] ['bark', 'brat', 'shine', 'engine', 'fin']\n"
     ]
    }
   ],
   "source": [
    "# Using this list:\n",
    "# write a NEW for loop that appends the first item if it has length less than 3 to a list called OUT1, and the\n",
    "# second item to a list called OUT2 if the length of this second item is greater than 1 OR greater than 4\n",
    "\n",
    "# Create the empty lists\n",
    "out1, out2 = [], []\n",
    "\n",
    "for first, second in pairs:\n",
    "    # add to out1 if the length is < 3\n",
    "    if len(first) < 3:\n",
    "        out1.append(first)\n",
    "    # add to out2 if the length is > 1 or > 4 \n",
    "    if len(second) > 1 or len(second) > 4:\n",
    "        out2.append(second)\n",
    "        \n",
    "# Print OUT1, Print OUT2\n",
    "print(out1, out2)"
   ]
  },
  {
   "cell_type": "code",
   "execution_count": 11,
   "metadata": {},
   "outputs": [
    {
     "name": "stdout",
     "output_type": "stream",
     "text": [
      "[ 0 1 2 3 4  ...  995 996 997 998 999 ]\n"
     ]
    }
   ],
   "source": [
    "### BONUS QUESTION\n",
    "\n",
    "# Figure out how to create a list of numbers, 0 to 999, where each item in the list is an integer.\n",
    "# Don't manually create this list - figure out a way to do this via automation.\n",
    "# The resulting list should look like: [0, 1, 2, 3, 4 ... 997, 998, 999]\n",
    "\n",
    "# Call this variable list_numbers; print it out\n",
    "list_numbers = [i for i in range(0,1000)]\n",
    "\n",
    "#displaying the first and last 5 sums for ease of view\n",
    "# *list prints the items in the list separately instead of as a list\n",
    "print(\"[\", *list_numbers[0:5], \" ... \", *list_numbers[-5:], \"]\")"
   ]
  },
  {
   "cell_type": "code",
   "execution_count": 12,
   "metadata": {},
   "outputs": [
    {
     "name": "stdout",
     "output_type": "stream",
     "text": [
      "[ 3 6 9 12 15  ...  2988 2991 2994 1997 1000 ]\n"
     ]
    }
   ],
   "source": [
    "# Then, figure out how to write a for loop where you iterate through the list, and you take the current\n",
    "# number, starting with 0, and you add the next two numbers (in this case, 1 and 2), returning a single\n",
    "# sum (in the first case, 0 + 1 + 2 = 3). Append these sums to a new list called list_sums.\n",
    "# One tricky thing is when you get to the end, like 998 and 999, you might get an error because you\n",
    "# don't have 1 or 2 new numbers to add to the current number. Figure out how to deal with this!\n",
    "\n",
    "# print list_sums. It should look like [3, 6 ...]\n",
    "\n",
    "# Stackoverflow is your friend here! Hint: to get the next two numbers within a for loop, you need to use indexes.\n",
    "\n",
    "'''\n",
    "One way of dealing with the edge case of being, well, at the edge of the list, is to wrap back around to the beginning.\n",
    "The other way is to simply ignore this case\n",
    "'''\n",
    "\n",
    "list_sums = []\n",
    "fix = len(list_numbers)\n",
    "for i, val in enumerate(list_numbers):\n",
    "    # enumerate returns each element with its index (in this case, they are the same)\n",
    "    try:\n",
    "        '''\n",
    "        using the modulo operator (%) on the calculated index and list length allows us to wrap around if length is exceeded\n",
    "        for example, 1000 becomes 0, 1001 becomes 1 and so on\n",
    "        '''\n",
    "        next_index = (i+1) % fix \n",
    "        next_next_index = (i+2) % fix\n",
    "        list_sums.append(val + list_numbers[next_index] + list_numbers[next_next_index])\n",
    "    except IndexError: \n",
    "        '''\n",
    "        If you want to simply ignore, you can use the fact that an IndexError exception is thrown\n",
    "        And simply append the value without adding to the list\n",
    "        To do this, remove/comment the %fix part in the index calculation\n",
    "        And uncomment list_sums.append(val) and voila\n",
    "\n",
    "        pass is simply used so that python doesn't get upset if no logic is implemented\n",
    "        '''\n",
    "        # use if you want to simply ignore the next two numbers if they exceed the list size\n",
    "        # and remove the modulo operator as well\n",
    "        # list_sums.append(val) \n",
    "        pass\n",
    "\n",
    "#displaying the first and last 5 sums for ease of view\n",
    "print(\"[\", *list_sums[0:5], \" ... \", *list_sums[-5:], \"]\")"
   ]
  },
  {
   "cell_type": "code",
   "execution_count": null,
   "metadata": {},
   "outputs": [],
   "source": []
  }
 ],
 "metadata": {
  "kernelspec": {
   "display_name": "Python 3",
   "language": "python",
   "name": "python3"
  },
  "language_info": {
   "codemirror_mode": {
    "name": "ipython",
    "version": 3
   },
   "file_extension": ".py",
   "mimetype": "text/x-python",
   "name": "python",
   "nbconvert_exporter": "python",
   "pygments_lexer": "ipython3",
   "version": "3.12.4"
  }
 },
 "nbformat": 4,
 "nbformat_minor": 2
}
