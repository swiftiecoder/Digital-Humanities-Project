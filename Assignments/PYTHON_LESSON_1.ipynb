{
 "cells": [
  {
   "cell_type": "code",
   "execution_count": 105,
   "metadata": {},
   "outputs": [],
   "source": [
    "### Welcome to our first coding lesson!\n",
    "\n",
    "# Today's lesson is designed more to get you comfortable in the Jupyter notebook environment. \n",
    "# Mainly I want to make sure you can write code, write comments, and run simple statements and see the output. \n",
    "# To get there, we're going to be working on the very core elements of programming - understanding data types, \n",
    "# i.e. the things in code.\n",
    "\n",
    "### This will provide a useful foundation as we move forward to doing things with code - so the goal\n",
    "# for today is to understand DATA TYPES and how to do some simple manipulations.\n"
   ]
  },
  {
   "cell_type": "code",
   "execution_count": 106,
   "metadata": {},
   "outputs": [],
   "source": [
    "# Let's look at a piece of text\n",
    "\n",
    "text = \"Who that cares much to know the history of man, and how the mysterious mixture behaves\\\n",
    "under the varying experiments of Time, has not dwelt, \\\n",
    "at least briefly, on the life of Saint Theresa, has not smiled with \\\n",
    "some gentleness at the thought of the little girl walking forth one \\\n",
    "morning hand-in-hand with her still smaller brother, to go and seek \\\n",
    "martyrdom in the country of the Moors?  Out they toddled from rugged \\\n",
    "Avila, wide-eyed and helpless-looking as two fawns, but with human \\\n",
    "hearts, already beating to a national idea; until domestic reality met \\\n",
    "them in the shape of uncles, and turned them back from their great \\\n",
    "resolve.  That child-pilgrimage was a fit beginning.  Theresa's \\\n",
    "passionate, ideal nature demanded an epic life: what were many-volumed \\\n",
    "romances of chivalry and the social conquests of a brilliant girl to \\\n",
    "her?  Her flame quickly burned up that light fuel; and, fed from \\\n",
    "within, soared after some illimitable satisfaction, some object which \\\n",
    "would never justify weariness, which would reconcile self-despair with \\\n",
    "the rapturous consciousness of life beyond self.  She found her epos in \\\n",
    "the reform of a religious order.\""
   ]
  },
  {
   "cell_type": "code",
   "execution_count": 107,
   "metadata": {},
   "outputs": [],
   "source": [
    "# The first think you'll notice is the item called \"text\" - that is a variable.\n",
    "# We have decided to call this variable \"text\" -  but we can call it anything.\n",
    "# The equal signs means that our item \"text\" is equal to that long string of words.\n",
    "# It's like 2 + 2 = 4; just a different way of elaborating the identity of an item.\n",
    "\n",
    "# Another thing you might notice are the double quotation marks and the slash (\\) signs\n",
    "# The quotation marks creates our item as a particular DATA TYPE, here, a \"string\" which we'll get into later\n",
    "# The back slashes (\\) are purely functional. When we start a new line but we want\n",
    "# to continue the item, we need a \\ to indicate we're continuing to the next line\n",
    "\n",
    "# Last, we need to run that cell to create our variable, \"text\" - let's do that!\n"
   ]
  },
  {
   "cell_type": "code",
   "execution_count": 108,
   "metadata": {},
   "outputs": [
    {
     "data": {
      "text/plain": [
       "\"Who that cares much to know the history of man, and how the mysterious mixture behavesunder the varying experiments of Time, has not dwelt, at least briefly, on the life of Saint Theresa, has not smiled with some gentleness at the thought of the little girl walking forth one morning hand-in-hand with her still smaller brother, to go and seek martyrdom in the country of the Moors?  Out they toddled from rugged Avila, wide-eyed and helpless-looking as two fawns, but with human hearts, already beating to a national idea; until domestic reality met them in the shape of uncles, and turned them back from their great resolve.  That child-pilgrimage was a fit beginning.  Theresa's passionate, ideal nature demanded an epic life: what were many-volumed romances of chivalry and the social conquests of a brilliant girl to her?  Her flame quickly burned up that light fuel; and, fed from within, soared after some illimitable satisfaction, some object which would never justify weariness, which would reconcile self-despair with the rapturous consciousness of life beyond self.  She found her epos in the reform of a religious order.\""
      ]
     },
     "execution_count": 108,
     "metadata": {},
     "output_type": "execute_result"
    }
   ],
   "source": [
    "# First let's make sure we have created our variable\n",
    "text"
   ]
  },
  {
   "cell_type": "code",
   "execution_count": 109,
   "metadata": {},
   "outputs": [
    {
     "name": "stdout",
     "output_type": "stream",
     "text": [
      "Who that cares much to know the history of man, and how the mysterious mixture behavesunder the varying experiments of Time, has not dwelt, at least briefly, on the life of Saint Theresa, has not smiled with some gentleness at the thought of the little girl walking forth one morning hand-in-hand with her still smaller brother, to go and seek martyrdom in the country of the Moors?  Out they toddled from rugged Avila, wide-eyed and helpless-looking as two fawns, but with human hearts, already beating to a national idea; until domestic reality met them in the shape of uncles, and turned them back from their great resolve.  That child-pilgrimage was a fit beginning.  Theresa's passionate, ideal nature demanded an epic life: what were many-volumed romances of chivalry and the social conquests of a brilliant girl to her?  Her flame quickly burned up that light fuel; and, fed from within, soared after some illimitable satisfaction, some object which would never justify weariness, which would reconcile self-despair with the rapturous consciousness of life beyond self.  She found her epos in the reform of a religious order.\n"
     ]
    }
   ],
   "source": [
    "# Another way to represent your item or variable is to run a command called PRINT\n",
    "\n",
    "print(text)"
   ]
  },
  {
   "cell_type": "code",
   "execution_count": 110,
   "metadata": {},
   "outputs": [],
   "source": [
    "# Notice, there are no quotations! That's because we are now representing the item as it\n",
    "# appears as a produced object, not what its raw state is.\n"
   ]
  },
  {
   "cell_type": "code",
   "execution_count": 112,
   "metadata": {},
   "outputs": [
    {
     "data": {
      "text/plain": [
       "str"
      ]
     },
     "execution_count": 112,
     "metadata": {},
     "output_type": "execute_result"
    }
   ],
   "source": [
    "# OK! Now what is this thing? We can use a command called TYPE to tell us what kind of data this is\n",
    "\n",
    "type(text)"
   ]
  },
  {
   "cell_type": "code",
   "execution_count": 113,
   "metadata": {},
   "outputs": [
    {
     "data": {
      "text/plain": [
       "(str, int, float)"
      ]
     },
     "execution_count": 113,
     "metadata": {},
     "output_type": "execute_result"
    }
   ],
   "source": [
    "# It's a string!\n",
    "\n",
    "# The core data types for individual items are STRINGS, FLOATS, and INTEGERS\n",
    "\n",
    "type('I am a cat'), type(4), type(6.6)"
   ]
  },
  {
   "cell_type": "code",
   "execution_count": 114,
   "metadata": {},
   "outputs": [
    {
     "data": {
      "text/plain": [
       "1132"
      ]
     },
     "execution_count": 114,
     "metadata": {},
     "output_type": "execute_result"
    }
   ],
   "source": [
    "### Now let's do some stuff with our chunk of text, \"text\"\n",
    "\n",
    "# First how many things are in text? Let's use the command LEN to figure out how long it is, which is\n",
    "# a proxy for how many things are in it\n",
    "\n",
    "len(text)"
   ]
  },
  {
   "cell_type": "code",
   "execution_count": 115,
   "metadata": {},
   "outputs": [
    {
     "data": {
      "text/plain": [
       "10"
      ]
     },
     "execution_count": 115,
     "metadata": {},
     "output_type": "execute_result"
    }
   ],
   "source": [
    "# What's up with that! Why 1132?\n",
    "len('I am a cat')"
   ]
  },
  {
   "cell_type": "code",
   "execution_count": 116,
   "metadata": {},
   "outputs": [
    {
     "data": {
      "text/plain": [
       "\"ho that cares much to know the history of man, and how the mysterious mixture behavesunder the varying experiments of Time, has not dwelt, at least briefly, on the life of Saint Theresa, has not smiled with some gentleness at the thought of the little girl walking forth one morning hand-in-hand with her still smaller brother, to go and seek martyrdom in the country of the Moors?  Out they toddled from rugged Avila, wide-eyed and helpless-looking as two fawns, but with human hearts, already beating to a national idea; until domestic reality met them in the shape of uncles, and turned them back from their great resolve.  That child-pilgrimage was a fit beginning.  Theresa's passionate, ideal nature demanded an epic life: what were many-volumed romances of chivalry and the social conquests of a brilliant girl to her?  Her flame quickly burned up that light fuel; and, fed from within, soared after some illimitable satisfaction, some object which would never justify weariness, which would reconcile self-despair with the rapturous consciousness of life beyond self.  She found her epos in the reform of a religious order.\""
      ]
     },
     "execution_count": 116,
     "metadata": {},
     "output_type": "execute_result"
    }
   ],
   "source": [
    "# SLICING; a useful thing to do is to chop up an item \n",
    "\n",
    "text[1:]"
   ]
  },
  {
   "cell_type": "code",
   "execution_count": 117,
   "metadata": {},
   "outputs": [
    {
     "data": {
      "text/plain": [
       "\"ho that cares much to know the history of man, and how the mysterious mixture behavesunder the varying experiments of Time, has not dwelt, at least briefly, on the life of Saint Theresa, has not smiled with some gentleness at the thought of the little girl walking forth one morning hand-in-hand with her still smaller brother, to go and seek martyrdom in the country of the Moors?  Out they toddled from rugged Avila, wide-eyed and helpless-looking as two fawns, but with human hearts, already beating to a national idea; until domestic reality met them in the shape of uncles, and turned them back from their great resolve.  That child-pilgrimage was a fit beginning.  Theresa's passionate, ideal nature demanded an epic life: what were many-volumed romances of chivalry and the social conquests of a brilliant girl to her?  Her flame quickly burned up that light fuel; and, fed from within, soared after some illimitable satisfaction, some object which would never justify weariness, which would reconcile self-despair with the rapturous consciousness of life beyond self.  She found her epos in the reform of a religious order.\""
      ]
     },
     "execution_count": 117,
     "metadata": {},
     "output_type": "execute_result"
    }
   ],
   "source": [
    "text[1:] "
   ]
  },
  {
   "cell_type": "code",
   "execution_count": 118,
   "metadata": {},
   "outputs": [
    {
     "data": {
      "text/plain": [
       "\"o that cares much to know the history of man, and how the mysterious mixture behavesunder the varying experiments of Time, has not dwelt, at least briefly, on the life of Saint Theresa, has not smiled with some gentleness at the thought of the little girl walking forth one morning hand-in-hand with her still smaller brother, to go and seek martyrdom in the country of the Moors?  Out they toddled from rugged Avila, wide-eyed and helpless-looking as two fawns, but with human hearts, already beating to a national idea; until domestic reality met them in the shape of uncles, and turned them back from their great resolve.  That child-pilgrimage was a fit beginning.  Theresa's passionate, ideal nature demanded an epic life: what were many-volumed romances of chivalry and the social conquests of a brilliant girl to her?  Her flame quickly burned up that light fuel; and, fed from within, soared after some illimitable satisfaction, some object which would never justify weariness, which would reconcile self-despair with the rapturous consciousness of life beyond self.  She found her epos in the reform of a religious order.\""
      ]
     },
     "execution_count": 118,
     "metadata": {},
     "output_type": "execute_result"
    }
   ],
   "source": [
    "text[2:]"
   ]
  },
  {
   "cell_type": "code",
   "execution_count": 119,
   "metadata": {},
   "outputs": [
    {
     "name": "stdout",
     "output_type": "stream",
     "text": [
      "Who that cares much \n"
     ]
    }
   ],
   "source": [
    "# Create new variable!\n",
    "\n",
    "text1 = text[0:20]\n",
    "# Sanity check\n",
    "print(text1)"
   ]
  },
  {
   "cell_type": "code",
   "execution_count": 120,
   "metadata": {},
   "outputs": [
    {
     "name": "stdout",
     "output_type": "stream",
     "text": [
      "-- WRITTEN BY THE GREAT GEORGE ELIOT!!!!       \n"
     ]
    }
   ],
   "source": [
    "### Slicing is the main way to manipulate strings and you'll do it a lot\n",
    "# But concatentation is another way - this is to add stuff to an item like a string\n",
    "\n",
    "# Let's create a new string variable\n",
    "\n",
    "author = \"-- WRITTEN BY THE GREAT GEORGE ELIOT!!!!       \"\n",
    "\n",
    "print(author)"
   ]
  },
  {
   "cell_type": "code",
   "execution_count": 121,
   "metadata": {},
   "outputs": [
    {
     "name": "stdout",
     "output_type": "stream",
     "text": [
      "Who that cares much to know the history of man, and how the mysterious mixture behavesunder the varying experiments of Time, has not dwelt, at least briefly, on the life of Saint Theresa, has not smiled with some gentleness at the thought of the little girl walking forth one morning hand-in-hand with her still smaller brother, to go and seek martyrdom in the country of the Moors?  Out they toddled from rugged Avila, wide-eyed and helpless-looking as two fawns, but with human hearts, already beating to a national idea; until domestic reality met them in the shape of uncles, and turned them back from their great resolve.  That child-pilgrimage was a fit beginning.  Theresa's passionate, ideal nature demanded an epic life: what were many-volumed romances of chivalry and the social conquests of a brilliant girl to her?  Her flame quickly burned up that light fuel; and, fed from within, soared after some illimitable satisfaction, some object which would never justify weariness, which would reconcile self-despair with the rapturous consciousness of life beyond self.  She found her epos in the reform of a religious order.-- WRITTEN BY THE GREAT GEORGE ELIOT!!!!       \n"
     ]
    }
   ],
   "source": [
    "# Now we can just ADD this string to our current one!\n",
    "\n",
    "text3 = text + author\n",
    "print(text3)"
   ]
  },
  {
   "cell_type": "code",
   "execution_count": 122,
   "metadata": {},
   "outputs": [
    {
     "name": "stdout",
     "output_type": "stream",
     "text": [
      "Who that cares much -- WRITTEN BY THE GREAT GEORGE ELIOT!!!!       \n"
     ]
    }
   ],
   "source": [
    "print(text1 + author)"
   ]
  },
  {
   "cell_type": "code",
   "execution_count": 123,
   "metadata": {},
   "outputs": [
    {
     "name": "stdout",
     "output_type": "stream",
     "text": [
      "-- WRITTEN BY THE GREAT GEORGE ELIOT!!!!       Who that cares much to know the history of man, and how the mysterious mixture behavesunder the varying experiments of Time, has not dwelt, at least briefly, on the life of Saint Theresa, has not smiled with some gentleness at the thought of the little girl walking forth one morning hand-in-hand with her still smaller brother, to go and seek martyrdom in the country of the Moors?  Out they toddled from rugged Avila, wide-eyed and helpless-looking as two fawns, but with human hearts, already beating to a national idea; until domestic reality met them in the shape of uncles, and turned them back from their great resolve.  That child-pilgrimage was a fit beginning.  Theresa's passionate, ideal nature demanded an epic life: what were many-volumed romances of chivalry and the social conquests of a brilliant girl to her?  Her flame quickly burned up that light fuel; and, fed from within, soared after some illimitable satisfaction, some object which would never justify weariness, which would reconcile self-despair with the rapturous consciousness of life beyond self.  She found her epos in the reform of a religious order.\n"
     ]
    }
   ],
   "source": [
    "# And we can do this however we want\n",
    "\n",
    "text4 = author + text\n",
    "print(text4)"
   ]
  },
  {
   "cell_type": "code",
   "execution_count": 124,
   "metadata": {},
   "outputs": [
    {
     "name": "stdout",
     "output_type": "stream",
     "text": [
      "-- W\n",
      "d how the \n"
     ]
    }
   ],
   "source": [
    "# Put it together\n",
    "\n",
    "text5 = author[0:4] + \"\\n\" + text[50:60]\n",
    "print(text5)"
   ]
  },
  {
   "cell_type": "code",
   "execution_count": 125,
   "metadata": {},
   "outputs": [
    {
     "name": "stdout",
     "output_type": "stream",
     "text": [
      "<class 'int'> 5\n"
     ]
    }
   ],
   "source": [
    "### Let's go back to the other datatypes, integers and floats\n",
    "\n",
    "number = 5\n",
    "print(type(number), number)"
   ]
  },
  {
   "cell_type": "code",
   "execution_count": 126,
   "metadata": {},
   "outputs": [
    {
     "ename": "TypeError",
     "evalue": "can only concatenate str (not \"int\") to str",
     "output_type": "error",
     "traceback": [
      "\u001b[1;31m---------------------------------------------------------------------------\u001b[0m",
      "\u001b[1;31mTypeError\u001b[0m                                 Traceback (most recent call last)",
      "Cell \u001b[1;32mIn[126], line 3\u001b[0m\n\u001b[0;32m      1\u001b[0m \u001b[38;5;66;03m# Let's try something!\u001b[39;00m\n\u001b[1;32m----> 3\u001b[0m text6 \u001b[38;5;241m=\u001b[39m \u001b[43mtext\u001b[49m\u001b[43m \u001b[49m\u001b[38;5;241;43m+\u001b[39;49m\u001b[43m \u001b[49m\u001b[43mnumber\u001b[49m\n",
      "\u001b[1;31mTypeError\u001b[0m: can only concatenate str (not \"int\") to str"
     ]
    }
   ],
   "source": [
    "# Let's try something!\n",
    "\n",
    "text6 = text + number"
   ]
  },
  {
   "cell_type": "code",
   "execution_count": 127,
   "metadata": {},
   "outputs": [
    {
     "data": {
      "text/plain": [
       "\"Who that cares much to know the history of man, and how the mysterious mixture behavesunder the varying experiments of Time, has not dwelt, at least briefly, on the life of Saint Theresa, has not smiled with some gentleness at the thought of the little girl walking forth one morning hand-in-hand with her still smaller brother, to go and seek martyrdom in the country of the Moors?  Out they toddled from rugged Avila, wide-eyed and helpless-looking as two fawns, but with human hearts, already beating to a national idea; until domestic reality met them in the shape of uncles, and turned them back from their great resolve.  That child-pilgrimage was a fit beginning.  Theresa's passionate, ideal nature demanded an epic life: what were many-volumed romances of chivalry and the social conquests of a brilliant girl to her?  Her flame quickly burned up that light fuel; and, fed from within, soared after some illimitable satisfaction, some object which would never justify weariness, which would reconcile self-despair with the rapturous consciousness of life beyond self.  She found her epos in the reform of a religious order. 5\""
      ]
     },
     "execution_count": 127,
     "metadata": {},
     "output_type": "execute_result"
    }
   ],
   "source": [
    "text6 = text + \" \" + str(number)\n",
    "text6"
   ]
  },
  {
   "cell_type": "code",
   "execution_count": 128,
   "metadata": {},
   "outputs": [
    {
     "name": "stdout",
     "output_type": "stream",
     "text": [
      "5\n",
      "5\n"
     ]
    },
    {
     "data": {
      "text/plain": [
       "(None, None)"
      ]
     },
     "execution_count": 128,
     "metadata": {},
     "output_type": "execute_result"
    }
   ],
   "source": [
    "print(5), print(\"5\")"
   ]
  },
  {
   "cell_type": "code",
   "execution_count": 129,
   "metadata": {},
   "outputs": [
    {
     "ename": "TypeError",
     "evalue": "'int' object is not subscriptable",
     "output_type": "error",
     "traceback": [
      "\u001b[1;31m---------------------------------------------------------------------------\u001b[0m",
      "\u001b[1;31mTypeError\u001b[0m                                 Traceback (most recent call last)",
      "Cell \u001b[1;32mIn[129], line 3\u001b[0m\n\u001b[0;32m      1\u001b[0m \u001b[38;5;66;03m# What about this\u001b[39;00m\n\u001b[1;32m----> 3\u001b[0m \u001b[43mnumber\u001b[49m\u001b[43m[\u001b[49m\u001b[38;5;241;43m0\u001b[39;49m\u001b[43m:\u001b[49m\u001b[38;5;241;43m3\u001b[39;49m\u001b[43m]\u001b[49m\n",
      "\u001b[1;31mTypeError\u001b[0m: 'int' object is not subscriptable"
     ]
    }
   ],
   "source": [
    "# What about this\n",
    "\n",
    "number[0:3]"
   ]
  },
  {
   "cell_type": "code",
   "execution_count": 130,
   "metadata": {},
   "outputs": [
    {
     "name": "stdout",
     "output_type": "stream",
     "text": [
      "14.5\n"
     ]
    },
    {
     "data": {
      "text/plain": [
       "float"
      ]
     },
     "execution_count": 130,
     "metadata": {},
     "output_type": "execute_result"
    }
   ],
   "source": [
    "# What about this\n",
    "\n",
    "decimal = 9.5\n",
    "\n",
    "number2 = number + decimal\n",
    "\n",
    "print(number2) \n",
    "type(number2)"
   ]
  },
  {
   "cell_type": "code",
   "execution_count": 131,
   "metadata": {},
   "outputs": [
    {
     "data": {
      "text/plain": [
       "int"
      ]
     },
     "execution_count": 131,
     "metadata": {},
     "output_type": "execute_result"
    }
   ],
   "source": [
    "x = 70\n",
    "type(x)"
   ]
  },
  {
   "cell_type": "code",
   "execution_count": 132,
   "metadata": {},
   "outputs": [
    {
     "data": {
      "text/plain": [
       "str"
      ]
     },
     "execution_count": 132,
     "metadata": {},
     "output_type": "execute_result"
    }
   ],
   "source": [
    "y = str(x)\n",
    "type(y)"
   ]
  },
  {
   "cell_type": "code",
   "execution_count": 133,
   "metadata": {},
   "outputs": [
    {
     "ename": "ValueError",
     "evalue": "invalid literal for int() with base 10: '-- W\\nd how the '",
     "output_type": "error",
     "traceback": [
      "\u001b[1;31m---------------------------------------------------------------------------\u001b[0m",
      "\u001b[1;31mValueError\u001b[0m                                Traceback (most recent call last)",
      "Cell \u001b[1;32mIn[133], line 3\u001b[0m\n\u001b[0;32m      1\u001b[0m \u001b[38;5;66;03m# One more thing - we can COERCE items to be different things, if there is a basis for it\u001b[39;00m\n\u001b[1;32m----> 3\u001b[0m \u001b[38;5;28;43mint\u001b[39;49m\u001b[43m(\u001b[49m\u001b[43mtext5\u001b[49m\u001b[43m)\u001b[49m\n",
      "\u001b[1;31mValueError\u001b[0m: invalid literal for int() with base 10: '-- W\\nd how the '"
     ]
    }
   ],
   "source": [
    "# One more thing - we can COERCE items to be different things, if there is a basis for it\n",
    "\n",
    "int(text5)"
   ]
  },
  {
   "cell_type": "code",
   "execution_count": 134,
   "metadata": {},
   "outputs": [
    {
     "data": {
      "text/plain": [
       "'5'"
      ]
     },
     "execution_count": 134,
     "metadata": {},
     "output_type": "execute_result"
    }
   ],
   "source": [
    "# But ....\n",
    "\n",
    "str(number) # works!"
   ]
  },
  {
   "cell_type": "code",
   "execution_count": 135,
   "metadata": {},
   "outputs": [
    {
     "data": {
      "text/plain": [
       "['dog frog', 'cat', 'horse']"
      ]
     },
     "execution_count": 135,
     "metadata": {},
     "output_type": "execute_result"
    }
   ],
   "source": [
    "### Last thing for the day, LISTS\n",
    "\n",
    "# Lists are really important datatypes; think of them as containers that can contain many smaller datatypes, like\n",
    "# strings or integers\n",
    "\n",
    "# This is what they look like\n",
    "\n",
    "list_1 = ['dog' + \" \" + 'frog', 'cat', 'horse'] # That is a LIST OF STRINGS\n",
    "list_1"
   ]
  },
  {
   "cell_type": "code",
   "execution_count": 137,
   "metadata": {},
   "outputs": [
    {
     "data": {
      "text/plain": [
       "3"
      ]
     },
     "execution_count": 137,
     "metadata": {},
     "output_type": "execute_result"
    }
   ],
   "source": [
    "len(list_1)"
   ]
  },
  {
   "cell_type": "code",
   "execution_count": 138,
   "metadata": {},
   "outputs": [
    {
     "data": {
      "text/plain": [
       "str"
      ]
     },
     "execution_count": 138,
     "metadata": {},
     "output_type": "execute_result"
    }
   ],
   "source": [
    "# What is it?\n",
    "\n",
    "#type(list_1)\n",
    "\n",
    "# Slice and type!\n",
    "\n",
    "type(list_1[0])"
   ]
  },
  {
   "cell_type": "code",
   "execution_count": 139,
   "metadata": {},
   "outputs": [
    {
     "data": {
      "text/plain": [
       "['dog frog', 'cat']"
      ]
     },
     "execution_count": 139,
     "metadata": {},
     "output_type": "execute_result"
    }
   ],
   "source": [
    "list_1[0:2]"
   ]
  },
  {
   "cell_type": "code",
   "execution_count": 140,
   "metadata": {},
   "outputs": [
    {
     "data": {
      "text/plain": [
       "int"
      ]
     },
     "execution_count": 140,
     "metadata": {},
     "output_type": "execute_result"
    }
   ],
   "source": [
    "# You can also mix and match types\n",
    "\n",
    "list_2 = ['cat', 'dog', 3, 'dog']\n",
    "#type(list_2[0])\n",
    "type(list_2[2])"
   ]
  },
  {
   "cell_type": "code",
   "execution_count": 141,
   "metadata": {},
   "outputs": [
    {
     "data": {
      "text/plain": [
       "['dog frog', 'cat', 'horse', 'cat', 'dog', 3, 'dog']"
      ]
     },
     "execution_count": 141,
     "metadata": {},
     "output_type": "execute_result"
    }
   ],
   "source": [
    "# And add things together\n",
    "\n",
    "big_list = list_1 + list_2\n",
    "\n",
    "big_list"
   ]
  },
  {
   "cell_type": "code",
   "execution_count": 142,
   "metadata": {},
   "outputs": [
    {
     "name": "stdout",
     "output_type": "stream",
     "text": [
      "['W', 'h', 'o', ' ', 't', 'h', 'a', 't', ' ', 'c', 'a', 'r', 'e', 's', ' ', 'm', 'u', 'c', 'h', ' ', 't', 'o', ' ', 'k', 'n', 'o', 'w', ' ', 't', 'h', 'e', ' ', 'h', 'i', 's', 't', 'o', 'r', 'y', ' ', 'o', 'f', ' ', 'm', 'a', 'n', ',', ' ', 'a', 'n', 'd', ' ', 'h', 'o', 'w', ' ', 't', 'h', 'e', ' ', 'm', 'y', 's', 't', 'e', 'r', 'i', 'o', 'u', 's', ' ', 'm', 'i', 'x', 't', 'u', 'r', 'e', ' ', 'b', 'e', 'h', 'a', 'v', 'e', 's', 'u', 'n', 'd', 'e', 'r', ' ', 't', 'h', 'e', ' ', 'v', 'a', 'r', 'y', 'i', 'n', 'g', ' ', 'e', 'x', 'p', 'e', 'r', 'i', 'm', 'e', 'n', 't', 's', ' ', 'o', 'f', ' ', 'T', 'i', 'm', 'e', ',', ' ', 'h', 'a', 's', ' ', 'n', 'o', 't', ' ', 'd', 'w', 'e', 'l', 't', ',', ' ', 'a', 't', ' ', 'l', 'e', 'a', 's', 't', ' ', 'b', 'r', 'i', 'e', 'f', 'l', 'y', ',', ' ', 'o', 'n', ' ', 't', 'h', 'e', ' ', 'l', 'i', 'f', 'e', ' ', 'o', 'f', ' ', 'S', 'a', 'i', 'n', 't', ' ', 'T', 'h', 'e', 'r', 'e', 's', 'a', ',', ' ', 'h', 'a', 's', ' ', 'n', 'o', 't', ' ', 's', 'm', 'i', 'l', 'e', 'd', ' ', 'w', 'i', 't', 'h', ' ', 's', 'o', 'm', 'e', ' ', 'g', 'e', 'n', 't', 'l', 'e', 'n', 'e', 's', 's', ' ', 'a', 't', ' ', 't', 'h', 'e', ' ', 't', 'h', 'o', 'u', 'g', 'h', 't', ' ', 'o', 'f', ' ', 't', 'h', 'e', ' ', 'l', 'i', 't', 't', 'l', 'e', ' ', 'g', 'i', 'r', 'l', ' ', 'w', 'a', 'l', 'k', 'i', 'n', 'g', ' ', 'f', 'o', 'r', 't', 'h', ' ', 'o', 'n', 'e', ' ', 'm', 'o', 'r', 'n', 'i', 'n', 'g', ' ', 'h', 'a', 'n', 'd', '-', 'i', 'n', '-', 'h', 'a', 'n', 'd', ' ', 'w', 'i', 't', 'h', ' ', 'h', 'e', 'r', ' ', 's', 't', 'i', 'l', 'l', ' ', 's', 'm', 'a', 'l', 'l', 'e', 'r', ' ', 'b', 'r', 'o', 't', 'h', 'e', 'r', ',', ' ', 't', 'o', ' ', 'g', 'o', ' ', 'a', 'n', 'd', ' ', 's', 'e', 'e', 'k', ' ', 'm', 'a', 'r', 't', 'y', 'r', 'd', 'o', 'm', ' ', 'i', 'n', ' ', 't', 'h', 'e', ' ', 'c', 'o', 'u', 'n', 't', 'r', 'y', ' ', 'o', 'f', ' ', 't', 'h', 'e', ' ', 'M', 'o', 'o', 'r', 's', '?', ' ', ' ', 'O', 'u', 't', ' ', 't', 'h', 'e', 'y', ' ', 't', 'o', 'd', 'd', 'l', 'e', 'd', ' ', 'f', 'r', 'o', 'm', ' ', 'r', 'u', 'g', 'g', 'e', 'd', ' ', 'A', 'v', 'i', 'l', 'a', ',', ' ', 'w', 'i', 'd', 'e', '-', 'e', 'y', 'e', 'd', ' ', 'a', 'n', 'd', ' ', 'h', 'e', 'l', 'p', 'l', 'e', 's', 's', '-', 'l', 'o', 'o', 'k', 'i', 'n', 'g', ' ', 'a', 's', ' ', 't', 'w', 'o', ' ', 'f', 'a', 'w', 'n', 's', ',', ' ', 'b', 'u', 't', ' ', 'w', 'i', 't', 'h', ' ', 'h', 'u', 'm', 'a', 'n', ' ', 'h', 'e', 'a', 'r', 't', 's', ',', ' ', 'a', 'l', 'r', 'e', 'a', 'd', 'y', ' ', 'b', 'e', 'a', 't', 'i', 'n', 'g', ' ', 't', 'o', ' ', 'a', ' ', 'n', 'a', 't', 'i', 'o', 'n', 'a', 'l', ' ', 'i', 'd', 'e', 'a', ';', ' ', 'u', 'n', 't', 'i', 'l', ' ', 'd', 'o', 'm', 'e', 's', 't', 'i', 'c', ' ', 'r', 'e', 'a', 'l', 'i', 't', 'y', ' ', 'm', 'e', 't', ' ', 't', 'h', 'e', 'm', ' ', 'i', 'n', ' ', 't', 'h', 'e', ' ', 's', 'h', 'a', 'p', 'e', ' ', 'o', 'f', ' ', 'u', 'n', 'c', 'l', 'e', 's', ',', ' ', 'a', 'n', 'd', ' ', 't', 'u', 'r', 'n', 'e', 'd', ' ', 't', 'h', 'e', 'm', ' ', 'b', 'a', 'c', 'k', ' ', 'f', 'r', 'o', 'm', ' ', 't', 'h', 'e', 'i', 'r', ' ', 'g', 'r', 'e', 'a', 't', ' ', 'r', 'e', 's', 'o', 'l', 'v', 'e', '.', ' ', ' ', 'T', 'h', 'a', 't', ' ', 'c', 'h', 'i', 'l', 'd', '-', 'p', 'i', 'l', 'g', 'r', 'i', 'm', 'a', 'g', 'e', ' ', 'w', 'a', 's', ' ', 'a', ' ', 'f', 'i', 't', ' ', 'b', 'e', 'g', 'i', 'n', 'n', 'i', 'n', 'g', '.', ' ', ' ', 'T', 'h', 'e', 'r', 'e', 's', 'a', \"'\", 's', ' ', 'p', 'a', 's', 's', 'i', 'o', 'n', 'a', 't', 'e', ',', ' ', 'i', 'd', 'e', 'a', 'l', ' ', 'n', 'a', 't', 'u', 'r', 'e', ' ', 'd', 'e', 'm', 'a', 'n', 'd', 'e', 'd', ' ', 'a', 'n', ' ', 'e', 'p', 'i', 'c', ' ', 'l', 'i', 'f', 'e', ':', ' ', 'w', 'h', 'a', 't', ' ', 'w', 'e', 'r', 'e', ' ', 'm', 'a', 'n', 'y', '-', 'v', 'o', 'l', 'u', 'm', 'e', 'd', ' ', 'r', 'o', 'm', 'a', 'n', 'c', 'e', 's', ' ', 'o', 'f', ' ', 'c', 'h', 'i', 'v', 'a', 'l', 'r', 'y', ' ', 'a', 'n', 'd', ' ', 't', 'h', 'e', ' ', 's', 'o', 'c', 'i', 'a', 'l', ' ', 'c', 'o', 'n', 'q', 'u', 'e', 's', 't', 's', ' ', 'o', 'f', ' ', 'a', ' ', 'b', 'r', 'i', 'l', 'l', 'i', 'a', 'n', 't', ' ', 'g', 'i', 'r', 'l', ' ', 't', 'o', ' ', 'h', 'e', 'r', '?', ' ', ' ', 'H', 'e', 'r', ' ', 'f', 'l', 'a', 'm', 'e', ' ', 'q', 'u', 'i', 'c', 'k', 'l', 'y', ' ', 'b', 'u', 'r', 'n', 'e', 'd', ' ', 'u', 'p', ' ', 't', 'h', 'a', 't', ' ', 'l', 'i', 'g', 'h', 't', ' ', 'f', 'u', 'e', 'l', ';', ' ', 'a', 'n', 'd', ',', ' ', 'f', 'e', 'd', ' ', 'f', 'r', 'o', 'm', ' ', 'w', 'i', 't', 'h', 'i', 'n', ',', ' ', 's', 'o', 'a', 'r', 'e', 'd', ' ', 'a', 'f', 't', 'e', 'r', ' ', 's', 'o', 'm', 'e', ' ', 'i', 'l', 'l', 'i', 'm', 'i', 't', 'a', 'b', 'l', 'e', ' ', 's', 'a', 't', 'i', 's', 'f', 'a', 'c', 't', 'i', 'o', 'n', ',', ' ', 's', 'o', 'm', 'e', ' ', 'o', 'b', 'j', 'e', 'c', 't', ' ', 'w', 'h', 'i', 'c', 'h', ' ', 'w', 'o', 'u', 'l', 'd', ' ', 'n', 'e', 'v', 'e', 'r', ' ', 'j', 'u', 's', 't', 'i', 'f', 'y', ' ', 'w', 'e', 'a', 'r', 'i', 'n', 'e', 's', 's', ',', ' ', 'w', 'h', 'i', 'c', 'h', ' ', 'w', 'o', 'u', 'l', 'd', ' ', 'r', 'e', 'c', 'o', 'n', 'c', 'i', 'l', 'e', ' ', 's', 'e', 'l', 'f', '-', 'd', 'e', 's', 'p', 'a', 'i', 'r', ' ', 'w', 'i', 't', 'h', ' ', 't', 'h', 'e', ' ', 'r', 'a', 'p', 't', 'u', 'r', 'o', 'u', 's', ' ', 'c', 'o', 'n', 's', 'c', 'i', 'o', 'u', 's', 'n', 'e', 's', 's', ' ', 'o', 'f', ' ', 'l', 'i', 'f', 'e', ' ', 'b', 'e', 'y', 'o', 'n', 'd', ' ', 's', 'e', 'l', 'f', '.', ' ', ' ', 'S', 'h', 'e', ' ', 'f', 'o', 'u', 'n', 'd', ' ', 'h', 'e', 'r', ' ', 'e', 'p', 'o', 's', ' ', 'i', 'n', ' ', 't', 'h', 'e', ' ', 'r', 'e', 'f', 'o', 'r', 'm', ' ', 'o', 'f', ' ', 'a', ' ', 'r', 'e', 'l', 'i', 'g', 'i', 'o', 'u', 's', ' ', 'o', 'r', 'd', 'e', 'r', '.']\n"
     ]
    }
   ],
   "source": [
    "# OK back to our piece of text!\n",
    "\n",
    "# Let's turn our TEXT item into a list of individual words!\n",
    "\n",
    "text_aslist = list(text)\n",
    "print(text_aslist)"
   ]
  },
  {
   "cell_type": "code",
   "execution_count": null,
   "metadata": {},
   "outputs": [],
   "source": [
    "### UH OH! You see what is going on here! But we have a way to split up our string into a LIST OF STRINGS\n",
    "\n",
    "# We'll use a cool function/method called SPLIT; more on that in future lessons\n",
    "\n",
    "text_aslist2 = text.split()\n",
    "print(text_aslist2)"
   ]
  },
  {
   "cell_type": "code",
   "execution_count": null,
   "metadata": {},
   "outputs": [],
   "source": [
    "# Sweet! And now we can have some fun with splitting\n",
    "\n",
    "#text_aslist2[5]\n",
    "text_aslist2[4:6]"
   ]
  },
  {
   "cell_type": "code",
   "execution_count": null,
   "metadata": {},
   "outputs": [],
   "source": [
    "### Last note of the day! COMMENTING\n",
    "# As I've been doing in this first lesson, use the # symbol to make comments in\n",
    "# your code. As is clear now, this produces text that is not read as computer\n",
    "# code. It is read as natural language, and you use it to communicate with readers.\n",
    "# It is a real VIRTUE to always commment your code so both YOU and your reader\n",
    "# knows what's going on. \n",
    "\n",
    "# For your homework, this is especially important. If you can't solve the problem\n",
    "# but tried a few things, add COMMENTS to explain to me what you're trying to do."
   ]
  }
 ],
 "metadata": {
  "kernelspec": {
   "display_name": "Python 3",
   "language": "python",
   "name": "python3"
  },
  "language_info": {
   "codemirror_mode": {
    "name": "ipython",
    "version": 3
   },
   "file_extension": ".py",
   "mimetype": "text/x-python",
   "name": "python",
   "nbconvert_exporter": "python",
   "pygments_lexer": "ipython3",
   "version": "3.12.4"
  }
 },
 "nbformat": 4,
 "nbformat_minor": 2
}
