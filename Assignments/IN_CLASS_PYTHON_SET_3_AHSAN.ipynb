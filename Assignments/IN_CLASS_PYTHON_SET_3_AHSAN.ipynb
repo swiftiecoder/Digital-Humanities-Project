{
 "cells": [
  {
   "cell_type": "code",
   "execution_count": 1,
   "metadata": {},
   "outputs": [],
   "source": [
    "import re"
   ]
  },
  {
   "cell_type": "code",
   "execution_count": 2,
   "metadata": {},
   "outputs": [],
   "source": [
    "### CODING SET 3\n",
    "\n",
    "# Instructions the same as for last two coding sets\n",
    "\n",
    "passage = \"Some have felt that these blundering http lives are due to the inconvenient \\\n",
    "indefiniteness with which the Supreme Power has fashioned the natures \\\n",
    "of women: if there http were one level of feminine incompetence as strict as \\\n",
    "the ability$#$#$#$ to count DFSDFDSFDSDFSAERER three and no more, the social lot of women might \\\n",
    "be treated with scientific certitude.  Meanwhile the HSGDRFSRERER indefiniteness \\\n",
    "remains, and the limits of variation are really much wider than any one \\\n",
    "would imagine from the sameness of women's coiffure and the favorite \\\n",
    "love-stories in prose and verse. http:  Here*&*SRESR and there a cygnet is reared \\\n",
    "uneasily among the ducklings in the brown pond, and never finds the \\\n",
    "living stream in fellowship with its own oary-footed kind.  Here and \\\n",
    "there is born a AFSDFDEREFEGDEF Saint Theresa, foundress of nothing, whose loving \\\n",
    "heart-beats and sobs after http:\\\\ an unattained goodness tremble off and are \\\n",
    "dispersed among@#$#$#^$ hindrances, instead of AREAEGEFPP centring in some \\\n",
    "long-recognizable http deed.\""
   ]
  },
  {
   "cell_type": "code",
   "execution_count": 3,
   "metadata": {},
   "outputs": [
    {
     "name": "stdout",
     "output_type": "stream",
     "text": [
      "Some have felt that these blundering  lives are due to the inconvenient indefiniteness with which the Supreme Power has fashioned the natures of women if there  were one level of feminine incompetence as strict as the ability$#$#$#$ to count DFSDFDSFDSDFSAERER three and no more, the social lot of women might be treated with scientific certitude.  Meanwhile the HSGDRFSRERER indefiniteness remains, and the limits of variation are really much wider than any one would imagine from the sameness of women's coiffure and the favorite love-stories in prose and verse.   Here*&*SRESR and there a cygnet is reared uneasily among the ducklings in the brown pond, and never finds the living stream in fellowship with its own oary-footed kind.  Here and there is born a AFSDFDEREFEGDEF Saint Theresa, foundress of nothing, whose loving heart-beats and sobs after  an unattained goodness tremble off and are dispersed among@#$#$#^$ hindrances, instead of AREAEGEFPP centring in some long-recognizable  deed.\n"
     ]
    }
   ],
   "source": [
    "# PROBLEM 1 \n",
    "\n",
    "#Figure out how to remove all the versions of \"http\" from this passage\n",
    "# Print cleaned up passage\n",
    "\n",
    "cleaned_passage = re.sub(r'(http)|[:\\\\]+', '', passage)\n",
    "print(cleaned_passage)"
   ]
  },
  {
   "cell_type": "code",
   "execution_count": 4,
   "metadata": {},
   "outputs": [
    {
     "name": "stdout",
     "output_type": "stream",
     "text": [
      "Some have felt that these blundering http lives are due to the inconvenient indefiniteness with which the Supreme Power has fashioned the natures of women: if there http were one level of feminine incompetence as strict as the ability$#$#$#$ to count  three and no more, the social lot of women might be treated with scientific certitude.  Meanwhile the  indefiniteness remains, and the limits of variation are really much wider than any one would imagine from the sameness of women's coiffure and the favorite love-stories in prose and verse. http:  Here*&* and there a cygnet is reared uneasily among the ducklings in the brown pond, and never finds the living stream in fellowship with its own oary-footed kind.  Here and there is born a  Saint Theresa, foundress of nothing, whose loving heart-beats and sobs after http:\\ an unattained goodness tremble off and are dispersed among@#$#$#^$ hindrances, instead of  centring in some long-recognizable http deed.\n"
     ]
    }
   ],
   "source": [
    "# PROBLEM 2\n",
    "\n",
    "# Start fresh with the above passage, do not continue from problem #1\n",
    "# There are a few examples of strings all capitalized that are gibberish; figure out how to remove them\n",
    "# Print cleaned up passage\n",
    "\n",
    "cleaned_passage = re.sub(r'[A-Z][A-Z]+', '', passage)\n",
    "print(cleaned_passage)"
   ]
  },
  {
   "cell_type": "code",
   "execution_count": 5,
   "metadata": {},
   "outputs": [
    {
     "name": "stdout",
     "output_type": "stream",
     "text": [
      "Some have felt that these blundering http lives are due to the inconvenient indefiniteness with which the Supreme Power has fashioned the natures of women: if there http were one level of feminine incompetence as strict as the ability to count DFSDFDSFDSDFSAERER three and no more, the social lot of women might be treated with scientific certitude.  Meanwhile the HSGDRFSRERER indefiniteness remains, and the limits of variation are really much wider than any one would imagine from the sameness of women's coiffure and the favorite love-stories in prose and verse. http:  HereSRESR and there a cygnet is reared uneasily among the ducklings in the brown pond, and never finds the living stream in fellowship with its own oary-footed kind.  Here and there is born a AFSDFDEREFEGDEF Saint Theresa, foundress of nothing, whose loving heart-beats and sobs after http:\\ an unattained goodness tremble off and are dispersed among hindrances, instead of AREAEGEFPP centring in some long-recognizable http deed.\n"
     ]
    }
   ],
   "source": [
    "# PROBLEM 3\n",
    "\n",
    "# Start fresh with the above passage, do not continue from problem #1 or #2\n",
    "# A few strings we want to keep have some garbage attached to them;\n",
    "# figure out how to clean individual strings while still returning their clean version\n",
    "# Print cleaned up passage\n",
    "\n",
    "cleaned_passage = re.sub(r'[!@#$%^&*()]+', '', passage)\n",
    "print(cleaned_passage)"
   ]
  },
  {
   "cell_type": "code",
   "execution_count": 6,
   "metadata": {},
   "outputs": [
    {
     "name": "stdout",
     "output_type": "stream",
     "text": [
      "Some have felt that these blundering  lives are due to the inconvenient indefiniteness with which the Supreme Power has fashioned the natures of women if there  were one level of feminine incompetence as strict as the ability to count  three and no more, the social lot of women might be treated with scientific certitude.  Meanwhile the  indefiniteness remains, and the limits of variation are really much wider than any one would imagine from the sameness of women's coiffure and the favorite love-stories in prose and verse.   Here and there a cygnet is reared uneasily among the ducklings in the brown pond, and never finds the living stream in fellowship with its own oary-footed kind.  Here and there is born a  Saint Theresa, foundress of nothing, whose loving heart-beats and sobs after  an unattained goodness tremble off and are dispersed among hindrances, instead of  centring in some long-recognizable  deed.\n"
     ]
    }
   ],
   "source": [
    "# PROBLEM 4\n",
    "\n",
    "# Start fresh with the above passage, do not continue from problem #1 or #2 or #3\n",
    "# Do all 3 cleaning operations but this time, save the garbage to a list and print out that list\n",
    "# You can call the list \"garbage\" or anything you want\n",
    "\n",
    "garbage = re.findall(r\"[!@#$%^&*()]+\", passage)\n",
    "all_cleaned = re.sub(r'[A-Z][A-Z]+|[!@#$%^&*()]+|(http)|[:\\\\]+', '', passage)\n",
    "print(all_cleaned)"
   ]
  },
  {
   "cell_type": "code",
   "execution_count": 7,
   "metadata": {},
   "outputs": [
    {
     "name": "stdout",
     "output_type": "stream",
     "text": [
      "['$#$#$#$', '*&*', '@#$#$#^$']\n"
     ]
    }
   ],
   "source": [
    "print(garbage)"
   ]
  },
  {
   "cell_type": "code",
   "execution_count": 8,
   "metadata": {},
   "outputs": [],
   "source": [
    "# PROBLEM 5  \n",
    "\n",
    "#Write problems #1 through #4 as individual functions and run them; print out the output for each function\n",
    "def prob1(my_string):\n",
    "    return re.sub(r'(http)|[:\\\\]+', '', my_string)\n",
    "\n",
    "def prob2(my_string):\n",
    "    return re.sub(r'[A-Z][A-Z]+', '', my_string)\n",
    "\n",
    "def prob3(my_string):\n",
    "    return re.sub(r'[!@#$%^&*()]+', '', my_string)\n",
    "\n",
    "def prob4(my_string):\n",
    "    garbage = re.findall(r\"[!@#$%^&*()]+\", my_string)\n",
    "    all_cleaned = re.sub(r'[A-Z][A-Z]+|[!@#$%^&*()]+|(http)|[:\\\\]+', '', my_string)\n",
    "    return garbage, all_cleaned"
   ]
  },
  {
   "cell_type": "code",
   "execution_count": 9,
   "metadata": {},
   "outputs": [
    {
     "name": "stdout",
     "output_type": "stream",
     "text": [
      "Some have felt that these blundering  lives are due to the inconvenient indefiniteness with which the Supreme Power has fashioned the natures of women if there  were one level of feminine incompetence as strict as the ability$#$#$#$ to count DFSDFDSFDSDFSAERER three and no more, the social lot of women might be treated with scientific certitude.  Meanwhile the HSGDRFSRERER indefiniteness remains, and the limits of variation are really much wider than any one would imagine from the sameness of women's coiffure and the favorite love-stories in prose and verse.   Here*&*SRESR and there a cygnet is reared uneasily among the ducklings in the brown pond, and never finds the living stream in fellowship with its own oary-footed kind.  Here and there is born a AFSDFDEREFEGDEF Saint Theresa, foundress of nothing, whose loving heart-beats and sobs after  an unattained goodness tremble off and are dispersed among@#$#$#^$ hindrances, instead of AREAEGEFPP centring in some long-recognizable  deed.\n"
     ]
    }
   ],
   "source": [
    "print(prob1(passage))"
   ]
  },
  {
   "cell_type": "code",
   "execution_count": 10,
   "metadata": {},
   "outputs": [
    {
     "name": "stdout",
     "output_type": "stream",
     "text": [
      "Some have felt that these blundering http lives are due to the inconvenient indefiniteness with which the Supreme Power has fashioned the natures of women: if there http were one level of feminine incompetence as strict as the ability$#$#$#$ to count  three and no more, the social lot of women might be treated with scientific certitude.  Meanwhile the  indefiniteness remains, and the limits of variation are really much wider than any one would imagine from the sameness of women's coiffure and the favorite love-stories in prose and verse. http:  Here*&* and there a cygnet is reared uneasily among the ducklings in the brown pond, and never finds the living stream in fellowship with its own oary-footed kind.  Here and there is born a  Saint Theresa, foundress of nothing, whose loving heart-beats and sobs after http:\\ an unattained goodness tremble off and are dispersed among@#$#$#^$ hindrances, instead of  centring in some long-recognizable http deed.\n"
     ]
    }
   ],
   "source": [
    "print(prob2(passage))"
   ]
  },
  {
   "cell_type": "code",
   "execution_count": 11,
   "metadata": {},
   "outputs": [
    {
     "name": "stdout",
     "output_type": "stream",
     "text": [
      "Some have felt that these blundering http lives are due to the inconvenient indefiniteness with which the Supreme Power has fashioned the natures of women: if there http were one level of feminine incompetence as strict as the ability to count DFSDFDSFDSDFSAERER three and no more, the social lot of women might be treated with scientific certitude.  Meanwhile the HSGDRFSRERER indefiniteness remains, and the limits of variation are really much wider than any one would imagine from the sameness of women's coiffure and the favorite love-stories in prose and verse. http:  HereSRESR and there a cygnet is reared uneasily among the ducklings in the brown pond, and never finds the living stream in fellowship with its own oary-footed kind.  Here and there is born a AFSDFDEREFEGDEF Saint Theresa, foundress of nothing, whose loving heart-beats and sobs after http:\\ an unattained goodness tremble off and are dispersed among hindrances, instead of AREAEGEFPP centring in some long-recognizable http deed.\n"
     ]
    }
   ],
   "source": [
    "print(prob3(passage))"
   ]
  },
  {
   "cell_type": "code",
   "execution_count": 12,
   "metadata": {},
   "outputs": [
    {
     "name": "stdout",
     "output_type": "stream",
     "text": [
      "Garbage: ['$#$#$#$', '*&*', '@#$#$#^$']\n",
      "Cleaned String: Some have felt that these blundering  lives are due to the inconvenient indefiniteness with which the Supreme Power has fashioned the natures of women if there  were one level of feminine incompetence as strict as the ability to count  three and no more, the social lot of women might be treated with scientific certitude.  Meanwhile the  indefiniteness remains, and the limits of variation are really much wider than any one would imagine from the sameness of women's coiffure and the favorite love-stories in prose and verse.   Here and there a cygnet is reared uneasily among the ducklings in the brown pond, and never finds the living stream in fellowship with its own oary-footed kind.  Here and there is born a  Saint Theresa, foundress of nothing, whose loving heart-beats and sobs after  an unattained goodness tremble off and are dispersed among hindrances, instead of  centring in some long-recognizable  deed.\n"
     ]
    }
   ],
   "source": [
    "garbage, cleaned_string = prob4(passage)\n",
    "print(f\"Garbage: {garbage}\")\n",
    "print(f\"Cleaned String: {cleaned_string}\")"
   ]
  },
  {
   "cell_type": "code",
   "execution_count": 13,
   "metadata": {},
   "outputs": [
    {
     "name": "stdout",
     "output_type": "stream",
     "text": [
      "Problem 1 \n",
      "Some have felt that these blundering  lives are due to the inconvenient indefiniteness with which the Supreme Power has fashioned the natures of women if there  were one level of feminine incompetence as strict as the ability$#$#$#$ to count DFSDFDSFDSDFSAERER three and no more, the social lot of women might be treated with scientific certitude.  Meanwhile the HSGDRFSRERER indefiniteness remains, and the limits of variation are really much wider than any one would imagine from the sameness of women's coiffure and the favorite love-stories in prose and verse.   Here*&*SRESR and there a cygnet is reared uneasily among the ducklings in the brown pond, and never finds the living stream in fellowship with its own oary-footed kind.  Here and there is born a AFSDFDEREFEGDEF Saint Theresa, foundress of nothing, whose loving heart-beats and sobs after  an unattained goodness tremble off and are dispersed among@#$#$#^$ hindrances, instead of AREAEGEFPP centring in some long-recognizable  deed.\n",
      "\n",
      "Problem 2 \n",
      "Some have felt that these blundering http lives are due to the inconvenient indefiniteness with which the Supreme Power has fashioned the natures of women: if there http were one level of feminine incompetence as strict as the ability$#$#$#$ to count  three and no more, the social lot of women might be treated with scientific certitude.  Meanwhile the  indefiniteness remains, and the limits of variation are really much wider than any one would imagine from the sameness of women's coiffure and the favorite love-stories in prose and verse. http:  Here*&* and there a cygnet is reared uneasily among the ducklings in the brown pond, and never finds the living stream in fellowship with its own oary-footed kind.  Here and there is born a  Saint Theresa, foundress of nothing, whose loving heart-beats and sobs after http:\\ an unattained goodness tremble off and are dispersed among@#$#$#^$ hindrances, instead of  centring in some long-recognizable http deed.\n",
      "\n",
      "Problem 3 \n",
      "Some have felt that these blundering http lives are due to the inconvenient indefiniteness with which the Supreme Power has fashioned the natures of women: if there http were one level of feminine incompetence as strict as the ability to count DFSDFDSFDSDFSAERER three and no more, the social lot of women might be treated with scientific certitude.  Meanwhile the HSGDRFSRERER indefiniteness remains, and the limits of variation are really much wider than any one would imagine from the sameness of women's coiffure and the favorite love-stories in prose and verse. http:  HereSRESR and there a cygnet is reared uneasily among the ducklings in the brown pond, and never finds the living stream in fellowship with its own oary-footed kind.  Here and there is born a AFSDFDEREFEGDEF Saint Theresa, foundress of nothing, whose loving heart-beats and sobs after http:\\ an unattained goodness tremble off and are dispersed among hindrances, instead of AREAEGEFPP centring in some long-recognizable http deed.\n",
      "\n",
      "Problem 4\n",
      "Garbage: ['$#$#$#$', '*&*', '@#$#$#^$']\n",
      "Cleaned String: Some have felt that these blundering  lives are due to the inconvenient indefiniteness with which the Supreme Power has fashioned the natures of women if there  were one level of feminine incompetence as strict as the ability to count  three and no more, the social lot of women might be treated with scientific certitude.  Meanwhile the  indefiniteness remains, and the limits of variation are really much wider than any one would imagine from the sameness of women's coiffure and the favorite love-stories in prose and verse.   Here and there a cygnet is reared uneasily among the ducklings in the brown pond, and never finds the living stream in fellowship with its own oary-footed kind.  Here and there is born a  Saint Theresa, foundress of nothing, whose loving heart-beats and sobs after  an unattained goodness tremble off and are dispersed among hindrances, instead of  centring in some long-recognizable  deed.\n"
     ]
    }
   ],
   "source": [
    "# PROBLEM 6 \n",
    "\n",
    "#Write problems #1 through #4 as a SINGLE FUNCTION and run it; print out the output for this function\n",
    "def prob1to4(my_string):\n",
    "    print(f\"Problem 1 \\n{prob1(my_string)}\\n\")\n",
    "    print(f\"Problem 2 \\n{prob2(my_string)}\\n\")\n",
    "    print(f\"Problem 3 \\n{prob3(my_string)}\\n\")\n",
    "    print(f\"Problem 4\")\n",
    "    garbage, cleaned_string = prob4(my_string)\n",
    "    print(f\"Garbage: {garbage}\")\n",
    "    print(f\"Cleaned String: {cleaned_string}\")\n",
    "\n",
    "prob1to4(passage)\n"
   ]
  },
  {
   "cell_type": "code",
   "execution_count": null,
   "metadata": {},
   "outputs": [],
   "source": []
  }
 ],
 "metadata": {
  "kernelspec": {
   "display_name": "Python 3 (ipykernel)",
   "language": "python",
   "name": "python3"
  },
  "language_info": {
   "codemirror_mode": {
    "name": "ipython",
    "version": 3
   },
   "file_extension": ".py",
   "mimetype": "text/x-python",
   "name": "python",
   "nbconvert_exporter": "python",
   "pygments_lexer": "ipython3",
   "version": "3.12.4"
  }
 },
 "nbformat": 4,
 "nbformat_minor": 2
}
