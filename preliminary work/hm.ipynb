{
 "cells": [
  {
   "cell_type": "code",
   "execution_count": null,
   "metadata": {},
   "outputs": [],
   "source": [
    "import requests\n",
    "from bs4 import BeautifulSoup"
   ]
  },
  {
   "cell_type": "code",
   "execution_count": null,
   "metadata": {},
   "outputs": [],
   "source": [
    "from selenium import webdriver\n",
    "from selenium.webdriver.edge.service import Service\n",
    "from webdriver_manager.microsoft import EdgeChromiumDriverManager\n",
    "from bs4 import BeautifulSoup\n",
    "\n",
    "# Initialize Selenium WebDriver for Microsoft Edge\n",
    "driver = webdriver.Edge(service=Service(EdgeChromiumDriverManager().install()))\n",
    "\n",
    "# Load the page\n",
    "url = 'https://www.letras.com/?q=fortnight%20taylor'\n",
    "driver.get(url)\n",
    "\n",
    "# Get the page source after JavaScript has loaded\n",
    "page_source = driver.page_source\n",
    "\n",
    "# Parse the content using BeautifulSoup\n",
    "soup = BeautifulSoup(page_source, 'html.parser')\n",
    "\n",
    "# Now find the search result as before\n",
    "first_result = soup.find('div', class_='gsc-webResult')\n",
    "if first_result:\n",
    "    link = first_result.find('a', href=True)\n",
    "    if link:\n",
    "        print(\"First result URL:\", link['href'])\n",
    "\n",
    "# Close the driver\n",
    "driver.quit()"
   ]
  },
  {
   "cell_type": "code",
   "execution_count": null,
   "metadata": {},
   "outputs": [],
   "source": [
    "import requests\n",
    "from bs4 import BeautifulSoup\n",
    "import urllib.parse\n",
    "\n",
    "def get_lyrics(artist, song):\n",
    "    # Step 1: Construct the query URL\n",
    "    base_search_url = 'https://www.letras.com/?q='\n",
    "    query = f'{song} {artist}'\n",
    "    search_url = base_search_url + urllib.parse.quote(query)\n",
    "    print(search_url)\n",
    "    \n",
    "    # Step 2: Send a GET request to the search page\n",
    "    search_response = requests.get(search_url)\n",
    "    search_soup = BeautifulSoup(search_response.text, 'html.parser')\n",
    "    # print(search_soup)\n",
    "\n",
    "    # Step 3: Find the first result's link inside a div with class 'gsc-webResult'\n",
    "    first_result_div = search_soup.find('div', class_='gsc-webResult')\n",
    "    if first_result_div:\n",
    "        first_link = first_result_div.find('a', href=True)\n",
    "        if first_link:\n",
    "            song_url = 'https://www.letras.com' + first_link['href']\n",
    "        else:\n",
    "            return \"No results found!\"\n",
    "    else:\n",
    "        return \"No results found!\"\n",
    "\n",
    "    # Step 4: Send a GET request to the song's lyrics page\n",
    "    song_response = requests.get(song_url)\n",
    "    song_soup = BeautifulSoup(song_response.text, 'html.parser')\n",
    "\n",
    "    # Step 5: Extract the lyrics from the div with class 'lyric-original'\n",
    "    lyrics_div = song_soup.find('div', class_='lyric-original')\n",
    "\n",
    "    # Step 6: Return the formatted lyrics\n",
    "    if lyrics_div:\n",
    "        lyrics = lyrics_div.get_text(separator='\\n')\n",
    "        return lyrics\n",
    "    else:\n",
    "        return \"Lyrics not found!\""
   ]
  },
  {
   "cell_type": "code",
   "execution_count": null,
   "metadata": {},
   "outputs": [],
   "source": [
    "# Example usage:\n",
    "artist = 'taylor swift'\n",
    "song = 'fortnight'\n",
    "lyrics = get_lyrics(artist, song)\n",
    "print(lyrics)"
   ]
  },
  {
   "cell_type": "code",
   "execution_count": null,
   "metadata": {},
   "outputs": [],
   "source": []
  }
 ],
 "metadata": {
  "kernelspec": {
   "display_name": "Python 3",
   "language": "python",
   "name": "python3"
  },
  "language_info": {
   "codemirror_mode": {
    "name": "ipython",
    "version": 3
   },
   "file_extension": ".py",
   "mimetype": "text/x-python",
   "name": "python",
   "nbconvert_exporter": "python",
   "pygments_lexer": "ipython3",
   "version": "3.12.4"
  }
 },
 "nbformat": 4,
 "nbformat_minor": 2
}
