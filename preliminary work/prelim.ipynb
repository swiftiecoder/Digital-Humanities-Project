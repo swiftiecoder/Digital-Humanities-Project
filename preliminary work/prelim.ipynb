{
 "cells": [
  {
   "cell_type": "code",
   "execution_count": 2,
   "metadata": {},
   "outputs": [],
   "source": [
    "import requests\n",
    "import re\n",
    "import pandas as pd\n",
    "from lyricsgenius import Genius\n",
    "import spotipy\n",
    "from spotipy.oauth2 import SpotifyClientCredentials\n"
   ]
  },
  {
   "cell_type": "code",
   "execution_count": 5,
   "metadata": {},
   "outputs": [
    {
     "name": "stdout",
     "output_type": "stream",
     "text": [
      "{'tracks': {'href': 'https://api.spotify.com/v1/search?query=track%3Atheme+for+exodus+artist%3Aernest+gold&type=track&offset=0&limit=1', 'items': [{'album': {'album_type': 'album', 'artists': [{'external_urls': {'spotify': 'https://open.spotify.com/artist/4wlbNIzC1gD2nQ8vFpIWyU'}, 'href': 'https://api.spotify.com/v1/artists/4wlbNIzC1gD2nQ8vFpIWyU', 'id': '4wlbNIzC1gD2nQ8vFpIWyU', 'name': 'MAKSIM', 'type': 'artist', 'uri': 'spotify:artist:4wlbNIzC1gD2nQ8vFpIWyU'}], 'available_markets': ['AR', 'AU', 'AT', 'BE', 'BO', 'BR', 'BG', 'CA', 'CL', 'CO', 'CR', 'CY', 'CZ', 'DK', 'DO', 'DE', 'EC', 'EE', 'SV', 'FI', 'FR', 'GR', 'GT', 'HN', 'HK', 'HU', 'IS', 'IE', 'IT', 'LV', 'LT', 'LU', 'MY', 'MT', 'MX', 'NL', 'NZ', 'NI', 'NO', 'PA', 'PY', 'PE', 'PH', 'PL', 'PT', 'SG', 'SK', 'ES', 'SE', 'CH', 'TW', 'TR', 'UY', 'US', 'GB', 'AD', 'LI', 'MC', 'ID', 'JP', 'TH', 'VN', 'RO', 'IL', 'ZA', 'SA', 'AE', 'BH', 'QA', 'OM', 'KW', 'EG', 'MA', 'DZ', 'TN', 'LB', 'JO', 'PS', 'IN', 'BY', 'KZ', 'MD', 'UA', 'AL', 'BA', 'HR', 'ME', 'MK', 'RS', 'SI', 'KR', 'BD', 'PK', 'LK', 'GH', 'KE', 'NG', 'TZ', 'UG', 'AG', 'AM', 'BS', 'BB', 'BZ', 'BT', 'BW', 'BF', 'CV', 'CW', 'DM', 'FJ', 'GM', 'GE', 'GD', 'GW', 'GY', 'HT', 'JM', 'KI', 'LS', 'LR', 'MW', 'MV', 'ML', 'MH', 'FM', 'NA', 'NR', 'NE', 'PW', 'PG', 'PR', 'WS', 'SM', 'ST', 'SN', 'SC', 'SL', 'SB', 'KN', 'LC', 'VC', 'SR', 'TL', 'TO', 'TT', 'TV', 'VU', 'AZ', 'BN', 'BI', 'KH', 'CM', 'TD', 'KM', 'GQ', 'SZ', 'GA', 'GN', 'KG', 'LA', 'MO', 'MR', 'MN', 'NP', 'RW', 'TG', 'UZ', 'ZW', 'BJ', 'MG', 'MU', 'MZ', 'AO', 'CI', 'DJ', 'ZM', 'CD', 'CG', 'IQ', 'LY', 'TJ', 'VE', 'ET', 'XK'], 'external_urls': {'spotify': 'https://open.spotify.com/album/0xRB5gCqwqLuaX8LpXQZiR'}, 'href': 'https://api.spotify.com/v1/albums/0xRB5gCqwqLuaX8LpXQZiR', 'id': '0xRB5gCqwqLuaX8LpXQZiR', 'images': [{'height': 640, 'url': 'https://i.scdn.co/image/ab67616d0000b2732bc5f8b4fbbb6725791070cb', 'width': 640}, {'height': 300, 'url': 'https://i.scdn.co/image/ab67616d00001e022bc5f8b4fbbb6725791070cb', 'width': 300}, {'height': 64, 'url': 'https://i.scdn.co/image/ab67616d000048512bc5f8b4fbbb6725791070cb', 'width': 64}], 'name': 'The Piano Player', 'release_date': '2003-05-15', 'release_date_precision': 'day', 'total_tracks': 13, 'type': 'album', 'uri': 'spotify:album:0xRB5gCqwqLuaX8LpXQZiR'}, 'artists': [{'external_urls': {'spotify': 'https://open.spotify.com/artist/41SzGMVZclC44YTVneXHlE'}, 'href': 'https://api.spotify.com/v1/artists/41SzGMVZclC44YTVneXHlE', 'id': '41SzGMVZclC44YTVneXHlE', 'name': 'Ernest Gold', 'type': 'artist', 'uri': 'spotify:artist:41SzGMVZclC44YTVneXHlE'}, {'external_urls': {'spotify': 'https://open.spotify.com/artist/4wlbNIzC1gD2nQ8vFpIWyU'}, 'href': 'https://api.spotify.com/v1/artists/4wlbNIzC1gD2nQ8vFpIWyU', 'id': '4wlbNIzC1gD2nQ8vFpIWyU', 'name': 'MAKSIM', 'type': 'artist', 'uri': 'spotify:artist:4wlbNIzC1gD2nQ8vFpIWyU'}, {'external_urls': {'spotify': 'https://open.spotify.com/artist/2BQgLoXyuZLA1Q45Hzf95P'}, 'href': 'https://api.spotify.com/v1/artists/2BQgLoXyuZLA1Q45Hzf95P', 'id': '2BQgLoXyuZLA1Q45Hzf95P', 'name': 'Gaëtan Schurrer', 'type': 'artist', 'uri': 'spotify:artist:2BQgLoXyuZLA1Q45Hzf95P'}, {'external_urls': {'spotify': 'https://open.spotify.com/artist/4zMKKzAVCj8y4DxzlRIHfJ'}, 'href': 'https://api.spotify.com/v1/artists/4zMKKzAVCj8y4DxzlRIHfJ', 'id': '4zMKKzAVCj8y4DxzlRIHfJ', 'name': 'Naughty G', 'type': 'artist', 'uri': 'spotify:artist:4zMKKzAVCj8y4DxzlRIHfJ'}, {'external_urls': {'spotify': 'https://open.spotify.com/artist/7Kio0PkTLR8cD9QKMB8HIl'}, 'href': 'https://api.spotify.com/v1/artists/7Kio0PkTLR8cD9QKMB8HIl', 'id': '7Kio0PkTLR8cD9QKMB8HIl', 'name': 'Gavyn Wright', 'type': 'artist', 'uri': 'spotify:artist:7Kio0PkTLR8cD9QKMB8HIl'}, {'external_urls': {'spotify': 'https://open.spotify.com/artist/3Jlhh2u8kp4EeFPYVIoV6d'}, 'href': 'https://api.spotify.com/v1/artists/3Jlhh2u8kp4EeFPYVIoV6d', 'id': '3Jlhh2u8kp4EeFPYVIoV6d', 'name': 'Gavyn Wright Orchestra', 'type': 'artist', 'uri': 'spotify:artist:3Jlhh2u8kp4EeFPYVIoV6d'}], 'available_markets': ['AR', 'AU', 'AT', 'BE', 'BO', 'BR', 'BG', 'CA', 'CL', 'CO', 'CR', 'CY', 'CZ', 'DK', 'DO', 'DE', 'EC', 'EE', 'SV', 'FI', 'FR', 'GR', 'GT', 'HN', 'HK', 'HU', 'IS', 'IE', 'IT', 'LV', 'LT', 'LU', 'MY', 'MT', 'MX', 'NL', 'NZ', 'NI', 'NO', 'PA', 'PY', 'PE', 'PH', 'PL', 'PT', 'SG', 'SK', 'ES', 'SE', 'CH', 'TW', 'TR', 'UY', 'US', 'GB', 'AD', 'LI', 'MC', 'ID', 'JP', 'TH', 'VN', 'RO', 'IL', 'ZA', 'SA', 'AE', 'BH', 'QA', 'OM', 'KW', 'EG', 'MA', 'DZ', 'TN', 'LB', 'JO', 'PS', 'IN', 'BY', 'KZ', 'MD', 'UA', 'AL', 'BA', 'HR', 'ME', 'MK', 'RS', 'SI', 'KR', 'BD', 'PK', 'LK', 'GH', 'KE', 'NG', 'TZ', 'UG', 'AG', 'AM', 'BS', 'BB', 'BZ', 'BT', 'BW', 'BF', 'CV', 'CW', 'DM', 'FJ', 'GM', 'GE', 'GD', 'GW', 'GY', 'HT', 'JM', 'KI', 'LS', 'LR', 'MW', 'MV', 'ML', 'MH', 'FM', 'NA', 'NR', 'NE', 'PW', 'PG', 'PR', 'WS', 'SM', 'ST', 'SN', 'SC', 'SL', 'SB', 'KN', 'LC', 'VC', 'SR', 'TL', 'TO', 'TT', 'TV', 'VU', 'AZ', 'BN', 'BI', 'KH', 'CM', 'TD', 'KM', 'GQ', 'SZ', 'GA', 'GN', 'KG', 'LA', 'MO', 'MR', 'MN', 'NP', 'RW', 'TG', 'UZ', 'ZW', 'BJ', 'MG', 'MU', 'MZ', 'AO', 'CI', 'DJ', 'ZM', 'CD', 'CG', 'IQ', 'LY', 'TJ', 'VE', 'ET', 'XK'], 'disc_number': 1, 'duration_ms': 190066, 'explicit': False, 'external_ids': {'isrc': 'GBAYC0203608'}, 'external_urls': {'spotify': 'https://open.spotify.com/track/3tNgSHYX81f99m4eTi8bE6'}, 'href': 'https://api.spotify.com/v1/tracks/3tNgSHYX81f99m4eTi8bE6', 'id': '3tNgSHYX81f99m4eTi8bE6', 'is_local': False, 'name': 'Music for Otto Preminger\\'s Film \"Exodus\": Main Theme', 'popularity': 25, 'preview_url': 'https://p.scdn.co/mp3-preview/b7eb4f85c3757f2f4f6e6738e7fc168bd797650c?cid=0552fd30927d4fcc8527c7152a031e3e', 'track_number': 3, 'type': 'track', 'uri': 'spotify:track:3tNgSHYX81f99m4eTi8bE6'}], 'limit': 1, 'next': 'https://api.spotify.com/v1/search?query=track%3Atheme+for+exodus+artist%3Aernest+gold&type=track&offset=1&limit=1', 'offset': 0, 'previous': None, 'total': 2}}\n",
      "Track ID 3tNgSHYX81f99m4eTi8bE6\n",
      "{'danceability': 0.586, 'energy': 0.773, 'key': 2, 'loudness': -7.561, 'mode': 0, 'speechiness': 0.0399, 'acousticness': 0.0915, 'instrumentalness': 0.812, 'liveness': 0.0728, 'valence': 0.508, 'tempo': 110.04, 'type': 'audio_features', 'duration_ms': 190067, 'time_signature': 4}\n"
     ]
    }
   ],
   "source": [
    "\n",
    "# Set up your credentials\n",
    "client_id = 'c907b250a59945838c9187eb12fe3617'\n",
    "client_secret = '8c8902fab048432f902d6060ea3cf6fe'\n",
    "\n",
    "# Authenticate\n",
    "sp = spotipy.Spotify(auth_manager=SpotifyClientCredentials(client_id=client_id, client_secret=client_secret))\n",
    "\n",
    "def get_audio_features(song_name, artist_name):\n",
    "\n",
    "    results = sp.search(q=f'track:{song_name} artist:{artist_name}', type='track', limit=1)\n",
    "    print(results)\n",
    "    if results['tracks']['items']:\n",
    "        track = results['tracks']['items'][0]\n",
    "        track_id = track['id']\n",
    "\n",
    "        print(\"Track ID\", track_id)\n",
    "        \n",
    "        audio_features = sp.audio_features(track_id)\n",
    "        \n",
    "        if audio_features:\n",
    "            audio_features = audio_features[0]\n",
    "            audio_features.pop('analysis_url')\n",
    "            audio_features.pop('track_href')\n",
    "            audio_features.pop('uri')\n",
    "            audio_features.pop('id')\n",
    "            return audio_features\n",
    "        \n",
    "    return {\n",
    "        'danceability': 'N/A',\n",
    "        'energy': 'N/A',\n",
    "        'key': 'N/A',\n",
    "        'loudness': 'N/A',\n",
    "        'mode': 'N/A',\n",
    "        'speechiness': 'N/A',\n",
    "        'acousticness': 'N/A',\n",
    "        'instrumentalness': 'N/A',\n",
    "        'liveness': 'N/A',\n",
    "        'valence': 'N/A',\n",
    "        'tempo': 'N/A',\n",
    "        'type': 'N/A',\n",
    "        'duration_ms': 'N/A',\n",
    "        'time_signature': 'N/A'\n",
    "    }\n",
    "\n",
    "# Example usage\n",
    "song_name = \"theme for exodus\"\n",
    "artist_name = \"ernest gold\"\n",
    "audio_features = get_audio_features(song_name, artist_name)\n",
    "print(audio_features)\n"
   ]
  },
  {
   "cell_type": "code",
   "execution_count": 25,
   "metadata": {},
   "outputs": [],
   "source": [
    "def get_billboard_chart(date):\n",
    "    # YYYY-MM-DD\n",
    "\n",
    "    url = f\"https://raw.githubusercontent.com/mhollingshead/billboard-hot-100/main/date/{date}.json\"\n",
    "    \n",
    "    # Fetch the data from the URL\n",
    "    response = requests.get(url)\n",
    "    \n",
    "    # Check if the request was successful\n",
    "    if response.status_code == 200:\n",
    "        data = response.json()\n",
    "        data = data[\"data\"]\n",
    "        \n",
    "        # Parse the JSON to extract useful information\n",
    "        chart_data = []\n",
    "        for entry in data:\n",
    "            chart_data.append({\n",
    "                'Rank': entry.get('this_week'),\n",
    "                'Title': entry.get('song'),\n",
    "                'Artist': entry.get('artist'),\n",
    "                'Peak Position': entry.get('peak_position'),\n",
    "                'Weeks on Chart': entry.get('weeks_on_chart')\n",
    "            })\n",
    "        \n",
    "        # Create a DataFrame for easy viewing\n",
    "        chart_df = pd.DataFrame(chart_data)\n",
    "        return chart_df, data\n",
    "    \n",
    "    else:\n",
    "        return f\"Failed to retrieve data. Status code: {response.reason}\""
   ]
  },
  {
   "cell_type": "code",
   "execution_count": null,
   "metadata": {},
   "outputs": [],
   "source": []
  },
  {
   "cell_type": "code",
   "execution_count": 26,
   "metadata": {},
   "outputs": [],
   "source": [
    "chart, raw = get_billboard_chart(\"2024-10-05\")\n",
    "# [f\"#{i[\"this_week\"]} {i[\"song\"]} - {i[\"artist\"]}\" for i in chart[\"data\"][0:5]]"
   ]
  },
  {
   "cell_type": "code",
   "execution_count": 27,
   "metadata": {},
   "outputs": [
    {
     "data": {
      "text/html": [
       "<div>\n",
       "<style scoped>\n",
       "    .dataframe tbody tr th:only-of-type {\n",
       "        vertical-align: middle;\n",
       "    }\n",
       "\n",
       "    .dataframe tbody tr th {\n",
       "        vertical-align: top;\n",
       "    }\n",
       "\n",
       "    .dataframe thead th {\n",
       "        text-align: right;\n",
       "    }\n",
       "</style>\n",
       "<table border=\"1\" class=\"dataframe\">\n",
       "  <thead>\n",
       "    <tr style=\"text-align: right;\">\n",
       "      <th></th>\n",
       "      <th>Rank</th>\n",
       "      <th>Title</th>\n",
       "      <th>Artist</th>\n",
       "      <th>Peak Position</th>\n",
       "      <th>Weeks on Chart</th>\n",
       "    </tr>\n",
       "  </thead>\n",
       "  <tbody>\n",
       "    <tr>\n",
       "      <th>0</th>\n",
       "      <td>1</td>\n",
       "      <td>A Bar Song (Tipsy)</td>\n",
       "      <td>Shaboozey</td>\n",
       "      <td>1</td>\n",
       "      <td>24</td>\n",
       "    </tr>\n",
       "    <tr>\n",
       "      <th>1</th>\n",
       "      <td>2</td>\n",
       "      <td>I Had Some Help</td>\n",
       "      <td>Post Malone Featuring Morgan Wallen</td>\n",
       "      <td>1</td>\n",
       "      <td>20</td>\n",
       "    </tr>\n",
       "    <tr>\n",
       "      <th>2</th>\n",
       "      <td>3</td>\n",
       "      <td>Espresso</td>\n",
       "      <td>Sabrina Carpenter</td>\n",
       "      <td>3</td>\n",
       "      <td>24</td>\n",
       "    </tr>\n",
       "    <tr>\n",
       "      <th>3</th>\n",
       "      <td>4</td>\n",
       "      <td>Good Luck, Babe!</td>\n",
       "      <td>Chappell Roan</td>\n",
       "      <td>4</td>\n",
       "      <td>25</td>\n",
       "    </tr>\n",
       "    <tr>\n",
       "      <th>4</th>\n",
       "      <td>5</td>\n",
       "      <td>Die With A Smile</td>\n",
       "      <td>Lady Gaga &amp; Bruno Mars</td>\n",
       "      <td>3</td>\n",
       "      <td>6</td>\n",
       "    </tr>\n",
       "  </tbody>\n",
       "</table>\n",
       "</div>"
      ],
      "text/plain": [
       "   Rank               Title                               Artist  \\\n",
       "0     1  A Bar Song (Tipsy)                            Shaboozey   \n",
       "1     2     I Had Some Help  Post Malone Featuring Morgan Wallen   \n",
       "2     3            Espresso                    Sabrina Carpenter   \n",
       "3     4    Good Luck, Babe!                        Chappell Roan   \n",
       "4     5    Die With A Smile               Lady Gaga & Bruno Mars   \n",
       "\n",
       "   Peak Position  Weeks on Chart  \n",
       "0              1              24  \n",
       "1              1              20  \n",
       "2              3              24  \n",
       "3              4              25  \n",
       "4              3               6  "
      ]
     },
     "execution_count": 27,
     "metadata": {},
     "output_type": "execute_result"
    }
   ],
   "source": [
    "chart.head()"
   ]
  },
  {
   "cell_type": "code",
   "execution_count": 28,
   "metadata": {},
   "outputs": [
    {
     "data": {
      "text/plain": [
       "{'song': 'A Bar Song (Tipsy)',\n",
       " 'artist': 'Shaboozey',\n",
       " 'this_week': 1,\n",
       " 'last_week': 1,\n",
       " 'peak_position': 1,\n",
       " 'weeks_on_chart': 24}"
      ]
     },
     "execution_count": 28,
     "metadata": {},
     "output_type": "execute_result"
    }
   ],
   "source": [
    "top_song = raw[0]\n",
    "top_song"
   ]
  },
  {
   "cell_type": "code",
   "execution_count": 29,
   "metadata": {},
   "outputs": [
    {
     "name": "stdout",
     "output_type": "stream",
     "text": [
      "Searching for \"A Bar Song (Tipsy)\" by Shaboozey...\n",
      "Done.\n"
     ]
    }
   ],
   "source": [
    "genius = Genius('jli2zfDghRcwPq7r28ZEsCNxZRJZipgZtHEAkLLiGDhO5aRY_Mo50dH0u1Rfh0Rw', \n",
    "                skip_non_songs=True,\n",
    "                remove_section_headers=True,\n",
    "            )\n",
    "song = genius.search_song(top_song[\"song\"], top_song[\"artist\"])"
   ]
  },
  {
   "cell_type": "code",
   "execution_count": 30,
   "metadata": {},
   "outputs": [
    {
     "name": "stdout",
     "output_type": "stream",
     "text": [
      "44 ContributorsTranslationsEspañolDeutschУкраїнськаNorsk (bokmål / riksmål)A Bar Song (Tipsy) Lyrics\n",
      "My baby want a Birkin, she's been tellin' me all night long\n",
      "Gasoline and groceries, the list goes on and on\n",
      "This nine-to-five ain't workin', why the hell do I work so hard?\n",
      "I can't worry 'bout my problems, I can't take 'em when I'm gone, uh\n",
      "\n",
      "One, here comes the two to the three to the four\n",
      "Tell 'em \"Bring another round,\" we need plenty more\n",
      "Two-steppin' on the table, she don't need a dance floor\n",
      "Oh my, good Lord\n",
      "\n",
      "Someone pour me up a double shot of whiskey\n",
      "They know me and Jack Daniеl's got a history\n",
      "There's a party downtown near 5th Street\n",
      "Evеrybody at the bar gettin' tipsy\n",
      "\n",
      "Everybody at the bar gettin' tipsy\n",
      "Everybody at the bar gettin' tipsy\n",
      "\n",
      "I've been Boozey since I left\n",
      "I ain't changin' for a check\n",
      "Tell my ma I ain't forget (Oh Lord), I\n",
      "Woke up drunk at 10 a.m.​\n",
      "We gon' do this shit again\n",
      "Tell your girl to bring a friend, oh Lord\n",
      "You might also like\n",
      "One, here comes the two to the three to the four\n",
      "Tell 'em \"Bring another round,\" we need plenty more\n",
      "Two-steppin' on the table, she don't need a dance floor\n",
      "Oh my, good Lord\n",
      "\n",
      "Someone pour me up a double shot of whiskey (Double shot of whiskey)\n",
      "They know me and Jack Daniel's got a history (We go way back)\n",
      "There's a party downtown near 5th Street\n",
      "Everybody at the bar gettin' tipsy\n",
      "\n",
      "Everybody at the bar gettin' tipsy (At the bar gettin' tipsy)\n",
      "Everybody at the bar gettin' tipsy\n",
      "\n",
      "One, here comes the two to the three to the four\n",
      "When it's last call and they kick us out the door\n",
      "It's gettin' kind of late, but the ladies want some more\n",
      "Oh my, good Lord (Tell 'em drinks on me)\n",
      "\n",
      "Someone pour me up a double shot of whiskey (Double shot of whiskey)\n",
      "They know me and Jack Daniel's got a history (Way back)\n",
      "There's a party downtown near 5th Street (Come on)\n",
      "Everybody at the bar gettin' tipsy (Woo-ooh)\n",
      "Someone pour me up a double shot of whiskey (Double shot of whiskey)\n",
      "They know me and Jack Daniel's got a history (It's Jack D)\n",
      "At the bottom of a bottle, don't miss me (Baby, don't miss me)\n",
      "Everybody at the bar gettin' tipsy (At the bar gettin' tipsy)\n",
      "Everybody at the bar gettin' tipsy\n",
      "Everybody at the bar gettin' tipsy\n",
      "\n",
      "That's fuckin' messed up, bro, they kicked me out the bar6Embed\n"
     ]
    }
   ],
   "source": [
    "print(song.lyrics)"
   ]
  },
  {
   "cell_type": "code",
   "execution_count": 31,
   "metadata": {},
   "outputs": [
    {
     "name": "stdout",
     "output_type": "stream",
     "text": [
      "Searching for \"Fortnight\" by Taylor Swift...\n",
      "Done.\n"
     ]
    }
   ],
   "source": [
    "song = genius.search_song(\"Fortnight\", \"Taylor Swift\")"
   ]
  },
  {
   "cell_type": "code",
   "execution_count": 32,
   "metadata": {},
   "outputs": [
    {
     "name": "stdout",
     "output_type": "stream",
     "text": [
      "235 ContributorsTranslationsFrançaisItalianoTürkçePortuguêsEspañolالعربيةفارسیСрпскиNorsk (bokmål / riksmål)PolskiDeutschMagyarHebrewSlovenščinaไทย / Phasa ThaiМакедонскиTiếng ViệtRomânăChinese TraditionalУкраїнськаČeskyРусскийБеларускаяCatalàFortnight Lyrics\n",
      "I was supposed to be sent away\n",
      "But they forgot to come and get me\n",
      "I was a functioning alcoholic\n",
      "'Til nobody noticed my new aesthetic\n",
      "All of this to say I hope you're okay\n",
      "But you're the reason\n",
      "And no one here's to blame\n",
      "But what about your quiet treason?\n",
      "\n",
      "And for a fortnight there, we were forever\n",
      "Run into you sometimes, ask about the weather\n",
      "Now you're in my backyard, turned into good neighbors\n",
      "Your wife waters flowers, I wanna kill her\n",
      "\n",
      "All my mornings are Mondays stuck in an endless February\n",
      "I took the miracle move-on drug, the effects were temporary\n",
      "And I love you, it's ruining my life\n",
      "I love you, it's ruining my life\n",
      "I touched you for only a fortnight\n",
      "I touched you, but I touched you\n",
      "\n",
      "And for a fortnight there, we were forever\n",
      "Run into you sometimes, ask about the weather\n",
      "Now you're in my backyard, turned into good neighbors\n",
      "Your wife waters flowers, I wanna kill her\n",
      "And for a fortnight there, we were together\n",
      "Run into you sometimes, comment on my sweater\n",
      "Now you're at the mailbox, turned into good neighbors\n",
      "My husband is cheating, I wanna kill him\n",
      "See Taylor Swift LiveGet tickets as low as $1,065You might also like\n",
      "I love you, it's ruining my life\n",
      "I love you, it's ruining my life\n",
      "I touched you for only a fortnight\n",
      "I touched you, I touched you\n",
      "I love you, it's ruining my life\n",
      "I love you, it's ruining my life\n",
      "I touched you for only a fortnight\n",
      "I touched you, I touched you\n",
      "\n",
      "Thought of callin' ya, but you won't pick up\n",
      "'Nother fortnight lost in America\n",
      "Move to Florida, buy the car you want\n",
      "But it won't start up 'til you touch, touch, touch me\n",
      "Thought of calling ya, but you won't pick up\n",
      "'Nother fortnight lost in America\n",
      "Move to Florida, buy the car you want\n",
      "But it won't start up 'til I touch, touch, touch you18Embed\n"
     ]
    }
   ],
   "source": [
    "print(song.lyrics)"
   ]
  },
  {
   "cell_type": "code",
   "execution_count": 33,
   "metadata": {},
   "outputs": [
    {
     "name": "stdout",
     "output_type": "stream",
     "text": [
      "I was supposed to be sent away\n",
      "But they forgot to come and get me\n",
      "I was a functioning alcoholic\n",
      "'Til nobody noticed my new aesthetic\n",
      "All of this to say I hope you're okay\n",
      "But you're the reason\n",
      "And no one here's to blame\n",
      "But what about your quiet treason?\n",
      "\n",
      "And for a fortnight there, we were forever\n",
      "Run into you sometimes, ask about the weather\n",
      "Now you're in my backyard, turned into good neighbors\n",
      "Your wife waters flowers, I wanna kill her\n",
      "\n",
      "All my mornings are Mondays stuck in an endless February\n",
      "I took the miracle move-on drug, the effects were temporary\n",
      "And I love you, it's ruining my life\n",
      "I love you, it's ruining my life\n",
      "I touched you for only a fortnight\n",
      "I touched you, but I touched you\n",
      "\n",
      "And for a fortnight there, we were forever\n",
      "Run into you sometimes, ask about the weather\n",
      "Now you're in my backyard, turned into good neighbors\n",
      "Your wife waters flowers, I wanna kill her\n",
      "And for a fortnight there, we were together\n",
      "Run into you sometimes, comment on my sweater\n",
      "Now you're at the mailbox, turned into good neighbors\n",
      "My husband is cheating, I wanna kill him\n",
      "\n",
      "I love you, it's ruining my life\n",
      "I love you, it's ruining my life\n",
      "I touched you for only a fortnight\n",
      "I touched you, I touched you\n",
      "I love you, it's ruining my life\n",
      "I love you, it's ruining my life\n",
      "I touched you for only a fortnight\n",
      "I touched you, I touched you\n",
      "\n",
      "Thought of callin' ya, but you won't pick up\n",
      "'Nother fortnight lost in America\n",
      "Move to Florida, buy the car you want\n",
      "But it won't start up 'til you touch, touch, touch me\n",
      "Thought of calling ya, but you won't pick up\n",
      "'Nother fortnight lost in America\n",
      "Move to Florida, buy the car you want\n",
      "But it won't start up 'til I touch, touch, touch you\n"
     ]
    }
   ],
   "source": [
    "\"\"\"\n",
    "Add a regex to remove everything before Lyrics in the first line\n",
    "and NumberEmbed in the last line\n",
    "\"\"\"\n",
    "pattern = r'^[\\s\\S]*?Lyrics\\s+|(\\d+)Embed$|See.*Live|Get tickets.*?\\$[\\d,]+|You might also like'\n",
    "\n",
    "# Use regex to substitute the matched parts with an empty string\n",
    "cleaned_text = re.sub(pattern, '', song.lyrics, flags=re.MULTILINE)\n",
    "print(cleaned_text)"
   ]
  },
  {
   "cell_type": "code",
   "execution_count": 34,
   "metadata": {},
   "outputs": [],
   "source": [
    "def get_song(name, artist=None):\n",
    "    song = genius.search_song(name, artist) if artist else genius.search_song(name)\n",
    "    return re.sub(pattern, '', song.lyrics, flags=re.MULTILINE)"
   ]
  },
  {
   "cell_type": "code",
   "execution_count": 35,
   "metadata": {},
   "outputs": [
    {
     "data": {
      "text/plain": [
       "{'song': 'Die With A Smile',\n",
       " 'artist': 'Lady Gaga & Bruno Mars',\n",
       " 'this_week': 5,\n",
       " 'last_week': 5,\n",
       " 'peak_position': 3,\n",
       " 'weeks_on_chart': 6}"
      ]
     },
     "execution_count": 35,
     "metadata": {},
     "output_type": "execute_result"
    }
   ],
   "source": [
    "raw[4]"
   ]
  },
  {
   "cell_type": "code",
   "execution_count": 36,
   "metadata": {},
   "outputs": [
    {
     "name": "stdout",
     "output_type": "stream",
     "text": [
      "Searching for \"Die With A Smile\" by Lady Gaga & Bruno Mars...\n"
     ]
    },
    {
     "name": "stdout",
     "output_type": "stream",
     "text": [
      "Done.\n",
      "(Ooh, ooh)\n",
      "\n",
      "I, I just woke up from a dream\n",
      "Where you and I had to say goodbye\n",
      "And I don't know what it all means\n",
      "But since I survived, I realized\n",
      "\n",
      "Wherever you go, that's where I'll follow\n",
      "Nobody's promised tomorrow\n",
      "So I'ma love you every night like it's the last night\n",
      "Like it's the last night\n",
      "\n",
      "If the world was ending\n",
      "I'd wanna be next to you\n",
      "If the party was over\n",
      "And our time on Earth was through\n",
      "I'd wanna hold you just for a while\n",
      "And die with a smile\n",
      "If the world was ending\n",
      "I'd wanna be next to you\n",
      "\n",
      "(Ooh, ooh)\n",
      "\n",
      "Ooh, lost, lost in the words that we scream\n",
      "I don't even wanna do this anymore\n",
      "'Cause you already know what you mean to me\n",
      "And our love's the only war worth fighting for\n",
      "\n",
      "Wherever you go, that's where I'll follow\n",
      "Nobody's promised tomorrow\n",
      "So I'ma love you every night like it's the last night\n",
      "Like it's the last night\n",
      "\n",
      "If the world was ending\n",
      "I'd wanna be next to you\n",
      "If the party was over\n",
      "And our time on Earth was through\n",
      "I'd wanna hold you just for a while\n",
      "And die with a smile\n",
      "If the world was ending\n",
      "I'd wanna be next to you\n",
      "\n",
      "Right next to you\n",
      "Next to you\n",
      "Right next to you\n",
      "Oh-oh\n",
      "If the world was ending\n",
      "I'd wanna be next to you\n",
      "If the party was over\n",
      "And our time on Earth was through\n",
      "I'd wanna hold you just for a while\n",
      "And die with a smile\n",
      "If the world was ending\n",
      "I'd wanna be next to you\n",
      "If the world was ending\n",
      "I'd wanna be next to you\n",
      "\n",
      "(Ooh, ooh)\n",
      "I'd wanna be next to you\n"
     ]
    }
   ],
   "source": [
    "print(get_song(raw[4][\"song\"], raw[4][\"artist\"]))"
   ]
  },
  {
   "cell_type": "code",
   "execution_count": 37,
   "metadata": {},
   "outputs": [],
   "source": [
    "#GET REQUEST TO THIS\n",
    "# https://api.lyrics.ovh/v1/Taylor Swift/Fortnight\n",
    "# COULD AVOID POTENTIALLY WEIRD ARTIFACTS?"
   ]
  },
  {
   "cell_type": "code",
   "execution_count": 38,
   "metadata": {},
   "outputs": [],
   "source": [
    "# https://api.lyrics.ovh/v1/Lady Gaga & Bruno Mars/Die With A Smile\n",
    "# DOESN'T WORK\n",
    "\n",
    "#BUT \n",
    "# https://api.lyrics.ovh/v1/Lady Gaga/Die With A Smile\n",
    "# WORKS"
   ]
  },
  {
   "cell_type": "code",
   "execution_count": 39,
   "metadata": {},
   "outputs": [
    {
     "name": "stdout",
     "output_type": "stream",
     "text": [
      "Searching for \"Taste\" by Sabrina Carpenter...\n",
      "Done.\n",
      "Oh, I leave quite an impression\n",
      "Five feet to be exact\n",
      "You're wonderin' why half his clothes went missin'\n",
      "My body's where they're at\n",
      "\n",
      "Now I'm gone, but you're still layin'\n",
      "Next to me, one degree of separation\n",
      "\n",
      "I heard you're back together and if that's true\n",
      "You'll just have to taste me when he's kissin' you\n",
      "If you want forever, and I bet you do\n",
      "Just know you'll taste me too\n",
      "\n",
      "Uh-huh\n",
      "\n",
      "He pins you down on the carpet\n",
      "Makes paintings with his tongue (La-la-la-la-la-la-la)\n",
      "Hе's funny now, all his jokes hit different\n",
      "Guеss who he learned that from?\n",
      "\n",
      "Now I'm gone, but you're still layin'\n",
      "Next to me, one degree of separation\n",
      "\n",
      "I heard you're back together and if that's true\n",
      "You'll just have to taste me when he's kissin' you\n",
      "If you want forever, and I bet you do (I bet you do)\n",
      "Just know you'll taste me too\n",
      "\n",
      "La-la-la-la-la-la-la\n",
      "\n",
      "Every time you close your eyes\n",
      "And feel his lips, you're feelin' mine\n",
      "And every time you breathe his air\n",
      "Just know I was already there\n",
      "You can have him if you like\n",
      "I've been there, done that once or twice\n",
      "And singin' 'bout it don't mean I care\n",
      "Yeah, I know I've been known to share\n",
      "\n",
      "Well, I heard you're back together and if that's true\n",
      "You'll just have to taste me when he's kissin' you\n",
      "If you want forever, and I bet you do (I bet you do)\n",
      "Just know you'll taste me too\n",
      "\n",
      "Taste me too, ow (La-la-la-la-la-la-la)\n",
      "You'll just have to taste me when he's kissin' you\n",
      "You, no, yeah, ah-ah (La-la-la-la-la-la-la)\n",
      "You'll just have to taste me when he's kissin' you\n"
     ]
    }
   ],
   "source": [
    "print(get_song(\"Taste\", \"Sabrina Carpenter\"))"
   ]
  },
  {
   "cell_type": "code",
   "execution_count": 40,
   "metadata": {},
   "outputs": [],
   "source": [
    "# I think the package might only misbehave for artist on tour and it follows the same pattern so a regex can remove"
   ]
  },
  {
   "cell_type": "code",
   "execution_count": 48,
   "metadata": {},
   "outputs": [
    {
     "name": "stdout",
     "output_type": "stream",
     "text": [
      "Searching for \"Mrs. Robinson\" by Simon...\n",
      "Done.\n",
      "Dee dee dee dee dee dee dee dee dee dee dee dee dee\n",
      "Doo doo doo doo doo doo doo doo doo\n",
      "Dee dee dee dee dee dee dee dee dee dee dee dee dee\n",
      "\n",
      "And here's to you, Mrs. Robinson\n",
      "Jesus loves you more than you will know\n",
      "Wo, wo, wo\n",
      "God bless you please, Mrs. Robinson\n",
      "Heaven holds a place for those who pray\n",
      "Hey, hey, hey\n",
      "Hey, hey, hey\n",
      "\n",
      "We'd like to know a little bit about you for our files\n",
      "We'd like to help you learn to help yourself\n",
      "Look around you, all you see are sympathetic eyes\n",
      "Stroll around the grounds until you feel at home\n",
      "\n",
      "And here's to you, Mrs. Robinson\n",
      "Jesus loves you more than you will know\n",
      "Wo, wo, wo\n",
      "God bless you please, Mrs. Robinson\n",
      "Heaven holds a place for those who pray\n",
      "Hey, hey, hey\n",
      "Hey, hey, hey\n",
      "\n",
      "Hide it in a hiding place where no one ever goes\n",
      "Put it in your pantry with your cupcakes\n",
      "It's a little secret, just the Robinsons' affair\n",
      "Most of all, you've got to hide it from the kids\n",
      "\n",
      "Coo, coo, ca-choo, Mrs. Robinson\n",
      "Jesus loves you more than you will know\n",
      "Wo, wo, wo\n",
      "God bless you please, Mrs. Robinson\n",
      "Heaven holds a place for those who pray\n",
      "Hey, hey, hey\n",
      "Hey, hey, hey\n",
      "\n",
      "Sitting on a sofa on a Sunday afternoon\n",
      "Going to the candidates debate\n",
      "Laugh about it, shout about it\n",
      "When you've got to choose\n",
      "Every way you look at it, you lose\n",
      "\n",
      "Where have you gone, Joe DiMaggio\n",
      "A nation turns its lonely eyes to you\n",
      "Woo, woo, woo\n",
      "What's that you say, Mrs. Robinson\n",
      "Joltin' Joe has left and gone away\n",
      "Hey, hey, hey\n",
      "Hey, hey, hey\n"
     ]
    }
   ],
   "source": [
    "print(get_song(\"Mrs. Robinson\", \"Simon\"))"
   ]
  },
  {
   "cell_type": "code",
   "execution_count": 42,
   "metadata": {},
   "outputs": [
    {
     "name": "stdout",
     "output_type": "stream",
     "text": [
      "Searching for \"360\" by Charli xcx...\n",
      "Done.\n",
      "115 ContributorsTranslationsPolskiEspañolDanskLatviešuLietuviųItalianoБеларускаяPortuguêsРусскийTürkçe한국어FrançaisΕλληνικάDeutschHebrew360 Lyrics\n",
      "I went my own way and I made it\n",
      "I'm your favorite reference, baby\n",
      "Call me Gabbriette, you're so inspired\n",
      "Ah, ah\n",
      "I'm tectonic, moves, I make 'em\n",
      "Shock you like defibrillators\n",
      "No style? I can't relate\n",
      "I'll always be the one, ah\n",
      "\n",
      "Drop down, yeah\n",
      "Put the camera flash on\n",
      "So stylish\n",
      "Baby tee is all gone\n",
      "Drop down, yeah\n",
      "Lookin' like an icon\n",
      "Work angles, yeah\n",
      "\n",
      "Yeah, 360\n",
      "When you're in the mirror, do you like what you see?\n",
      "When you're in the mirror, you're just looking at me\n",
      "I'm everywhere, I'm so Julia\n",
      "Ah-ah, ah\n",
      "When you're in the party b-b-bumpin' that beat\n",
      "666 with a princess streak\n",
      "I'm everywhere, I'm so Julia\n",
      "Ah-ah, ah\n",
      "See Charli xcx LiveGet tickets as low as $89You might also like\n",
      "Bumpin' that\n",
      "Bumpin' that\n",
      "Bumpin' that\n",
      "\n",
      "That city sewer slut's the vibe\n",
      "Internationally recognized\n",
      "I set the tone, it's my design\n",
      "And it's stuck in your mind\n",
      "Legacy is undebated\n",
      "You gon' jump if A. G. made it\n",
      "If you love it, if you hate it\n",
      "I don't fucking care what you think\n",
      "\n",
      "Drop down, yeah\n",
      "Put the camera flash on\n",
      "So stylish\n",
      "Baby tee is all gone\n",
      "Drop down, yeah\n",
      "Lookin' like an icon\n",
      "Work angles, yeah\n",
      "\n",
      "Yeah, 360\n",
      "When you're in the mirror, do you like what you see?\n",
      "When you're in the mirror, you're just looking at me\n",
      "I'm everywhere, I'm so Julia\n",
      "Ah-ah, ah\n",
      "When you're in the party b-b-bumpin' that beat\n",
      "666 with a princess streak\n",
      "I'm everywhere, I'm so Julia\n",
      "Ah-ah, ah\n",
      "Bumpin' that\n",
      "Bumpin' that\n",
      "Bumpin' that\n",
      "Ah-ah, ah\n",
      "Bumpin' that\n",
      "Bumpin' that\n",
      "Bumpin' that\n",
      "Ah-ah, ah8Embed\n"
     ]
    }
   ],
   "source": [
    "print(genius.search_song(title=\"360\", artist=\"Charli xcx\").lyrics)"
   ]
  },
  {
   "cell_type": "code",
   "execution_count": 43,
   "metadata": {},
   "outputs": [],
   "source": [
    "# what does it mean for a song to be from the 60s/70s/80s ...\n",
    "\n",
    "# can a classifier draw boundaries? what songs misbehave and why\n",
    "\n",
    "# case studies on artists - beyonce, taylor swift, lady gaga\n",
    "\n",
    "# gender and sexuality"
   ]
  },
  {
   "cell_type": "code",
   "execution_count": 44,
   "metadata": {},
   "outputs": [
    {
     "data": {
      "text/plain": [
       "{'song': 'El Paso',\n",
       " 'artist': 'Marty Robbins',\n",
       " 'this_week': 1,\n",
       " 'last_week': 2,\n",
       " 'peak_position': 1,\n",
       " 'weeks_on_chart': 9}"
      ]
     },
     "execution_count": 44,
     "metadata": {},
     "output_type": "execute_result"
    }
   ],
   "source": [
    "chart, raw = get_billboard_chart(\"1960-01-04\")\n",
    "raw[0]"
   ]
  },
  {
   "cell_type": "code",
   "execution_count": null,
   "metadata": {},
   "outputs": [],
   "source": []
  },
  {
   "cell_type": "code",
   "execution_count": 45,
   "metadata": {},
   "outputs": [
    {
     "name": "stdout",
     "output_type": "stream",
     "text": [
      "Searching for \"Yesterday\" by The Beatles...\n",
      "Done.\n",
      "Yesterday\n",
      "All my troubles seemed so far away\n",
      "Now it looks as though they're here to stay\n",
      "Oh, I believe in yesterday\n",
      "\n",
      "Suddenly\n",
      "I'm not half the man I used to be\n",
      "There's a shadow hanging over me\n",
      "Oh, yesterday came suddenly\n",
      "\n",
      "Why she had to go\n",
      "I don't know, she wouldn't say\n",
      "I said something wrong\n",
      "Now I long for yesterday\n",
      "\n",
      "Yesterday\n",
      "Love was such an easy game to play\n",
      "Now I need a place to hide away\n",
      "Oh, I believe in yesterday\n",
      "\n",
      "Why she had to go\n",
      "I don't know, she wouldn't say\n",
      "I said something wrong\n",
      "Now I long for yesterday\n",
      "\n",
      "Yesterday\n",
      "Love was such an easy game to play\n",
      "Now I need a place to hide away\n",
      "Oh, I believe in yesterday\n",
      "\n",
      "Mmm-mmm-mmm-mmm-mmm, hmm-hmm\n"
     ]
    }
   ],
   "source": [
    "print(get_song(\"Yesterday\", \"The Beatles\"))"
   ]
  },
  {
   "cell_type": "code",
   "execution_count": 46,
   "metadata": {},
   "outputs": [
    {
     "name": "stdout",
     "output_type": "stream",
     "text": [
      "Searching for \"El Paso\" by Marty Robbins...\n"
     ]
    },
    {
     "ename": "Timeout",
     "evalue": "Request timed out:\nHTTPSConnectionPool(host='genius.com', port=443): Read timed out. (read timeout=5)",
     "output_type": "error",
     "traceback": [
      "\u001b[1;31m---------------------------------------------------------------------------\u001b[0m",
      "\u001b[1;31mTimeoutError\u001b[0m                              Traceback (most recent call last)",
      "File \u001b[1;32mc:\\Users\\shaharyar\\AppData\\Local\\Programs\\Python\\Python312\\Lib\\site-packages\\urllib3\\connectionpool.py:467\u001b[0m, in \u001b[0;36mHTTPConnectionPool._make_request\u001b[1;34m(self, conn, method, url, timeout, chunked, **httplib_request_kw)\u001b[0m\n\u001b[0;32m    463\u001b[0m         \u001b[38;5;28;01mexcept\u001b[39;00m \u001b[38;5;167;01mBaseException\u001b[39;00m \u001b[38;5;28;01mas\u001b[39;00m e:\n\u001b[0;32m    464\u001b[0m             \u001b[38;5;66;03m# Remove the TypeError from the exception chain in\u001b[39;00m\n\u001b[0;32m    465\u001b[0m             \u001b[38;5;66;03m# Python 3 (including for exceptions like SystemExit).\u001b[39;00m\n\u001b[0;32m    466\u001b[0m             \u001b[38;5;66;03m# Otherwise it looks like a bug in the code.\u001b[39;00m\n\u001b[1;32m--> 467\u001b[0m             \u001b[43msix\u001b[49m\u001b[38;5;241;43m.\u001b[39;49m\u001b[43mraise_from\u001b[49m\u001b[43m(\u001b[49m\u001b[43me\u001b[49m\u001b[43m,\u001b[49m\u001b[43m \u001b[49m\u001b[38;5;28;43;01mNone\u001b[39;49;00m\u001b[43m)\u001b[49m\n\u001b[0;32m    468\u001b[0m \u001b[38;5;28;01mexcept\u001b[39;00m (SocketTimeout, BaseSSLError, SocketError) \u001b[38;5;28;01mas\u001b[39;00m e:\n",
      "File \u001b[1;32m<string>:3\u001b[0m, in \u001b[0;36mraise_from\u001b[1;34m(value, from_value)\u001b[0m\n",
      "File \u001b[1;32mc:\\Users\\shaharyar\\AppData\\Local\\Programs\\Python\\Python312\\Lib\\site-packages\\urllib3\\connectionpool.py:462\u001b[0m, in \u001b[0;36mHTTPConnectionPool._make_request\u001b[1;34m(self, conn, method, url, timeout, chunked, **httplib_request_kw)\u001b[0m\n\u001b[0;32m    461\u001b[0m \u001b[38;5;28;01mtry\u001b[39;00m:\n\u001b[1;32m--> 462\u001b[0m     httplib_response \u001b[38;5;241m=\u001b[39m \u001b[43mconn\u001b[49m\u001b[38;5;241;43m.\u001b[39;49m\u001b[43mgetresponse\u001b[49m\u001b[43m(\u001b[49m\u001b[43m)\u001b[49m\n\u001b[0;32m    463\u001b[0m \u001b[38;5;28;01mexcept\u001b[39;00m \u001b[38;5;167;01mBaseException\u001b[39;00m \u001b[38;5;28;01mas\u001b[39;00m e:\n\u001b[0;32m    464\u001b[0m     \u001b[38;5;66;03m# Remove the TypeError from the exception chain in\u001b[39;00m\n\u001b[0;32m    465\u001b[0m     \u001b[38;5;66;03m# Python 3 (including for exceptions like SystemExit).\u001b[39;00m\n\u001b[0;32m    466\u001b[0m     \u001b[38;5;66;03m# Otherwise it looks like a bug in the code.\u001b[39;00m\n",
      "File \u001b[1;32mc:\\Users\\shaharyar\\AppData\\Local\\Programs\\Python\\Python312\\Lib\\http\\client.py:1428\u001b[0m, in \u001b[0;36mHTTPConnection.getresponse\u001b[1;34m(self)\u001b[0m\n\u001b[0;32m   1427\u001b[0m \u001b[38;5;28;01mtry\u001b[39;00m:\n\u001b[1;32m-> 1428\u001b[0m     \u001b[43mresponse\u001b[49m\u001b[38;5;241;43m.\u001b[39;49m\u001b[43mbegin\u001b[49m\u001b[43m(\u001b[49m\u001b[43m)\u001b[49m\n\u001b[0;32m   1429\u001b[0m \u001b[38;5;28;01mexcept\u001b[39;00m \u001b[38;5;167;01mConnectionError\u001b[39;00m:\n",
      "File \u001b[1;32mc:\\Users\\shaharyar\\AppData\\Local\\Programs\\Python\\Python312\\Lib\\http\\client.py:331\u001b[0m, in \u001b[0;36mHTTPResponse.begin\u001b[1;34m(self)\u001b[0m\n\u001b[0;32m    330\u001b[0m \u001b[38;5;28;01mwhile\u001b[39;00m \u001b[38;5;28;01mTrue\u001b[39;00m:\n\u001b[1;32m--> 331\u001b[0m     version, status, reason \u001b[38;5;241m=\u001b[39m \u001b[38;5;28;43mself\u001b[39;49m\u001b[38;5;241;43m.\u001b[39;49m\u001b[43m_read_status\u001b[49m\u001b[43m(\u001b[49m\u001b[43m)\u001b[49m\n\u001b[0;32m    332\u001b[0m     \u001b[38;5;28;01mif\u001b[39;00m status \u001b[38;5;241m!=\u001b[39m CONTINUE:\n",
      "File \u001b[1;32mc:\\Users\\shaharyar\\AppData\\Local\\Programs\\Python\\Python312\\Lib\\http\\client.py:292\u001b[0m, in \u001b[0;36mHTTPResponse._read_status\u001b[1;34m(self)\u001b[0m\n\u001b[0;32m    291\u001b[0m \u001b[38;5;28;01mdef\u001b[39;00m \u001b[38;5;21m_read_status\u001b[39m(\u001b[38;5;28mself\u001b[39m):\n\u001b[1;32m--> 292\u001b[0m     line \u001b[38;5;241m=\u001b[39m \u001b[38;5;28mstr\u001b[39m(\u001b[38;5;28;43mself\u001b[39;49m\u001b[38;5;241;43m.\u001b[39;49m\u001b[43mfp\u001b[49m\u001b[38;5;241;43m.\u001b[39;49m\u001b[43mreadline\u001b[49m\u001b[43m(\u001b[49m\u001b[43m_MAXLINE\u001b[49m\u001b[43m \u001b[49m\u001b[38;5;241;43m+\u001b[39;49m\u001b[43m \u001b[49m\u001b[38;5;241;43m1\u001b[39;49m\u001b[43m)\u001b[49m, \u001b[38;5;124m\"\u001b[39m\u001b[38;5;124miso-8859-1\u001b[39m\u001b[38;5;124m\"\u001b[39m)\n\u001b[0;32m    293\u001b[0m     \u001b[38;5;28;01mif\u001b[39;00m \u001b[38;5;28mlen\u001b[39m(line) \u001b[38;5;241m>\u001b[39m _MAXLINE:\n",
      "File \u001b[1;32mc:\\Users\\shaharyar\\AppData\\Local\\Programs\\Python\\Python312\\Lib\\socket.py:708\u001b[0m, in \u001b[0;36mSocketIO.readinto\u001b[1;34m(self, b)\u001b[0m\n\u001b[0;32m    707\u001b[0m \u001b[38;5;28;01mtry\u001b[39;00m:\n\u001b[1;32m--> 708\u001b[0m     \u001b[38;5;28;01mreturn\u001b[39;00m \u001b[38;5;28;43mself\u001b[39;49m\u001b[38;5;241;43m.\u001b[39;49m\u001b[43m_sock\u001b[49m\u001b[38;5;241;43m.\u001b[39;49m\u001b[43mrecv_into\u001b[49m\u001b[43m(\u001b[49m\u001b[43mb\u001b[49m\u001b[43m)\u001b[49m\n\u001b[0;32m    709\u001b[0m \u001b[38;5;28;01mexcept\u001b[39;00m timeout:\n",
      "File \u001b[1;32mc:\\Users\\shaharyar\\AppData\\Local\\Programs\\Python\\Python312\\Lib\\ssl.py:1252\u001b[0m, in \u001b[0;36mSSLSocket.recv_into\u001b[1;34m(self, buffer, nbytes, flags)\u001b[0m\n\u001b[0;32m   1249\u001b[0m         \u001b[38;5;28;01mraise\u001b[39;00m \u001b[38;5;167;01mValueError\u001b[39;00m(\n\u001b[0;32m   1250\u001b[0m           \u001b[38;5;124m\"\u001b[39m\u001b[38;5;124mnon-zero flags not allowed in calls to recv_into() on \u001b[39m\u001b[38;5;132;01m%s\u001b[39;00m\u001b[38;5;124m\"\u001b[39m \u001b[38;5;241m%\u001b[39m\n\u001b[0;32m   1251\u001b[0m           \u001b[38;5;28mself\u001b[39m\u001b[38;5;241m.\u001b[39m\u001b[38;5;18m__class__\u001b[39m)\n\u001b[1;32m-> 1252\u001b[0m     \u001b[38;5;28;01mreturn\u001b[39;00m \u001b[38;5;28;43mself\u001b[39;49m\u001b[38;5;241;43m.\u001b[39;49m\u001b[43mread\u001b[49m\u001b[43m(\u001b[49m\u001b[43mnbytes\u001b[49m\u001b[43m,\u001b[49m\u001b[43m \u001b[49m\u001b[43mbuffer\u001b[49m\u001b[43m)\u001b[49m\n\u001b[0;32m   1253\u001b[0m \u001b[38;5;28;01melse\u001b[39;00m:\n",
      "File \u001b[1;32mc:\\Users\\shaharyar\\AppData\\Local\\Programs\\Python\\Python312\\Lib\\ssl.py:1104\u001b[0m, in \u001b[0;36mSSLSocket.read\u001b[1;34m(self, len, buffer)\u001b[0m\n\u001b[0;32m   1103\u001b[0m \u001b[38;5;28;01mif\u001b[39;00m buffer \u001b[38;5;129;01mis\u001b[39;00m \u001b[38;5;129;01mnot\u001b[39;00m \u001b[38;5;28;01mNone\u001b[39;00m:\n\u001b[1;32m-> 1104\u001b[0m     \u001b[38;5;28;01mreturn\u001b[39;00m \u001b[38;5;28;43mself\u001b[39;49m\u001b[38;5;241;43m.\u001b[39;49m\u001b[43m_sslobj\u001b[49m\u001b[38;5;241;43m.\u001b[39;49m\u001b[43mread\u001b[49m\u001b[43m(\u001b[49m\u001b[38;5;28;43mlen\u001b[39;49m\u001b[43m,\u001b[49m\u001b[43m \u001b[49m\u001b[43mbuffer\u001b[49m\u001b[43m)\u001b[49m\n\u001b[0;32m   1105\u001b[0m \u001b[38;5;28;01melse\u001b[39;00m:\n",
      "\u001b[1;31mTimeoutError\u001b[0m: The read operation timed out",
      "\nDuring handling of the above exception, another exception occurred:\n",
      "\u001b[1;31mReadTimeoutError\u001b[0m                          Traceback (most recent call last)",
      "File \u001b[1;32mc:\\Users\\shaharyar\\AppData\\Local\\Programs\\Python\\Python312\\Lib\\site-packages\\requests\\adapters.py:667\u001b[0m, in \u001b[0;36mHTTPAdapter.send\u001b[1;34m(self, request, stream, timeout, verify, cert, proxies)\u001b[0m\n\u001b[0;32m    666\u001b[0m \u001b[38;5;28;01mtry\u001b[39;00m:\n\u001b[1;32m--> 667\u001b[0m     resp \u001b[38;5;241m=\u001b[39m \u001b[43mconn\u001b[49m\u001b[38;5;241;43m.\u001b[39;49m\u001b[43murlopen\u001b[49m\u001b[43m(\u001b[49m\n\u001b[0;32m    668\u001b[0m \u001b[43m        \u001b[49m\u001b[43mmethod\u001b[49m\u001b[38;5;241;43m=\u001b[39;49m\u001b[43mrequest\u001b[49m\u001b[38;5;241;43m.\u001b[39;49m\u001b[43mmethod\u001b[49m\u001b[43m,\u001b[49m\n\u001b[0;32m    669\u001b[0m \u001b[43m        \u001b[49m\u001b[43murl\u001b[49m\u001b[38;5;241;43m=\u001b[39;49m\u001b[43murl\u001b[49m\u001b[43m,\u001b[49m\n\u001b[0;32m    670\u001b[0m \u001b[43m        \u001b[49m\u001b[43mbody\u001b[49m\u001b[38;5;241;43m=\u001b[39;49m\u001b[43mrequest\u001b[49m\u001b[38;5;241;43m.\u001b[39;49m\u001b[43mbody\u001b[49m\u001b[43m,\u001b[49m\n\u001b[0;32m    671\u001b[0m \u001b[43m        \u001b[49m\u001b[43mheaders\u001b[49m\u001b[38;5;241;43m=\u001b[39;49m\u001b[43mrequest\u001b[49m\u001b[38;5;241;43m.\u001b[39;49m\u001b[43mheaders\u001b[49m\u001b[43m,\u001b[49m\n\u001b[0;32m    672\u001b[0m \u001b[43m        \u001b[49m\u001b[43mredirect\u001b[49m\u001b[38;5;241;43m=\u001b[39;49m\u001b[38;5;28;43;01mFalse\u001b[39;49;00m\u001b[43m,\u001b[49m\n\u001b[0;32m    673\u001b[0m \u001b[43m        \u001b[49m\u001b[43massert_same_host\u001b[49m\u001b[38;5;241;43m=\u001b[39;49m\u001b[38;5;28;43;01mFalse\u001b[39;49;00m\u001b[43m,\u001b[49m\n\u001b[0;32m    674\u001b[0m \u001b[43m        \u001b[49m\u001b[43mpreload_content\u001b[49m\u001b[38;5;241;43m=\u001b[39;49m\u001b[38;5;28;43;01mFalse\u001b[39;49;00m\u001b[43m,\u001b[49m\n\u001b[0;32m    675\u001b[0m \u001b[43m        \u001b[49m\u001b[43mdecode_content\u001b[49m\u001b[38;5;241;43m=\u001b[39;49m\u001b[38;5;28;43;01mFalse\u001b[39;49;00m\u001b[43m,\u001b[49m\n\u001b[0;32m    676\u001b[0m \u001b[43m        \u001b[49m\u001b[43mretries\u001b[49m\u001b[38;5;241;43m=\u001b[39;49m\u001b[38;5;28;43mself\u001b[39;49m\u001b[38;5;241;43m.\u001b[39;49m\u001b[43mmax_retries\u001b[49m\u001b[43m,\u001b[49m\n\u001b[0;32m    677\u001b[0m \u001b[43m        \u001b[49m\u001b[43mtimeout\u001b[49m\u001b[38;5;241;43m=\u001b[39;49m\u001b[43mtimeout\u001b[49m\u001b[43m,\u001b[49m\n\u001b[0;32m    678\u001b[0m \u001b[43m        \u001b[49m\u001b[43mchunked\u001b[49m\u001b[38;5;241;43m=\u001b[39;49m\u001b[43mchunked\u001b[49m\u001b[43m,\u001b[49m\n\u001b[0;32m    679\u001b[0m \u001b[43m    \u001b[49m\u001b[43m)\u001b[49m\n\u001b[0;32m    681\u001b[0m \u001b[38;5;28;01mexcept\u001b[39;00m (ProtocolError, \u001b[38;5;167;01mOSError\u001b[39;00m) \u001b[38;5;28;01mas\u001b[39;00m err:\n",
      "File \u001b[1;32mc:\\Users\\shaharyar\\AppData\\Local\\Programs\\Python\\Python312\\Lib\\site-packages\\urllib3\\connectionpool.py:801\u001b[0m, in \u001b[0;36mHTTPConnectionPool.urlopen\u001b[1;34m(self, method, url, body, headers, retries, redirect, assert_same_host, timeout, pool_timeout, release_conn, chunked, body_pos, **response_kw)\u001b[0m\n\u001b[0;32m    799\u001b[0m     e \u001b[38;5;241m=\u001b[39m ProtocolError(\u001b[38;5;124m\"\u001b[39m\u001b[38;5;124mConnection aborted.\u001b[39m\u001b[38;5;124m\"\u001b[39m, e)\n\u001b[1;32m--> 801\u001b[0m retries \u001b[38;5;241m=\u001b[39m \u001b[43mretries\u001b[49m\u001b[38;5;241;43m.\u001b[39;49m\u001b[43mincrement\u001b[49m\u001b[43m(\u001b[49m\n\u001b[0;32m    802\u001b[0m \u001b[43m    \u001b[49m\u001b[43mmethod\u001b[49m\u001b[43m,\u001b[49m\u001b[43m \u001b[49m\u001b[43murl\u001b[49m\u001b[43m,\u001b[49m\u001b[43m \u001b[49m\u001b[43merror\u001b[49m\u001b[38;5;241;43m=\u001b[39;49m\u001b[43me\u001b[49m\u001b[43m,\u001b[49m\u001b[43m \u001b[49m\u001b[43m_pool\u001b[49m\u001b[38;5;241;43m=\u001b[39;49m\u001b[38;5;28;43mself\u001b[39;49m\u001b[43m,\u001b[49m\u001b[43m \u001b[49m\u001b[43m_stacktrace\u001b[49m\u001b[38;5;241;43m=\u001b[39;49m\u001b[43msys\u001b[49m\u001b[38;5;241;43m.\u001b[39;49m\u001b[43mexc_info\u001b[49m\u001b[43m(\u001b[49m\u001b[43m)\u001b[49m\u001b[43m[\u001b[49m\u001b[38;5;241;43m2\u001b[39;49m\u001b[43m]\u001b[49m\n\u001b[0;32m    803\u001b[0m \u001b[43m\u001b[49m\u001b[43m)\u001b[49m\n\u001b[0;32m    804\u001b[0m retries\u001b[38;5;241m.\u001b[39msleep()\n",
      "File \u001b[1;32mc:\\Users\\shaharyar\\AppData\\Local\\Programs\\Python\\Python312\\Lib\\site-packages\\urllib3\\util\\retry.py:552\u001b[0m, in \u001b[0;36mRetry.increment\u001b[1;34m(self, method, url, response, error, _pool, _stacktrace)\u001b[0m\n\u001b[0;32m    551\u001b[0m \u001b[38;5;28;01mif\u001b[39;00m read \u001b[38;5;129;01mis\u001b[39;00m \u001b[38;5;28;01mFalse\u001b[39;00m \u001b[38;5;129;01mor\u001b[39;00m \u001b[38;5;129;01mnot\u001b[39;00m \u001b[38;5;28mself\u001b[39m\u001b[38;5;241m.\u001b[39m_is_method_retryable(method):\n\u001b[1;32m--> 552\u001b[0m     \u001b[38;5;28;01mraise\u001b[39;00m \u001b[43msix\u001b[49m\u001b[38;5;241;43m.\u001b[39;49m\u001b[43mreraise\u001b[49m\u001b[43m(\u001b[49m\u001b[38;5;28;43mtype\u001b[39;49m\u001b[43m(\u001b[49m\u001b[43merror\u001b[49m\u001b[43m)\u001b[49m\u001b[43m,\u001b[49m\u001b[43m \u001b[49m\u001b[43merror\u001b[49m\u001b[43m,\u001b[49m\u001b[43m \u001b[49m\u001b[43m_stacktrace\u001b[49m\u001b[43m)\u001b[49m\n\u001b[0;32m    553\u001b[0m \u001b[38;5;28;01melif\u001b[39;00m read \u001b[38;5;129;01mis\u001b[39;00m \u001b[38;5;129;01mnot\u001b[39;00m \u001b[38;5;28;01mNone\u001b[39;00m:\n",
      "File \u001b[1;32mc:\\Users\\shaharyar\\AppData\\Local\\Programs\\Python\\Python312\\Lib\\site-packages\\urllib3\\packages\\six.py:770\u001b[0m, in \u001b[0;36mreraise\u001b[1;34m(tp, value, tb)\u001b[0m\n\u001b[0;32m    769\u001b[0m         \u001b[38;5;28;01mraise\u001b[39;00m value\u001b[38;5;241m.\u001b[39mwith_traceback(tb)\n\u001b[1;32m--> 770\u001b[0m     \u001b[38;5;28;01mraise\u001b[39;00m value\n\u001b[0;32m    771\u001b[0m \u001b[38;5;28;01mfinally\u001b[39;00m:\n",
      "File \u001b[1;32mc:\\Users\\shaharyar\\AppData\\Local\\Programs\\Python\\Python312\\Lib\\site-packages\\urllib3\\connectionpool.py:715\u001b[0m, in \u001b[0;36mHTTPConnectionPool.urlopen\u001b[1;34m(self, method, url, body, headers, retries, redirect, assert_same_host, timeout, pool_timeout, release_conn, chunked, body_pos, **response_kw)\u001b[0m\n\u001b[0;32m    714\u001b[0m \u001b[38;5;66;03m# Make the request on the httplib connection object.\u001b[39;00m\n\u001b[1;32m--> 715\u001b[0m httplib_response \u001b[38;5;241m=\u001b[39m \u001b[38;5;28;43mself\u001b[39;49m\u001b[38;5;241;43m.\u001b[39;49m\u001b[43m_make_request\u001b[49m\u001b[43m(\u001b[49m\n\u001b[0;32m    716\u001b[0m \u001b[43m    \u001b[49m\u001b[43mconn\u001b[49m\u001b[43m,\u001b[49m\n\u001b[0;32m    717\u001b[0m \u001b[43m    \u001b[49m\u001b[43mmethod\u001b[49m\u001b[43m,\u001b[49m\n\u001b[0;32m    718\u001b[0m \u001b[43m    \u001b[49m\u001b[43murl\u001b[49m\u001b[43m,\u001b[49m\n\u001b[0;32m    719\u001b[0m \u001b[43m    \u001b[49m\u001b[43mtimeout\u001b[49m\u001b[38;5;241;43m=\u001b[39;49m\u001b[43mtimeout_obj\u001b[49m\u001b[43m,\u001b[49m\n\u001b[0;32m    720\u001b[0m \u001b[43m    \u001b[49m\u001b[43mbody\u001b[49m\u001b[38;5;241;43m=\u001b[39;49m\u001b[43mbody\u001b[49m\u001b[43m,\u001b[49m\n\u001b[0;32m    721\u001b[0m \u001b[43m    \u001b[49m\u001b[43mheaders\u001b[49m\u001b[38;5;241;43m=\u001b[39;49m\u001b[43mheaders\u001b[49m\u001b[43m,\u001b[49m\n\u001b[0;32m    722\u001b[0m \u001b[43m    \u001b[49m\u001b[43mchunked\u001b[49m\u001b[38;5;241;43m=\u001b[39;49m\u001b[43mchunked\u001b[49m\u001b[43m,\u001b[49m\n\u001b[0;32m    723\u001b[0m \u001b[43m\u001b[49m\u001b[43m)\u001b[49m\n\u001b[0;32m    725\u001b[0m \u001b[38;5;66;03m# If we're going to release the connection in ``finally:``, then\u001b[39;00m\n\u001b[0;32m    726\u001b[0m \u001b[38;5;66;03m# the response doesn't need to know about the connection. Otherwise\u001b[39;00m\n\u001b[0;32m    727\u001b[0m \u001b[38;5;66;03m# it will also try to release it and we'll have a double-release\u001b[39;00m\n\u001b[0;32m    728\u001b[0m \u001b[38;5;66;03m# mess.\u001b[39;00m\n",
      "File \u001b[1;32mc:\\Users\\shaharyar\\AppData\\Local\\Programs\\Python\\Python312\\Lib\\site-packages\\urllib3\\connectionpool.py:469\u001b[0m, in \u001b[0;36mHTTPConnectionPool._make_request\u001b[1;34m(self, conn, method, url, timeout, chunked, **httplib_request_kw)\u001b[0m\n\u001b[0;32m    468\u001b[0m \u001b[38;5;28;01mexcept\u001b[39;00m (SocketTimeout, BaseSSLError, SocketError) \u001b[38;5;28;01mas\u001b[39;00m e:\n\u001b[1;32m--> 469\u001b[0m     \u001b[38;5;28;43mself\u001b[39;49m\u001b[38;5;241;43m.\u001b[39;49m\u001b[43m_raise_timeout\u001b[49m\u001b[43m(\u001b[49m\u001b[43merr\u001b[49m\u001b[38;5;241;43m=\u001b[39;49m\u001b[43me\u001b[49m\u001b[43m,\u001b[49m\u001b[43m \u001b[49m\u001b[43murl\u001b[49m\u001b[38;5;241;43m=\u001b[39;49m\u001b[43murl\u001b[49m\u001b[43m,\u001b[49m\u001b[43m \u001b[49m\u001b[43mtimeout_value\u001b[49m\u001b[38;5;241;43m=\u001b[39;49m\u001b[43mread_timeout\u001b[49m\u001b[43m)\u001b[49m\n\u001b[0;32m    470\u001b[0m     \u001b[38;5;28;01mraise\u001b[39;00m\n",
      "File \u001b[1;32mc:\\Users\\shaharyar\\AppData\\Local\\Programs\\Python\\Python312\\Lib\\site-packages\\urllib3\\connectionpool.py:358\u001b[0m, in \u001b[0;36mHTTPConnectionPool._raise_timeout\u001b[1;34m(self, err, url, timeout_value)\u001b[0m\n\u001b[0;32m    357\u001b[0m \u001b[38;5;28;01mif\u001b[39;00m \u001b[38;5;28misinstance\u001b[39m(err, SocketTimeout):\n\u001b[1;32m--> 358\u001b[0m     \u001b[38;5;28;01mraise\u001b[39;00m ReadTimeoutError(\n\u001b[0;32m    359\u001b[0m         \u001b[38;5;28mself\u001b[39m, url, \u001b[38;5;124m\"\u001b[39m\u001b[38;5;124mRead timed out. (read timeout=\u001b[39m\u001b[38;5;132;01m%s\u001b[39;00m\u001b[38;5;124m)\u001b[39m\u001b[38;5;124m\"\u001b[39m \u001b[38;5;241m%\u001b[39m timeout_value\n\u001b[0;32m    360\u001b[0m     )\n\u001b[0;32m    362\u001b[0m \u001b[38;5;66;03m# See the above comment about EAGAIN in Python 3. In Python 2 we have\u001b[39;00m\n\u001b[0;32m    363\u001b[0m \u001b[38;5;66;03m# to specifically catch it and throw the timeout error\u001b[39;00m\n",
      "\u001b[1;31mReadTimeoutError\u001b[0m: HTTPSConnectionPool(host='genius.com', port=443): Read timed out. (read timeout=5)",
      "\nDuring handling of the above exception, another exception occurred:\n",
      "\u001b[1;31mReadTimeout\u001b[0m                               Traceback (most recent call last)",
      "File \u001b[1;32mc:\\Users\\shaharyar\\AppData\\Local\\Programs\\Python\\Python312\\Lib\\site-packages\\lyricsgenius\\api\\base.py:75\u001b[0m, in \u001b[0;36mSender._make_request\u001b[1;34m(self, path, method, params_, public_api, web, **kwargs)\u001b[0m\n\u001b[0;32m     74\u001b[0m \u001b[38;5;28;01mtry\u001b[39;00m:\n\u001b[1;32m---> 75\u001b[0m     response \u001b[38;5;241m=\u001b[39m \u001b[38;5;28;43mself\u001b[39;49m\u001b[38;5;241;43m.\u001b[39;49m\u001b[43m_session\u001b[49m\u001b[38;5;241;43m.\u001b[39;49m\u001b[43mrequest\u001b[49m\u001b[43m(\u001b[49m\u001b[43mmethod\u001b[49m\u001b[43m,\u001b[49m\u001b[43m \u001b[49m\u001b[43muri\u001b[49m\u001b[43m,\u001b[49m\n\u001b[0;32m     76\u001b[0m \u001b[43m                                     \u001b[49m\u001b[43mtimeout\u001b[49m\u001b[38;5;241;43m=\u001b[39;49m\u001b[38;5;28;43mself\u001b[39;49m\u001b[38;5;241;43m.\u001b[39;49m\u001b[43mtimeout\u001b[49m\u001b[43m,\u001b[49m\n\u001b[0;32m     77\u001b[0m \u001b[43m                                     \u001b[49m\u001b[43mparams\u001b[49m\u001b[38;5;241;43m=\u001b[39;49m\u001b[43mparams_\u001b[49m\u001b[43m,\u001b[49m\n\u001b[0;32m     78\u001b[0m \u001b[43m                                     \u001b[49m\u001b[43mheaders\u001b[49m\u001b[38;5;241;43m=\u001b[39;49m\u001b[43mheader\u001b[49m\u001b[43m,\u001b[49m\n\u001b[0;32m     79\u001b[0m \u001b[43m                                     \u001b[49m\u001b[38;5;241;43m*\u001b[39;49m\u001b[38;5;241;43m*\u001b[39;49m\u001b[43mkwargs\u001b[49m\u001b[43m)\u001b[49m\n\u001b[0;32m     80\u001b[0m     response\u001b[38;5;241m.\u001b[39mraise_for_status()\n",
      "File \u001b[1;32mc:\\Users\\shaharyar\\AppData\\Local\\Programs\\Python\\Python312\\Lib\\site-packages\\requests\\sessions.py:589\u001b[0m, in \u001b[0;36mSession.request\u001b[1;34m(self, method, url, params, data, headers, cookies, files, auth, timeout, allow_redirects, proxies, hooks, stream, verify, cert, json)\u001b[0m\n\u001b[0;32m    588\u001b[0m send_kwargs\u001b[38;5;241m.\u001b[39mupdate(settings)\n\u001b[1;32m--> 589\u001b[0m resp \u001b[38;5;241m=\u001b[39m \u001b[38;5;28;43mself\u001b[39;49m\u001b[38;5;241;43m.\u001b[39;49m\u001b[43msend\u001b[49m\u001b[43m(\u001b[49m\u001b[43mprep\u001b[49m\u001b[43m,\u001b[49m\u001b[43m \u001b[49m\u001b[38;5;241;43m*\u001b[39;49m\u001b[38;5;241;43m*\u001b[39;49m\u001b[43msend_kwargs\u001b[49m\u001b[43m)\u001b[49m\n\u001b[0;32m    591\u001b[0m \u001b[38;5;28;01mreturn\u001b[39;00m resp\n",
      "File \u001b[1;32mc:\\Users\\shaharyar\\AppData\\Local\\Programs\\Python\\Python312\\Lib\\site-packages\\requests\\sessions.py:703\u001b[0m, in \u001b[0;36mSession.send\u001b[1;34m(self, request, **kwargs)\u001b[0m\n\u001b[0;32m    702\u001b[0m \u001b[38;5;66;03m# Send the request\u001b[39;00m\n\u001b[1;32m--> 703\u001b[0m r \u001b[38;5;241m=\u001b[39m \u001b[43madapter\u001b[49m\u001b[38;5;241;43m.\u001b[39;49m\u001b[43msend\u001b[49m\u001b[43m(\u001b[49m\u001b[43mrequest\u001b[49m\u001b[43m,\u001b[49m\u001b[43m \u001b[49m\u001b[38;5;241;43m*\u001b[39;49m\u001b[38;5;241;43m*\u001b[39;49m\u001b[43mkwargs\u001b[49m\u001b[43m)\u001b[49m\n\u001b[0;32m    705\u001b[0m \u001b[38;5;66;03m# Total elapsed time of the request (approximately)\u001b[39;00m\n",
      "File \u001b[1;32mc:\\Users\\shaharyar\\AppData\\Local\\Programs\\Python\\Python312\\Lib\\site-packages\\requests\\adapters.py:713\u001b[0m, in \u001b[0;36mHTTPAdapter.send\u001b[1;34m(self, request, stream, timeout, verify, cert, proxies)\u001b[0m\n\u001b[0;32m    712\u001b[0m \u001b[38;5;28;01melif\u001b[39;00m \u001b[38;5;28misinstance\u001b[39m(e, ReadTimeoutError):\n\u001b[1;32m--> 713\u001b[0m     \u001b[38;5;28;01mraise\u001b[39;00m ReadTimeout(e, request\u001b[38;5;241m=\u001b[39mrequest)\n\u001b[0;32m    714\u001b[0m \u001b[38;5;28;01melif\u001b[39;00m \u001b[38;5;28misinstance\u001b[39m(e, _InvalidHeader):\n",
      "\u001b[1;31mReadTimeout\u001b[0m: HTTPSConnectionPool(host='genius.com', port=443): Read timed out. (read timeout=5)",
      "\nDuring handling of the above exception, another exception occurred:\n",
      "\u001b[1;31mTimeout\u001b[0m                                   Traceback (most recent call last)",
      "Cell \u001b[1;32mIn[46], line 1\u001b[0m\n\u001b[1;32m----> 1\u001b[0m \u001b[38;5;28mprint\u001b[39m(\u001b[43mget_song\u001b[49m\u001b[43m(\u001b[49m\u001b[43mraw\u001b[49m\u001b[43m[\u001b[49m\u001b[38;5;241;43m0\u001b[39;49m\u001b[43m]\u001b[49m\u001b[43m[\u001b[49m\u001b[38;5;124;43m\"\u001b[39;49m\u001b[38;5;124;43msong\u001b[39;49m\u001b[38;5;124;43m\"\u001b[39;49m\u001b[43m]\u001b[49m\u001b[43m,\u001b[49m\u001b[43m \u001b[49m\u001b[43mraw\u001b[49m\u001b[43m[\u001b[49m\u001b[38;5;241;43m0\u001b[39;49m\u001b[43m]\u001b[49m\u001b[43m[\u001b[49m\u001b[38;5;124;43m\"\u001b[39;49m\u001b[38;5;124;43martist\u001b[39;49m\u001b[38;5;124;43m\"\u001b[39;49m\u001b[43m]\u001b[49m\u001b[43m)\u001b[49m)\n",
      "Cell \u001b[1;32mIn[34], line 2\u001b[0m, in \u001b[0;36mget_song\u001b[1;34m(name, artist)\u001b[0m\n\u001b[0;32m      1\u001b[0m \u001b[38;5;28;01mdef\u001b[39;00m \u001b[38;5;21mget_song\u001b[39m(name, artist\u001b[38;5;241m=\u001b[39m\u001b[38;5;28;01mNone\u001b[39;00m):\n\u001b[1;32m----> 2\u001b[0m     song \u001b[38;5;241m=\u001b[39m \u001b[43mgenius\u001b[49m\u001b[38;5;241;43m.\u001b[39;49m\u001b[43msearch_song\u001b[49m\u001b[43m(\u001b[49m\u001b[43mname\u001b[49m\u001b[43m,\u001b[49m\u001b[43m \u001b[49m\u001b[43martist\u001b[49m\u001b[43m)\u001b[49m \u001b[38;5;28;01mif\u001b[39;00m artist \u001b[38;5;28;01melse\u001b[39;00m genius\u001b[38;5;241m.\u001b[39msearch_song(name)\n\u001b[0;32m      3\u001b[0m     \u001b[38;5;28;01mreturn\u001b[39;00m re\u001b[38;5;241m.\u001b[39msub(pattern, \u001b[38;5;124m'\u001b[39m\u001b[38;5;124m'\u001b[39m, song\u001b[38;5;241m.\u001b[39mlyrics, flags\u001b[38;5;241m=\u001b[39mre\u001b[38;5;241m.\u001b[39mMULTILINE)\n",
      "File \u001b[1;32mc:\\Users\\shaharyar\\AppData\\Local\\Programs\\Python\\Python312\\Lib\\site-packages\\lyricsgenius\\genius.py:436\u001b[0m, in \u001b[0;36mGenius.search_song\u001b[1;34m(self, title, artist, song_id, get_full_info)\u001b[0m\n\u001b[0;32m    432\u001b[0m     song_info\u001b[38;5;241m.\u001b[39mupdate(new_info)\n\u001b[0;32m    434\u001b[0m \u001b[38;5;28;01mif\u001b[39;00m (song_info[\u001b[38;5;124m'\u001b[39m\u001b[38;5;124mlyrics_state\u001b[39m\u001b[38;5;124m'\u001b[39m] \u001b[38;5;241m==\u001b[39m \u001b[38;5;124m'\u001b[39m\u001b[38;5;124mcomplete\u001b[39m\u001b[38;5;124m'\u001b[39m\n\u001b[0;32m    435\u001b[0m         \u001b[38;5;129;01mand\u001b[39;00m \u001b[38;5;129;01mnot\u001b[39;00m song_info\u001b[38;5;241m.\u001b[39mget(\u001b[38;5;124m'\u001b[39m\u001b[38;5;124minstrumental\u001b[39m\u001b[38;5;124m'\u001b[39m)):\n\u001b[1;32m--> 436\u001b[0m     lyrics \u001b[38;5;241m=\u001b[39m \u001b[38;5;28;43mself\u001b[39;49m\u001b[38;5;241;43m.\u001b[39;49m\u001b[43mlyrics\u001b[49m\u001b[43m(\u001b[49m\u001b[43msong_url\u001b[49m\u001b[38;5;241;43m=\u001b[39;49m\u001b[43msong_info\u001b[49m\u001b[43m[\u001b[49m\u001b[38;5;124;43m'\u001b[39;49m\u001b[38;5;124;43murl\u001b[39;49m\u001b[38;5;124;43m'\u001b[39;49m\u001b[43m]\u001b[49m\u001b[43m)\u001b[49m\n\u001b[0;32m    437\u001b[0m \u001b[38;5;28;01melse\u001b[39;00m:\n\u001b[0;32m    438\u001b[0m     lyrics \u001b[38;5;241m=\u001b[39m \u001b[38;5;124m\"\u001b[39m\u001b[38;5;124m\"\u001b[39m\n",
      "File \u001b[1;32mc:\\Users\\shaharyar\\AppData\\Local\\Programs\\Python\\Python312\\Lib\\site-packages\\lyricsgenius\\genius.py:132\u001b[0m, in \u001b[0;36mGenius.lyrics\u001b[1;34m(self, song_id, song_url, remove_section_headers)\u001b[0m\n\u001b[0;32m    128\u001b[0m     path \u001b[38;5;241m=\u001b[39m \u001b[38;5;28mself\u001b[39m\u001b[38;5;241m.\u001b[39msong(song_id)[\u001b[38;5;124m'\u001b[39m\u001b[38;5;124msong\u001b[39m\u001b[38;5;124m'\u001b[39m][\u001b[38;5;124m'\u001b[39m\u001b[38;5;124mpath\u001b[39m\u001b[38;5;124m'\u001b[39m][\u001b[38;5;241m1\u001b[39m:]\n\u001b[0;32m    130\u001b[0m \u001b[38;5;66;03m# Scrape the song lyrics from the HTML\u001b[39;00m\n\u001b[0;32m    131\u001b[0m html \u001b[38;5;241m=\u001b[39m BeautifulSoup(\n\u001b[1;32m--> 132\u001b[0m     \u001b[38;5;28;43mself\u001b[39;49m\u001b[38;5;241;43m.\u001b[39;49m\u001b[43m_make_request\u001b[49m\u001b[43m(\u001b[49m\u001b[43mpath\u001b[49m\u001b[43m,\u001b[49m\u001b[43m \u001b[49m\u001b[43mweb\u001b[49m\u001b[38;5;241;43m=\u001b[39;49m\u001b[38;5;28;43;01mTrue\u001b[39;49;00m\u001b[43m)\u001b[49m\u001b[38;5;241m.\u001b[39mreplace(\u001b[38;5;124m'\u001b[39m\u001b[38;5;124m<br/>\u001b[39m\u001b[38;5;124m'\u001b[39m, \u001b[38;5;124m'\u001b[39m\u001b[38;5;130;01m\\n\u001b[39;00m\u001b[38;5;124m'\u001b[39m),\n\u001b[0;32m    133\u001b[0m     \u001b[38;5;124m\"\u001b[39m\u001b[38;5;124mhtml.parser\u001b[39m\u001b[38;5;124m\"\u001b[39m\n\u001b[0;32m    134\u001b[0m )\n\u001b[0;32m    136\u001b[0m \u001b[38;5;66;03m# Determine the class of the div\u001b[39;00m\n\u001b[0;32m    137\u001b[0m div \u001b[38;5;241m=\u001b[39m html\u001b[38;5;241m.\u001b[39mfind(\u001b[38;5;124m\"\u001b[39m\u001b[38;5;124mdiv\u001b[39m\u001b[38;5;124m\"\u001b[39m, class_\u001b[38;5;241m=\u001b[39mre\u001b[38;5;241m.\u001b[39mcompile(\u001b[38;5;124m\"\u001b[39m\u001b[38;5;124m^lyrics$|Lyrics__Root\u001b[39m\u001b[38;5;124m\"\u001b[39m))\n",
      "File \u001b[1;32mc:\\Users\\shaharyar\\AppData\\Local\\Programs\\Python\\Python312\\Lib\\site-packages\\lyricsgenius\\api\\base.py:84\u001b[0m, in \u001b[0;36mSender._make_request\u001b[1;34m(self, path, method, params_, public_api, web, **kwargs)\u001b[0m\n\u001b[0;32m     82\u001b[0m     error \u001b[38;5;241m=\u001b[39m \u001b[38;5;124m\"\u001b[39m\u001b[38;5;124mRequest timed out:\u001b[39m\u001b[38;5;130;01m\\n\u001b[39;00m\u001b[38;5;132;01m{e}\u001b[39;00m\u001b[38;5;124m\"\u001b[39m\u001b[38;5;241m.\u001b[39mformat(e\u001b[38;5;241m=\u001b[39me)\n\u001b[0;32m     83\u001b[0m     \u001b[38;5;28;01mif\u001b[39;00m tries \u001b[38;5;241m>\u001b[39m \u001b[38;5;28mself\u001b[39m\u001b[38;5;241m.\u001b[39mretries:\n\u001b[1;32m---> 84\u001b[0m         \u001b[38;5;28;01mraise\u001b[39;00m Timeout(error)\n\u001b[0;32m     85\u001b[0m \u001b[38;5;28;01mexcept\u001b[39;00m HTTPError \u001b[38;5;28;01mas\u001b[39;00m e:\n\u001b[0;32m     86\u001b[0m     error \u001b[38;5;241m=\u001b[39m get_description(e)\n",
      "\u001b[1;31mTimeout\u001b[0m: Request timed out:\nHTTPSConnectionPool(host='genius.com', port=443): Read timed out. (read timeout=5)"
     ]
    }
   ],
   "source": [
    "print(get_song(raw[0][\"song\"], raw[0][\"artist\"]))"
   ]
  },
  {
   "cell_type": "code",
   "execution_count": 23,
   "metadata": {},
   "outputs": [],
   "source": [
    "# the api works too\n",
    "\n",
    "# use the spotify api to get their extra metadata"
   ]
  },
  {
   "cell_type": "code",
   "execution_count": 24,
   "metadata": {},
   "outputs": [],
   "source": [
    "# Song of the Year/\n",
    "# Canonization\n",
    "\n",
    "# Songwriting as a cultural artifact instead of ostensible 'literature'\n",
    "\n",
    "# instrumentalness\n",
    "\n",
    "# correlate danceability, energy, speechiness, liveness, etc. with the trends in songwriting?\n",
    "# https://developer.spotify.com/documentation/web-api/reference/get-audio-features"
   ]
  },
  {
   "cell_type": "code",
   "execution_count": null,
   "metadata": {},
   "outputs": [],
   "source": [
    "print(get_song(name=\"Shallow\", artist=\"Lady Gaga & Bradley Cooper\"))"
   ]
  },
  {
   "cell_type": "code",
   "execution_count": null,
   "metadata": {},
   "outputs": [],
   "source": []
  }
 ],
 "metadata": {
  "kernelspec": {
   "display_name": "Python 3",
   "language": "python",
   "name": "python3"
  },
  "language_info": {
   "codemirror_mode": {
    "name": "ipython",
    "version": 3
   },
   "file_extension": ".py",
   "mimetype": "text/x-python",
   "name": "python",
   "nbconvert_exporter": "python",
   "pygments_lexer": "ipython3",
   "version": "3.12.4"
  }
 },
 "nbformat": 4,
 "nbformat_minor": 2
}
